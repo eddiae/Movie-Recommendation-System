{
 "cells": [
  {
   "cell_type": "markdown",
   "metadata": {},
   "source": [
    "# Exploratory analysis on weighted directed user graph"
   ]
  },
  {
   "cell_type": "markdown",
   "metadata": {},
   "source": [
    "1. Read users: [all the movies the user has rated] file. (Input)\n",
    "2. Create weighted directed graph G(V,E).\n",
    "3. V = user_id and E = if the two users rated the same movie.\n",
    "4. E(i->j) weight = (intersection of movies rated by i and j)/(movie rated by user i)\n",
    "5. Find active users using PageRank.\n",
    "\n",
    "The weighted directed G(V,E) has edges between users that denote the proportion of movies that the two users have rated in common with respect to the total number of movies they have rated by themselves. Hence, higher edge weight indicates that the users have rated pretty much the same subset of movies. However, we can't infer anything about the preferences of the users from here since the graph doesn't take into account the rating given by them to the movies that they've reviewed. So, we look for users with more number of overlaps with its neighbours and can be categorised as \"active\" i.e. having higher PageRank."
   ]
  },
  {
   "cell_type": "code",
   "execution_count": 1,
   "metadata": {},
   "outputs": [
    {
     "name": "stderr",
     "output_type": "stream",
     "text": [
      "Loading required package: foreach\n",
      "Loading required package: iterators\n",
      "Loading required package: parallel\n",
      "\n",
      "Attaching package: 'igraph'\n",
      "\n",
      "The following object is masked from 'package:Kmisc':\n",
      "\n",
      "    tree\n",
      "\n",
      "The following objects are masked from 'package:stats':\n",
      "\n",
      "    decompose, spectrum\n",
      "\n",
      "The following object is masked from 'package:base':\n",
      "\n",
      "    union\n",
      "\n",
      "\n",
      "Attaching package: 'data.table'\n",
      "\n",
      "The following object is masked from 'package:Kmisc':\n",
      "\n",
      "    transpose\n",
      "\n"
     ]
    }
   ],
   "source": [
    "#import required libraries\n",
    "library(doMC)\n",
    "library(Kmisc)\n",
    "library(igraph)\n",
    "library(data.table)\n",
    "registerDoMC(8)"
   ]
  },
  {
   "cell_type": "code",
   "execution_count": 2,
   "metadata": {},
   "outputs": [
    {
     "name": "stdout",
     "output_type": "stream",
     "text": [
      "The number of nodes:  943\n",
      "The number of edges:  858220"
     ]
    }
   ],
   "source": [
    "#set path\n",
    "setwd(\"C:/Users/VishankBhatia/Desktop/FellowshipAI/MovieRecomSys\")\n",
    "\n",
    "#reading WD graph data\n",
    "data_list <-read.table(file=\"./FINAL/data/wd_um_graph.txt\", header = FALSE, sep = \"\\t\", quote=\"\", dec = \".\")\n",
    "\n",
    "#building WD user movie graph\n",
    "colnames(data_list) = c(\"node_1\", \"node_2\", \"weight\")\n",
    "wd_graph <- graph.data.frame(data_list,directed = TRUE)\n",
    "\n",
    "#graph properties\n",
    "cat(\"The number of nodes: \", vcount(wd_graph))\n",
    "cat(\"\\nThe number of edges: \", ecount(wd_graph))\n",
    "\n",
    "#computing pagerank for vertices\n",
    "wd_pagerank = page.rank(wd_graph, directed = T, damping = 0.85)"
   ]
  },
  {
   "cell_type": "code",
   "execution_count": 3,
   "metadata": {},
   "outputs": [],
   "source": [
    "#top users having highest pagerank\n",
    "top_users = sort(wd_pagerank$vector, decreasing = T, index.return = T)\n",
    "\n",
    "#top active users\n",
    "top_user_id = matrix(names(top_users$x[1:943]), nrow=943, ncol=1)\n",
    "\n",
    "#pagerank of top active users\n",
    "top_user_pg = matrix(as.numeric(top_users$x[1:943]), nrow=943, ncol=1)\n",
    "\n",
    "#top active user_id - pagerank\n",
    "topactive_user = cbind(top_user_id,top_user_pg)"
   ]
  },
  {
   "cell_type": "code",
   "execution_count": 4,
   "metadata": {},
   "outputs": [],
   "source": [
    "#top10\n",
    "top10_user_id = matrix(names(top_users$x[1:10]), nrow=10, ncol=1)\n",
    "top10_user_pg = matrix(as.numeric(top_users$x[1:10]), nrow=10, ncol=1)\n",
    "topactive10_user = cbind(top10_user_id,top10_user_pg)\n",
    "\n",
    "#top100\n",
    "top100_user_id = matrix(names(top_users$x[1:100]), nrow=100, ncol=1)\n",
    "top100_user_pg = matrix(as.numeric(top_users$x[1:100]), nrow=100, ncol=1)\n",
    "topactive100_user = cbind(top100_user_id,top100_user_pg)\n",
    "\n",
    "#top300\n",
    "top300_user_id = matrix(names(top_users$x[1:300]), nrow=300, ncol=1)\n",
    "top300_user_pg = matrix(as.numeric(top_users$x[1:300]), nrow=300, ncol=1)\n",
    "topactive300_user = cbind(top300_user_id,top300_user_pg)\n",
    "\n",
    "#top500\n",
    "top500_user_id = matrix(names(top_users$x[1:500]), nrow=500, ncol=1)\n",
    "top500_user_pg = matrix(as.numeric(top_users$x[1:500]), nrow=500, ncol=1)\n",
    "topactive500_user = cbind(top500_user_id,top500_user_pg)"
   ]
  },
  {
   "cell_type": "code",
   "execution_count": 5,
   "metadata": {},
   "outputs": [],
   "source": [
    "#write the top active user information to file\n",
    "write.table(topactive_user, file=\"./FINAL/data/top943userpg.txt\", row.names=FALSE, col.names=FALSE, sep = \"\\t\")\n",
    "write.table(topactive100_user, file=\"./FINAL/data/top100userpg.txt\", row.names=FALSE, col.names=FALSE, sep = \"\\t\")\n",
    "write.table(topactive300_user, file=\"./FINAL/data/top300userpg.txt\", row.names=FALSE, col.names=FALSE, sep = \"\\t\")\n",
    "write.table(topactive500_user, file=\"./FINAL/data/top500userpg.txt\", row.names=FALSE, col.names=FALSE, sep = \"\\t\")"
   ]
  },
  {
   "cell_type": "code",
   "execution_count": 6,
   "metadata": {},
   "outputs": [],
   "source": [
    "#get.edge.ids(graph, vp, directed = TRUE, error = FALSE, multi = FALSE)\n",
    "fil = degree(wd_graph, v = top_user_id, mode = c(\"all\", \"out\", \"in\", \"total\"),loops = FALSE, normalized = FALSE)"
   ]
  },
  {
   "cell_type": "code",
   "execution_count": 7,
   "metadata": {},
   "outputs": [
    {
     "data": {
      "text/html": [
       "<strong>png:</strong> 2"
      ],
      "text/latex": [
       "\\textbf{png:} 2"
      ],
      "text/markdown": [
       "**png:** 2"
      ],
      "text/plain": [
       "png \n",
       "  2 "
      ]
     },
     "metadata": {},
     "output_type": "display_data"
    }
   ],
   "source": [
    "ndColor = rep(\"lightblue\",vcount(induced_subgraph(wd_graph,top10_user_id)))\n",
    "ndSize = rep(0, vcount(induced_subgraph(wd_graph,top10_user_id)))\n",
    "name = paste(\"./FINAL/top10\",\".png\",sep=\"\")\n",
    "png(name)\n",
    "plot(induced_subgraph(wd_graph,top10_user_id), vertex.size=ndSize , asp = 9/16, edge.color = \"grey\", layout=layout.fruchterman.reingold)\n",
    "dev.off()"
   ]
  },
  {
   "cell_type": "markdown",
   "metadata": {},
   "source": [
    "Since PageRank is directly proportional to the number of edges of a node i.e. degree of a node, higher PageRank would imply more edges to and from the user node indicating a greater commonality in terms of the movies rated by the user and others. We'll further use a subset of these PageRank values (of users) as additional features in predicting a movie's ratings (for those users)."
   ]
  }
 ],
 "metadata": {
  "kernelspec": {
   "display_name": "R [conda env:renv]",
   "language": "R",
   "name": "conda-env-renv-r"
  },
  "language_info": {
   "codemirror_mode": "r",
   "file_extension": ".r",
   "mimetype": "text/x-r-source",
   "name": "R",
   "pygments_lexer": "r",
   "version": "3.4.3"
  }
 },
 "nbformat": 4,
 "nbformat_minor": 2
}
