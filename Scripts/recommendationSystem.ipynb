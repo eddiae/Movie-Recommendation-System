{
 "cells": [
  {
   "cell_type": "markdown",
   "metadata": {},
   "source": [
    "# Recommender System using MovieLens Dataset"
   ]
  },
  {
   "cell_type": "markdown",
   "metadata": {},
   "source": [
    "importing all required libraries"
   ]
  },
  {
   "cell_type": "code",
   "execution_count": 1,
   "metadata": {},
   "outputs": [],
   "source": [
    "import re\n",
    "import ast\n",
    "import time\n",
    "import heapq\n",
    "import decimal\n",
    "import operator\n",
    "import subprocess\n",
    "import numpy as np\n",
    "import scipy as sp\n",
    "import pandas as pd\n",
    "import seaborn as sns\n",
    "import networkx as nx\n",
    "import rpy2.robjects as ro\n",
    "from itertools import islice\n",
    "import matplotlib.pyplot as plt\n",
    "from datetime import datetime\n",
    "from collections import Counter\n",
    "from operator import itemgetter\n",
    "from collections import OrderedDict\n",
    "from networkx.algorithms import community\n",
    "from rpy2.robjects.packages import importr\n",
    "from sklearn.datasets import make_regression\n",
    "from sklearn import datasets, linear_model,tree\n",
    "from surprise.model_selection import cross_validate, KFold\n",
    "from sklearn.feature_extraction.text import TfidfVectorizer\n",
    "from surprise import Reader, Dataset, SVD, evaluate, accuracy\n",
    "from sklearn.metrics.pairwise import linear_kernel, cosine_similarity\n",
    "from sklearn.metrics import r2_score, confusion_matrix, accuracy_score\n",
    "from sklearn.model_selection import train_test_split, cross_val_score, cross_val_predict\n",
    "%matplotlib inline"
   ]
  },
  {
   "cell_type": "markdown",
   "metadata": {},
   "source": [
    "loading user profile from u.user to user_info dataframe"
   ]
  },
  {
   "cell_type": "code",
   "execution_count": 2,
   "metadata": {},
   "outputs": [
    {
     "data": {
      "text/html": [
       "<div>\n",
       "<style>\n",
       "    .dataframe thead tr:only-child th {\n",
       "        text-align: right;\n",
       "    }\n",
       "\n",
       "    .dataframe thead th {\n",
       "        text-align: left;\n",
       "    }\n",
       "\n",
       "    .dataframe tbody tr th {\n",
       "        vertical-align: top;\n",
       "    }\n",
       "</style>\n",
       "<table border=\"1\" class=\"dataframe\">\n",
       "  <thead>\n",
       "    <tr style=\"text-align: right;\">\n",
       "      <th></th>\n",
       "      <th>user_id</th>\n",
       "      <th>age</th>\n",
       "      <th>gender</th>\n",
       "      <th>occupation</th>\n",
       "      <th>zip_code</th>\n",
       "    </tr>\n",
       "  </thead>\n",
       "  <tbody>\n",
       "    <tr>\n",
       "      <th>0</th>\n",
       "      <td>1</td>\n",
       "      <td>24</td>\n",
       "      <td>M</td>\n",
       "      <td>technician</td>\n",
       "      <td>85711</td>\n",
       "    </tr>\n",
       "    <tr>\n",
       "      <th>1</th>\n",
       "      <td>2</td>\n",
       "      <td>53</td>\n",
       "      <td>F</td>\n",
       "      <td>other</td>\n",
       "      <td>94043</td>\n",
       "    </tr>\n",
       "    <tr>\n",
       "      <th>2</th>\n",
       "      <td>3</td>\n",
       "      <td>23</td>\n",
       "      <td>M</td>\n",
       "      <td>writer</td>\n",
       "      <td>32067</td>\n",
       "    </tr>\n",
       "    <tr>\n",
       "      <th>3</th>\n",
       "      <td>4</td>\n",
       "      <td>24</td>\n",
       "      <td>M</td>\n",
       "      <td>technician</td>\n",
       "      <td>43537</td>\n",
       "    </tr>\n",
       "    <tr>\n",
       "      <th>4</th>\n",
       "      <td>5</td>\n",
       "      <td>33</td>\n",
       "      <td>F</td>\n",
       "      <td>other</td>\n",
       "      <td>15213</td>\n",
       "    </tr>\n",
       "  </tbody>\n",
       "</table>\n",
       "</div>"
      ],
      "text/plain": [
       "   user_id  age gender  occupation zip_code\n",
       "0        1   24      M  technician    85711\n",
       "1        2   53      F       other    94043\n",
       "2        3   23      M      writer    32067\n",
       "3        4   24      M  technician    43537\n",
       "4        5   33      F       other    15213"
      ]
     },
     "execution_count": 2,
     "metadata": {},
     "output_type": "execute_result"
    }
   ],
   "source": [
    "userCols = ['user_id', 'age', 'gender', 'occupation', 'zip_code']\n",
    "users_info = pd.read_csv('ml-100k/u.user', sep='|', names=userCols)\n",
    "users_info.head(5)"
   ]
  },
  {
   "cell_type": "markdown",
   "metadata": {},
   "source": [
    "loading movie profile from u.item to movie_info dataframe"
   ]
  },
  {
   "cell_type": "code",
   "execution_count": 3,
   "metadata": {},
   "outputs": [
    {
     "data": {
      "text/html": [
       "<div>\n",
       "<style>\n",
       "    .dataframe thead tr:only-child th {\n",
       "        text-align: right;\n",
       "    }\n",
       "\n",
       "    .dataframe thead th {\n",
       "        text-align: left;\n",
       "    }\n",
       "\n",
       "    .dataframe tbody tr th {\n",
       "        vertical-align: top;\n",
       "    }\n",
       "</style>\n",
       "<table border=\"1\" class=\"dataframe\">\n",
       "  <thead>\n",
       "    <tr style=\"text-align: right;\">\n",
       "      <th></th>\n",
       "      <th>movie_id</th>\n",
       "      <th>movie_title</th>\n",
       "      <th>release_date</th>\n",
       "      <th>video_release_date</th>\n",
       "      <th>imdb_url</th>\n",
       "      <th>unknown</th>\n",
       "      <th>action</th>\n",
       "      <th>adventure</th>\n",
       "      <th>animation</th>\n",
       "      <th>children</th>\n",
       "      <th>...</th>\n",
       "      <th>fantasy</th>\n",
       "      <th>film-noir</th>\n",
       "      <th>horror</th>\n",
       "      <th>musical</th>\n",
       "      <th>mystery</th>\n",
       "      <th>romance</th>\n",
       "      <th>sci-fi</th>\n",
       "      <th>thriller</th>\n",
       "      <th>war</th>\n",
       "      <th>western</th>\n",
       "    </tr>\n",
       "  </thead>\n",
       "  <tbody>\n",
       "    <tr>\n",
       "      <th>0</th>\n",
       "      <td>1</td>\n",
       "      <td>Toy Story (1995)</td>\n",
       "      <td>01-Jan-1995</td>\n",
       "      <td>empty</td>\n",
       "      <td>http://us.imdb.com/M/title-exact?Toy%20Story%2...</td>\n",
       "      <td>0</td>\n",
       "      <td>0</td>\n",
       "      <td>0</td>\n",
       "      <td>1</td>\n",
       "      <td>1</td>\n",
       "      <td>...</td>\n",
       "      <td>0</td>\n",
       "      <td>0</td>\n",
       "      <td>0</td>\n",
       "      <td>0</td>\n",
       "      <td>0</td>\n",
       "      <td>0</td>\n",
       "      <td>0</td>\n",
       "      <td>0</td>\n",
       "      <td>0</td>\n",
       "      <td>0</td>\n",
       "    </tr>\n",
       "    <tr>\n",
       "      <th>1</th>\n",
       "      <td>2</td>\n",
       "      <td>GoldenEye (1995)</td>\n",
       "      <td>01-Jan-1995</td>\n",
       "      <td>empty</td>\n",
       "      <td>http://us.imdb.com/M/title-exact?GoldenEye%20(...</td>\n",
       "      <td>0</td>\n",
       "      <td>1</td>\n",
       "      <td>1</td>\n",
       "      <td>0</td>\n",
       "      <td>0</td>\n",
       "      <td>...</td>\n",
       "      <td>0</td>\n",
       "      <td>0</td>\n",
       "      <td>0</td>\n",
       "      <td>0</td>\n",
       "      <td>0</td>\n",
       "      <td>0</td>\n",
       "      <td>0</td>\n",
       "      <td>1</td>\n",
       "      <td>0</td>\n",
       "      <td>0</td>\n",
       "    </tr>\n",
       "    <tr>\n",
       "      <th>2</th>\n",
       "      <td>3</td>\n",
       "      <td>Four Rooms (1995)</td>\n",
       "      <td>01-Jan-1995</td>\n",
       "      <td>empty</td>\n",
       "      <td>http://us.imdb.com/M/title-exact?Four%20Rooms%...</td>\n",
       "      <td>0</td>\n",
       "      <td>0</td>\n",
       "      <td>0</td>\n",
       "      <td>0</td>\n",
       "      <td>0</td>\n",
       "      <td>...</td>\n",
       "      <td>0</td>\n",
       "      <td>0</td>\n",
       "      <td>0</td>\n",
       "      <td>0</td>\n",
       "      <td>0</td>\n",
       "      <td>0</td>\n",
       "      <td>0</td>\n",
       "      <td>1</td>\n",
       "      <td>0</td>\n",
       "      <td>0</td>\n",
       "    </tr>\n",
       "    <tr>\n",
       "      <th>3</th>\n",
       "      <td>4</td>\n",
       "      <td>Get Shorty (1995)</td>\n",
       "      <td>01-Jan-1995</td>\n",
       "      <td>empty</td>\n",
       "      <td>http://us.imdb.com/M/title-exact?Get%20Shorty%...</td>\n",
       "      <td>0</td>\n",
       "      <td>1</td>\n",
       "      <td>0</td>\n",
       "      <td>0</td>\n",
       "      <td>0</td>\n",
       "      <td>...</td>\n",
       "      <td>0</td>\n",
       "      <td>0</td>\n",
       "      <td>0</td>\n",
       "      <td>0</td>\n",
       "      <td>0</td>\n",
       "      <td>0</td>\n",
       "      <td>0</td>\n",
       "      <td>0</td>\n",
       "      <td>0</td>\n",
       "      <td>0</td>\n",
       "    </tr>\n",
       "    <tr>\n",
       "      <th>4</th>\n",
       "      <td>5</td>\n",
       "      <td>Copycat (1995)</td>\n",
       "      <td>01-Jan-1995</td>\n",
       "      <td>empty</td>\n",
       "      <td>http://us.imdb.com/M/title-exact?Copycat%20(1995)</td>\n",
       "      <td>0</td>\n",
       "      <td>0</td>\n",
       "      <td>0</td>\n",
       "      <td>0</td>\n",
       "      <td>0</td>\n",
       "      <td>...</td>\n",
       "      <td>0</td>\n",
       "      <td>0</td>\n",
       "      <td>0</td>\n",
       "      <td>0</td>\n",
       "      <td>0</td>\n",
       "      <td>0</td>\n",
       "      <td>0</td>\n",
       "      <td>1</td>\n",
       "      <td>0</td>\n",
       "      <td>0</td>\n",
       "    </tr>\n",
       "  </tbody>\n",
       "</table>\n",
       "<p>5 rows × 24 columns</p>\n",
       "</div>"
      ],
      "text/plain": [
       "   movie_id        movie_title release_date video_release_date  \\\n",
       "0         1   Toy Story (1995)  01-Jan-1995              empty   \n",
       "1         2   GoldenEye (1995)  01-Jan-1995              empty   \n",
       "2         3  Four Rooms (1995)  01-Jan-1995              empty   \n",
       "3         4  Get Shorty (1995)  01-Jan-1995              empty   \n",
       "4         5     Copycat (1995)  01-Jan-1995              empty   \n",
       "\n",
       "                                            imdb_url  unknown  action  \\\n",
       "0  http://us.imdb.com/M/title-exact?Toy%20Story%2...        0       0   \n",
       "1  http://us.imdb.com/M/title-exact?GoldenEye%20(...        0       1   \n",
       "2  http://us.imdb.com/M/title-exact?Four%20Rooms%...        0       0   \n",
       "3  http://us.imdb.com/M/title-exact?Get%20Shorty%...        0       1   \n",
       "4  http://us.imdb.com/M/title-exact?Copycat%20(1995)        0       0   \n",
       "\n",
       "   adventure  animation  children   ...     fantasy  film-noir  horror  \\\n",
       "0          0          1         1   ...           0          0       0   \n",
       "1          1          0         0   ...           0          0       0   \n",
       "2          0          0         0   ...           0          0       0   \n",
       "3          0          0         0   ...           0          0       0   \n",
       "4          0          0         0   ...           0          0       0   \n",
       "\n",
       "   musical  mystery  romance  sci-fi  thriller  war  western  \n",
       "0        0        0        0       0         0    0        0  \n",
       "1        0        0        0       0         1    0        0  \n",
       "2        0        0        0       0         1    0        0  \n",
       "3        0        0        0       0         0    0        0  \n",
       "4        0        0        0       0         1    0        0  \n",
       "\n",
       "[5 rows x 24 columns]"
      ]
     },
     "execution_count": 3,
     "metadata": {},
     "output_type": "execute_result"
    }
   ],
   "source": [
    "with open('./ml-100k/u.item') as content:\n",
    "    mCols = ['movie_id', 'movie_title', 'release_date', 'video_release_date', 'imdb_url']\n",
    "    genres = ['unknown', 'action', 'adventure', 'animation', 'children', 'comedy', 'crime', 'documentary', 'drama', 'fantasy', \n",
    "          'film-noir',  'horror', 'musical', 'mystery', 'romance', 'sci-fi', 'thriller', 'war', 'western']\n",
    "    mColsG = mCols + genres\n",
    "    movies_info = pd.DataFrame(columns=mColsG)\n",
    "    i = 0\n",
    "    for x in content:\n",
    "        x = x.split(\"|\")\n",
    "        x[-1] = x[-1][:-1]\n",
    "        if x[1][-1] == ' ':\n",
    "            x[1] = x[1][:-1]\n",
    "        movies_info.loc[i] = [word if word!='' else \"empty\" for word in x]\n",
    "        i = i + 1\n",
    "movies_info['movie_id'] = movies_info['movie_id'].astype('int64')\n",
    "movies_info[genres] = movies_info[genres].astype('int64')\n",
    "movies_info.head(5)"
   ]
  },
  {
   "cell_type": "markdown",
   "metadata": {},
   "source": [
    "remove video_release_date since column values are empty"
   ]
  },
  {
   "cell_type": "code",
   "execution_count": 4,
   "metadata": {},
   "outputs": [],
   "source": [
    "if 'video_release_date' in movies_info.columns:\n",
    "    movies_info = movies_info.drop('video_release_date', axis=1)"
   ]
  },
  {
   "cell_type": "markdown",
   "metadata": {},
   "source": [
    "creating movie profile with '|' separated genres"
   ]
  },
  {
   "cell_type": "code",
   "execution_count": 5,
   "metadata": {},
   "outputs": [
    {
     "data": {
      "text/html": [
       "<div>\n",
       "<style>\n",
       "    .dataframe thead tr:only-child th {\n",
       "        text-align: right;\n",
       "    }\n",
       "\n",
       "    .dataframe thead th {\n",
       "        text-align: left;\n",
       "    }\n",
       "\n",
       "    .dataframe tbody tr th {\n",
       "        vertical-align: top;\n",
       "    }\n",
       "</style>\n",
       "<table border=\"1\" class=\"dataframe\">\n",
       "  <thead>\n",
       "    <tr style=\"text-align: right;\">\n",
       "      <th></th>\n",
       "      <th>movie_id</th>\n",
       "      <th>movie_title</th>\n",
       "      <th>release_date</th>\n",
       "      <th>imdb_url</th>\n",
       "      <th>genre_names</th>\n",
       "    </tr>\n",
       "  </thead>\n",
       "  <tbody>\n",
       "    <tr>\n",
       "      <th>0</th>\n",
       "      <td>1</td>\n",
       "      <td>Toy Story (1995)</td>\n",
       "      <td>01-Jan-1995</td>\n",
       "      <td>http://us.imdb.com/M/title-exact?Toy%20Story%2...</td>\n",
       "      <td>animation|children|comedy</td>\n",
       "    </tr>\n",
       "    <tr>\n",
       "      <th>1</th>\n",
       "      <td>2</td>\n",
       "      <td>GoldenEye (1995)</td>\n",
       "      <td>01-Jan-1995</td>\n",
       "      <td>http://us.imdb.com/M/title-exact?GoldenEye%20(...</td>\n",
       "      <td>action|adventure|thriller</td>\n",
       "    </tr>\n",
       "    <tr>\n",
       "      <th>2</th>\n",
       "      <td>3</td>\n",
       "      <td>Four Rooms (1995)</td>\n",
       "      <td>01-Jan-1995</td>\n",
       "      <td>http://us.imdb.com/M/title-exact?Four%20Rooms%...</td>\n",
       "      <td>thriller</td>\n",
       "    </tr>\n",
       "    <tr>\n",
       "      <th>3</th>\n",
       "      <td>4</td>\n",
       "      <td>Get Shorty (1995)</td>\n",
       "      <td>01-Jan-1995</td>\n",
       "      <td>http://us.imdb.com/M/title-exact?Get%20Shorty%...</td>\n",
       "      <td>action|comedy|drama</td>\n",
       "    </tr>\n",
       "    <tr>\n",
       "      <th>4</th>\n",
       "      <td>5</td>\n",
       "      <td>Copycat (1995)</td>\n",
       "      <td>01-Jan-1995</td>\n",
       "      <td>http://us.imdb.com/M/title-exact?Copycat%20(1995)</td>\n",
       "      <td>crime|drama|thriller</td>\n",
       "    </tr>\n",
       "  </tbody>\n",
       "</table>\n",
       "</div>"
      ],
      "text/plain": [
       "   movie_id        movie_title release_date  \\\n",
       "0         1   Toy Story (1995)  01-Jan-1995   \n",
       "1         2   GoldenEye (1995)  01-Jan-1995   \n",
       "2         3  Four Rooms (1995)  01-Jan-1995   \n",
       "3         4  Get Shorty (1995)  01-Jan-1995   \n",
       "4         5     Copycat (1995)  01-Jan-1995   \n",
       "\n",
       "                                            imdb_url  \\\n",
       "0  http://us.imdb.com/M/title-exact?Toy%20Story%2...   \n",
       "1  http://us.imdb.com/M/title-exact?GoldenEye%20(...   \n",
       "2  http://us.imdb.com/M/title-exact?Four%20Rooms%...   \n",
       "3  http://us.imdb.com/M/title-exact?Get%20Shorty%...   \n",
       "4  http://us.imdb.com/M/title-exact?Copycat%20(1995)   \n",
       "\n",
       "                 genre_names  \n",
       "0  animation|children|comedy  \n",
       "1  action|adventure|thriller  \n",
       "2                   thriller  \n",
       "3        action|comedy|drama  \n",
       "4       crime|drama|thriller  "
      ]
     },
     "execution_count": 5,
     "metadata": {},
     "output_type": "execute_result"
    }
   ],
   "source": [
    "movies_genres = movies_info.copy()\n",
    "named = []\n",
    "for i in range(0,len(movies_genres)):\n",
    "    genre = \"\"\n",
    "    for column in movies_genres.columns[5:]: \n",
    "        if (movies_genres.iloc[i][column] == 1):\n",
    "            genre = genre + column + '|'\n",
    "    genre = genre[:-1]\n",
    "    named.append(genre)\n",
    "movies_genres['genre_names'] = named\n",
    "movies_genres['genre_names'] = movies_genres['genre_names'].astype('str')\n",
    "movies_genres = movies_genres.drop(movies_genres.columns[list(range(4,23))], axis=1) \n",
    "movies_genres.head(5)"
   ]
  },
  {
   "cell_type": "markdown",
   "metadata": {},
   "source": [
    "loading user-movie profile from u.data to user_movie_info dataframe"
   ]
  },
  {
   "cell_type": "code",
   "execution_count": 6,
   "metadata": {},
   "outputs": [
    {
     "data": {
      "text/html": [
       "<div>\n",
       "<style>\n",
       "    .dataframe thead tr:only-child th {\n",
       "        text-align: right;\n",
       "    }\n",
       "\n",
       "    .dataframe thead th {\n",
       "        text-align: left;\n",
       "    }\n",
       "\n",
       "    .dataframe tbody tr th {\n",
       "        vertical-align: top;\n",
       "    }\n",
       "</style>\n",
       "<table border=\"1\" class=\"dataframe\">\n",
       "  <thead>\n",
       "    <tr style=\"text-align: right;\">\n",
       "      <th></th>\n",
       "      <th>user_id</th>\n",
       "      <th>movie_id</th>\n",
       "      <th>rating</th>\n",
       "      <th>timestamp</th>\n",
       "    </tr>\n",
       "  </thead>\n",
       "  <tbody>\n",
       "    <tr>\n",
       "      <th>0</th>\n",
       "      <td>196</td>\n",
       "      <td>242</td>\n",
       "      <td>3</td>\n",
       "      <td>881250949</td>\n",
       "    </tr>\n",
       "    <tr>\n",
       "      <th>1</th>\n",
       "      <td>186</td>\n",
       "      <td>302</td>\n",
       "      <td>3</td>\n",
       "      <td>891717742</td>\n",
       "    </tr>\n",
       "    <tr>\n",
       "      <th>2</th>\n",
       "      <td>22</td>\n",
       "      <td>377</td>\n",
       "      <td>1</td>\n",
       "      <td>878887116</td>\n",
       "    </tr>\n",
       "    <tr>\n",
       "      <th>3</th>\n",
       "      <td>244</td>\n",
       "      <td>51</td>\n",
       "      <td>2</td>\n",
       "      <td>880606923</td>\n",
       "    </tr>\n",
       "    <tr>\n",
       "      <th>4</th>\n",
       "      <td>166</td>\n",
       "      <td>346</td>\n",
       "      <td>1</td>\n",
       "      <td>886397596</td>\n",
       "    </tr>\n",
       "  </tbody>\n",
       "</table>\n",
       "</div>"
      ],
      "text/plain": [
       "   user_id  movie_id  rating  timestamp\n",
       "0      196       242       3  881250949\n",
       "1      186       302       3  891717742\n",
       "2       22       377       1  878887116\n",
       "3      244        51       2  880606923\n",
       "4      166       346       1  886397596"
      ]
     },
     "execution_count": 6,
     "metadata": {},
     "output_type": "execute_result"
    }
   ],
   "source": [
    "umCols = ['user_id', 'movie_id', 'rating', 'timestamp']\n",
    "user_movie_info = pd.read_csv('ml-100k/u.data', sep='\\t', names=umCols)\n",
    "user_movie_info.head(5)"
   ]
  },
  {
   "cell_type": "markdown",
   "metadata": {},
   "source": [
    "creating a new multi_movie dataframe by splitting multi-genre movies into multiple 'same' movies with single genre"
   ]
  },
  {
   "cell_type": "code",
   "execution_count": 7,
   "metadata": {
    "scrolled": true
   },
   "outputs": [
    {
     "data": {
      "text/html": [
       "<div>\n",
       "<style>\n",
       "    .dataframe thead tr:only-child th {\n",
       "        text-align: right;\n",
       "    }\n",
       "\n",
       "    .dataframe thead th {\n",
       "        text-align: left;\n",
       "    }\n",
       "\n",
       "    .dataframe tbody tr th {\n",
       "        vertical-align: top;\n",
       "    }\n",
       "</style>\n",
       "<table border=\"1\" class=\"dataframe\">\n",
       "  <thead>\n",
       "    <tr style=\"text-align: right;\">\n",
       "      <th></th>\n",
       "      <th>movie_id</th>\n",
       "      <th>movie_title</th>\n",
       "      <th>genre</th>\n",
       "    </tr>\n",
       "  </thead>\n",
       "  <tbody>\n",
       "    <tr>\n",
       "      <th>0</th>\n",
       "      <td>1</td>\n",
       "      <td>Toy Story (1995)</td>\n",
       "      <td>animation</td>\n",
       "    </tr>\n",
       "    <tr>\n",
       "      <th>1</th>\n",
       "      <td>1</td>\n",
       "      <td>Toy Story (1995)</td>\n",
       "      <td>children</td>\n",
       "    </tr>\n",
       "    <tr>\n",
       "      <th>2</th>\n",
       "      <td>1</td>\n",
       "      <td>Toy Story (1995)</td>\n",
       "      <td>comedy</td>\n",
       "    </tr>\n",
       "    <tr>\n",
       "      <th>3</th>\n",
       "      <td>2</td>\n",
       "      <td>GoldenEye (1995)</td>\n",
       "      <td>action</td>\n",
       "    </tr>\n",
       "    <tr>\n",
       "      <th>4</th>\n",
       "      <td>2</td>\n",
       "      <td>GoldenEye (1995)</td>\n",
       "      <td>adventure</td>\n",
       "    </tr>\n",
       "  </tbody>\n",
       "</table>\n",
       "</div>"
      ],
      "text/plain": [
       "  movie_id       movie_title      genre\n",
       "0        1  Toy Story (1995)  animation\n",
       "1        1  Toy Story (1995)   children\n",
       "2        1  Toy Story (1995)     comedy\n",
       "3        2  GoldenEye (1995)     action\n",
       "4        2  GoldenEye (1995)  adventure"
      ]
     },
     "execution_count": 7,
     "metadata": {},
     "output_type": "execute_result"
    }
   ],
   "source": [
    "new = ([(row['movie_id'], row['movie_title'], row['genre_names'].split('|'))              \n",
    "                    for _, row in movies_genres.iterrows()])\n",
    "movCol = ['movie_id', 'movie_title', 'genre']\n",
    "multi_movie = pd.DataFrame(columns=movCol)\n",
    "i = 0\n",
    "for num1 in range(0,len(new)-1):\n",
    "    for num2 in range(0,len(new[num1][2])):\n",
    "        multi_movie.loc[i, 'movie_id'] = new[num1][0]\n",
    "        multi_movie.loc[i, 'movie_title'] = new[num1][1]\n",
    "        multi_movie.loc[i, 'genre'] = new[num1][2][num2]\n",
    "        i = i + 1\n",
    "multi_movie.to_csv('./FINAL/data/movie_genre.txt', columns= ['movie_title', 'genre'] ,sep='\\t',index=False,header=False,float_format='%.0f')\n",
    "multi_movie.head(5)"
   ]
  },
  {
   "cell_type": "markdown",
   "metadata": {},
   "source": [
    "forming multi_user_movie dataframe after splitting multi-genre movies into multiple 'same' movies with single genre"
   ]
  },
  {
   "cell_type": "code",
   "execution_count": 8,
   "metadata": {},
   "outputs": [
    {
     "data": {
      "text/html": [
       "<div>\n",
       "<style>\n",
       "    .dataframe thead tr:only-child th {\n",
       "        text-align: right;\n",
       "    }\n",
       "\n",
       "    .dataframe thead th {\n",
       "        text-align: left;\n",
       "    }\n",
       "\n",
       "    .dataframe tbody tr th {\n",
       "        vertical-align: top;\n",
       "    }\n",
       "</style>\n",
       "<table border=\"1\" class=\"dataframe\">\n",
       "  <thead>\n",
       "    <tr style=\"text-align: right;\">\n",
       "      <th></th>\n",
       "      <th>user_id</th>\n",
       "      <th>movie_id</th>\n",
       "      <th>rating</th>\n",
       "      <th>timestamp</th>\n",
       "      <th>movie_title</th>\n",
       "      <th>release_date</th>\n",
       "      <th>imdb_url</th>\n",
       "      <th>genre_names</th>\n",
       "    </tr>\n",
       "  </thead>\n",
       "  <tbody>\n",
       "    <tr>\n",
       "      <th>0</th>\n",
       "      <td>196</td>\n",
       "      <td>242</td>\n",
       "      <td>3</td>\n",
       "      <td>881250949</td>\n",
       "      <td>Kolya (1996)</td>\n",
       "      <td>24-Jan-1997</td>\n",
       "      <td>http://us.imdb.com/M/title-exact?Kolya%20(1996)</td>\n",
       "      <td>comedy</td>\n",
       "    </tr>\n",
       "    <tr>\n",
       "      <th>1</th>\n",
       "      <td>63</td>\n",
       "      <td>242</td>\n",
       "      <td>3</td>\n",
       "      <td>875747190</td>\n",
       "      <td>Kolya (1996)</td>\n",
       "      <td>24-Jan-1997</td>\n",
       "      <td>http://us.imdb.com/M/title-exact?Kolya%20(1996)</td>\n",
       "      <td>comedy</td>\n",
       "    </tr>\n",
       "    <tr>\n",
       "      <th>2</th>\n",
       "      <td>226</td>\n",
       "      <td>242</td>\n",
       "      <td>5</td>\n",
       "      <td>883888671</td>\n",
       "      <td>Kolya (1996)</td>\n",
       "      <td>24-Jan-1997</td>\n",
       "      <td>http://us.imdb.com/M/title-exact?Kolya%20(1996)</td>\n",
       "      <td>comedy</td>\n",
       "    </tr>\n",
       "    <tr>\n",
       "      <th>3</th>\n",
       "      <td>154</td>\n",
       "      <td>242</td>\n",
       "      <td>3</td>\n",
       "      <td>879138235</td>\n",
       "      <td>Kolya (1996)</td>\n",
       "      <td>24-Jan-1997</td>\n",
       "      <td>http://us.imdb.com/M/title-exact?Kolya%20(1996)</td>\n",
       "      <td>comedy</td>\n",
       "    </tr>\n",
       "    <tr>\n",
       "      <th>4</th>\n",
       "      <td>306</td>\n",
       "      <td>242</td>\n",
       "      <td>5</td>\n",
       "      <td>876503793</td>\n",
       "      <td>Kolya (1996)</td>\n",
       "      <td>24-Jan-1997</td>\n",
       "      <td>http://us.imdb.com/M/title-exact?Kolya%20(1996)</td>\n",
       "      <td>comedy</td>\n",
       "    </tr>\n",
       "  </tbody>\n",
       "</table>\n",
       "</div>"
      ],
      "text/plain": [
       "   user_id  movie_id  rating  timestamp   movie_title release_date  \\\n",
       "0      196       242       3  881250949  Kolya (1996)  24-Jan-1997   \n",
       "1       63       242       3  875747190  Kolya (1996)  24-Jan-1997   \n",
       "2      226       242       5  883888671  Kolya (1996)  24-Jan-1997   \n",
       "3      154       242       3  879138235  Kolya (1996)  24-Jan-1997   \n",
       "4      306       242       5  876503793  Kolya (1996)  24-Jan-1997   \n",
       "\n",
       "                                          imdb_url genre_names  \n",
       "0  http://us.imdb.com/M/title-exact?Kolya%20(1996)      comedy  \n",
       "1  http://us.imdb.com/M/title-exact?Kolya%20(1996)      comedy  \n",
       "2  http://us.imdb.com/M/title-exact?Kolya%20(1996)      comedy  \n",
       "3  http://us.imdb.com/M/title-exact?Kolya%20(1996)      comedy  \n",
       "4  http://us.imdb.com/M/title-exact?Kolya%20(1996)      comedy  "
      ]
     },
     "execution_count": 8,
     "metadata": {},
     "output_type": "execute_result"
    }
   ],
   "source": [
    "multi_user_movie = user_movie_info.merge(movies_genres, left_on='movie_id', right_on='movie_id', how='inner')\n",
    "multi_user_movie.head(5)"
   ]
  },
  {
   "cell_type": "markdown",
   "metadata": {},
   "source": [
    "creating movie_title - rating dataframe"
   ]
  },
  {
   "cell_type": "code",
   "execution_count": 9,
   "metadata": {},
   "outputs": [
    {
     "data": {
      "text/html": [
       "<div>\n",
       "<style>\n",
       "    .dataframe thead tr:only-child th {\n",
       "        text-align: right;\n",
       "    }\n",
       "\n",
       "    .dataframe thead th {\n",
       "        text-align: left;\n",
       "    }\n",
       "\n",
       "    .dataframe tbody tr th {\n",
       "        vertical-align: top;\n",
       "    }\n",
       "</style>\n",
       "<table border=\"1\" class=\"dataframe\">\n",
       "  <thead>\n",
       "    <tr style=\"text-align: right;\">\n",
       "      <th></th>\n",
       "      <th>rating</th>\n",
       "      <th>movie_title</th>\n",
       "    </tr>\n",
       "  </thead>\n",
       "  <tbody>\n",
       "    <tr>\n",
       "      <th>0</th>\n",
       "      <td>3</td>\n",
       "      <td>Kolya (1996)</td>\n",
       "    </tr>\n",
       "    <tr>\n",
       "      <th>1</th>\n",
       "      <td>3</td>\n",
       "      <td>Kolya (1996)</td>\n",
       "    </tr>\n",
       "    <tr>\n",
       "      <th>2</th>\n",
       "      <td>5</td>\n",
       "      <td>Kolya (1996)</td>\n",
       "    </tr>\n",
       "    <tr>\n",
       "      <th>3</th>\n",
       "      <td>3</td>\n",
       "      <td>Kolya (1996)</td>\n",
       "    </tr>\n",
       "    <tr>\n",
       "      <th>4</th>\n",
       "      <td>5</td>\n",
       "      <td>Kolya (1996)</td>\n",
       "    </tr>\n",
       "  </tbody>\n",
       "</table>\n",
       "</div>"
      ],
      "text/plain": [
       "   rating   movie_title\n",
       "0       3  Kolya (1996)\n",
       "1       3  Kolya (1996)\n",
       "2       5  Kolya (1996)\n",
       "3       3  Kolya (1996)\n",
       "4       5  Kolya (1996)"
      ]
     },
     "execution_count": 9,
     "metadata": {},
     "output_type": "execute_result"
    }
   ],
   "source": [
    "movie_rating = multi_user_movie.copy()\n",
    "movie_rating = movie_rating.drop(movie_rating.columns[0:2], axis=1)\n",
    "movie_rating = movie_rating.drop(movie_rating.columns[1:2], axis=1)\n",
    "movie_rating = movie_rating.drop(movie_rating.columns[2:], axis=1)\n",
    "movie_rating.head(5)"
   ]
  },
  {
   "cell_type": "markdown",
   "metadata": {},
   "source": [
    "creating movie: [all the ratings of that movie] dictionary"
   ]
  },
  {
   "cell_type": "code",
   "execution_count": 10,
   "metadata": {},
   "outputs": [],
   "source": [
    "movie_rating_map = {}\n",
    "#iterate over all movies\n",
    "for keyval in movie_rating['movie_title']:\n",
    "    rat = []\n",
    "    #iterate over all movies rated by a user\n",
    "    if keyval in movie_rating_map.keys():\n",
    "        movie_rating_map[keyval].append(movie_rating.loc[movie_rating['movie_title'] == keyval, 'rating'].iloc[len(movie_rating_map[keyval])])\n",
    "    else:\n",
    "        rat.append(movie_rating.loc[movie_rating['movie_title'] == keyval, 'rating'].iloc[0])\n",
    "        movie_rating_map[keyval] = rat\n",
    "#movie_rating_map"
   ]
  },
  {
   "cell_type": "markdown",
   "metadata": {},
   "source": [
    "creating movie: average rating dictionary"
   ]
  },
  {
   "cell_type": "code",
   "execution_count": 11,
   "metadata": {},
   "outputs": [],
   "source": [
    "avg_rating_map = {}\n",
    "for k,v in movie_rating_map.items():\n",
    "    avg_rating_map[k] = sum(v)/ float(len(v))\n",
    "#avg_rating_map"
   ]
  },
  {
   "cell_type": "markdown",
   "metadata": {},
   "source": [
    "converting the above dictionary to dataframe"
   ]
  },
  {
   "cell_type": "code",
   "execution_count": 12,
   "metadata": {},
   "outputs": [],
   "source": [
    "avg_rating = pd.DataFrame(columns=['movie_title', 'rating'])\n",
    "index = 0\n",
    "for k,v in avg_rating_map.items():\n",
    "    index = index + 1\n",
    "    avg_rating.loc[index, 'movie_title'] = k\n",
    "    avg_rating.loc[index, 'rating'] = v\n",
    "#avg_rating_map"
   ]
  },
  {
   "cell_type": "markdown",
   "metadata": {},
   "source": [
    "saving the above dataframe to file"
   ]
  },
  {
   "cell_type": "code",
   "execution_count": 13,
   "metadata": {},
   "outputs": [],
   "source": [
    "avg_rating.to_csv('./FINAL/data/movie_avg_rating.txt', columns= ['movie_title', 'rating'] ,sep='\\t',index=False,header=False,float_format='%.0f',encoding='latin-1')"
   ]
  },
  {
   "cell_type": "markdown",
   "metadata": {},
   "source": [
    "removing columns with unknown values"
   ]
  },
  {
   "cell_type": "code",
   "execution_count": 14,
   "metadata": {},
   "outputs": [],
   "source": [
    "multi_user_movie = multi_user_movie[multi_user_movie['movie_title'] != 'unknown']\n",
    "multi_user_movie = multi_user_movie[multi_user_movie['release_date'] != 'empty']\n",
    "multi_user_movie.to_csv('./FINAL/data/jlt/multi_user_movie_full.txt', sep='\\t',index=False,header=False,float_format='%.0f')\n",
    "multi_user_movie.to_csv('./FINAL/data/jlt/multi_user_movie.txt', columns= ['user_id', 'movie_title'] ,sep='\\t',index=False,header=False,float_format='%.0f')\n",
    "ncols = ['user_id', 'movie_id', 'rating', 'timestamp', 'movie_title','release_date', 'imdb_url', 'genre_names']\n",
    "multi_user_movie = pd.read_csv('./FINAL/data/jlt/multi_user_movie_full.txt', sep='\\t', names=ncols, encoding='latin-1')"
   ]
  },
  {
   "cell_type": "markdown",
   "metadata": {},
   "source": [
    "#### Content Based Recommendation (CBR)\n",
    "\n",
    "Since we want to build personalised recommendation, we compute similarity between movies based on certain metrics. Then, we can safely deduce/predict the movies that the user will like based on movie previously liked by the user. This is done using the similarity metric which is based on the attributes/content of the movies. Hence, it's called Content Based Recommendation (CBR). We can build the CBR model based on either all or a subset of a movie's attributes.\n",
    "\n",
    "Suppose, we build a CBR model with the movie name as one such attribute. For example, a movie 'Love Actually' and 'Love Story' would both fall into 'Romance' genre. Hence, based on the movie name, we can cluster similar named movies. However, this is NOT the best approach since it might also be misleading. For example, a movie 'Gone With The Wind' (Romance) might have nothing to do with 'Wind Chill' (Horror). We see this below."
   ]
  },
  {
   "cell_type": "markdown",
   "metadata": {},
   "source": [
    "removing movie year from the movie name"
   ]
  },
  {
   "cell_type": "code",
   "execution_count": 15,
   "metadata": {},
   "outputs": [
    {
     "data": {
      "text/html": [
       "<div>\n",
       "<style>\n",
       "    .dataframe thead tr:only-child th {\n",
       "        text-align: right;\n",
       "    }\n",
       "\n",
       "    .dataframe thead th {\n",
       "        text-align: left;\n",
       "    }\n",
       "\n",
       "    .dataframe tbody tr th {\n",
       "        vertical-align: top;\n",
       "    }\n",
       "</style>\n",
       "<table border=\"1\" class=\"dataframe\">\n",
       "  <thead>\n",
       "    <tr style=\"text-align: right;\">\n",
       "      <th></th>\n",
       "      <th>movie_id</th>\n",
       "      <th>movie_title</th>\n",
       "      <th>release_date</th>\n",
       "      <th>imdb_url</th>\n",
       "      <th>genre_names</th>\n",
       "    </tr>\n",
       "  </thead>\n",
       "  <tbody>\n",
       "    <tr>\n",
       "      <th>0</th>\n",
       "      <td>1</td>\n",
       "      <td>Toy Story</td>\n",
       "      <td>01-Jan-1995</td>\n",
       "      <td>http://us.imdb.com/M/title-exact?Toy%20Story%2...</td>\n",
       "      <td>animation|children|comedy</td>\n",
       "    </tr>\n",
       "    <tr>\n",
       "      <th>1</th>\n",
       "      <td>2</td>\n",
       "      <td>GoldenEye</td>\n",
       "      <td>01-Jan-1995</td>\n",
       "      <td>http://us.imdb.com/M/title-exact?GoldenEye%20(...</td>\n",
       "      <td>action|adventure|thriller</td>\n",
       "    </tr>\n",
       "    <tr>\n",
       "      <th>2</th>\n",
       "      <td>3</td>\n",
       "      <td>Four Rooms</td>\n",
       "      <td>01-Jan-1995</td>\n",
       "      <td>http://us.imdb.com/M/title-exact?Four%20Rooms%...</td>\n",
       "      <td>thriller</td>\n",
       "    </tr>\n",
       "    <tr>\n",
       "      <th>3</th>\n",
       "      <td>4</td>\n",
       "      <td>Get Shorty</td>\n",
       "      <td>01-Jan-1995</td>\n",
       "      <td>http://us.imdb.com/M/title-exact?Get%20Shorty%...</td>\n",
       "      <td>action|comedy|drama</td>\n",
       "    </tr>\n",
       "    <tr>\n",
       "      <th>4</th>\n",
       "      <td>5</td>\n",
       "      <td>Copycat</td>\n",
       "      <td>01-Jan-1995</td>\n",
       "      <td>http://us.imdb.com/M/title-exact?Copycat%20(1995)</td>\n",
       "      <td>crime|drama|thriller</td>\n",
       "    </tr>\n",
       "  </tbody>\n",
       "</table>\n",
       "</div>"
      ],
      "text/plain": [
       "   movie_id movie_title release_date  \\\n",
       "0         1   Toy Story  01-Jan-1995   \n",
       "1         2   GoldenEye  01-Jan-1995   \n",
       "2         3  Four Rooms  01-Jan-1995   \n",
       "3         4  Get Shorty  01-Jan-1995   \n",
       "4         5     Copycat  01-Jan-1995   \n",
       "\n",
       "                                            imdb_url  \\\n",
       "0  http://us.imdb.com/M/title-exact?Toy%20Story%2...   \n",
       "1  http://us.imdb.com/M/title-exact?GoldenEye%20(...   \n",
       "2  http://us.imdb.com/M/title-exact?Four%20Rooms%...   \n",
       "3  http://us.imdb.com/M/title-exact?Get%20Shorty%...   \n",
       "4  http://us.imdb.com/M/title-exact?Copycat%20(1995)   \n",
       "\n",
       "                 genre_names  \n",
       "0  animation|children|comedy  \n",
       "1  action|adventure|thriller  \n",
       "2                   thriller  \n",
       "3        action|comedy|drama  \n",
       "4       crime|drama|thriller  "
      ]
     },
     "execution_count": 15,
     "metadata": {},
     "output_type": "execute_result"
    }
   ],
   "source": [
    "movie_without_year = movies_genres.copy()\n",
    "movie_without_year['movie_title'] = movie_without_year['movie_title'].map(lambda x: str(x)[:-7])\n",
    "movie_without_year.head(5)"
   ]
  },
  {
   "cell_type": "markdown",
   "metadata": {},
   "source": [
    "using tf–idf (term frequency–inverse document frequency) to identify repetition of words in the movie names to recommend other movies having similar names"
   ]
  },
  {
   "cell_type": "code",
   "execution_count": 16,
   "metadata": {},
   "outputs": [],
   "source": [
    "tf = TfidfVectorizer(analyzer='word',ngram_range=(1, 2),min_df=0, stop_words='english')\n",
    "#returns T x D i.e. term document matrix\n",
    "tfidf_matrix = tf.fit_transform(movies_info['movie_title'])"
   ]
  },
  {
   "cell_type": "markdown",
   "metadata": {},
   "source": [
    "Using cosine similarity: to compute similarity between two movies: cosine(x,y)= x.(y⊺) / (||x||.||y||) "
   ]
  },
  {
   "cell_type": "code",
   "execution_count": 17,
   "metadata": {},
   "outputs": [],
   "source": [
    "cosine_sim = linear_kernel(tfidf_matrix, tfidf_matrix)"
   ]
  },
  {
   "cell_type": "markdown",
   "metadata": {},
   "source": [
    "getting a DF of indices of each movie with movie name as index"
   ]
  },
  {
   "cell_type": "code",
   "execution_count": 18,
   "metadata": {},
   "outputs": [],
   "source": [
    "indices = pd.Series(movie_without_year.index, index=movie_without_year['movie_title'])"
   ]
  },
  {
   "cell_type": "markdown",
   "metadata": {},
   "source": [
    "using this pairwise cosine similarity matrix for all the movies, we define a function that returns the topmost similar movies based on the cosine similarity score"
   ]
  },
  {
   "cell_type": "code",
   "execution_count": 19,
   "metadata": {},
   "outputs": [],
   "source": [
    "def get_similar(title):\n",
    "    print(\"The genre of the given movie is:\", movie_without_year.loc[movie_without_year['movie_title']==title,'genre_names'].iloc[0])\n",
    "    idx = indices[title]\n",
    "    sim_score = list(enumerate(cosine_sim[idx]))\n",
    "    sim_score = sorted(sim_score, key=lambda x: x[1], reverse=True)\n",
    "    sim_score = sim_score[1:11]#top10\n",
    "    movie_indices = [i[0] for i in sim_score]\n",
    "    for num in movie_indices:\n",
    "        print(movie_without_year['movie_title'].iloc[num],\": \",movie_without_year['genre_names'].iloc[num])"
   ]
  },
  {
   "cell_type": "markdown",
   "metadata": {},
   "source": [
    "checking the effectiveness of our approach by getting movie recommendations using CBR"
   ]
  },
  {
   "cell_type": "code",
   "execution_count": 20,
   "metadata": {},
   "outputs": [
    {
     "name": "stdout",
     "output_type": "stream",
     "text": [
      "The genre of the given movie is: animation|children|comedy\n",
      "Pyromaniac's Love Story, A :  comedy|romance\n",
      "Now and Then :  drama\n",
      "Show, The :  documentary\n",
      "To Have, or Not :  drama\n",
      "Story of Xinghua, The :  drama\n",
      "Philadelphia Story, The :  comedy|romance\n",
      "NeverEnding Story III, The :  children|fantasy\n",
      "FairyTale: A True Story :  children|drama|fantasy\n",
      "Entertaining Angels: The Dorothy Day Story :  drama\n",
      "Police Story 4: Project S (Chao ji ji hua) :  action\n"
     ]
    }
   ],
   "source": [
    "get_similar('Toy Story')"
   ]
  },
  {
   "cell_type": "code",
   "execution_count": 21,
   "metadata": {},
   "outputs": [
    {
     "name": "stdout",
     "output_type": "stream",
     "text": [
      "The genre of the given movie is: comedy\n",
      "Love Is All There Is :  comedy|drama\n",
      "Penny Serenade :  drama|romance\n",
      "She's the One :  comedy|romance\n",
      "Two Much :  comedy|romance\n",
      "Before and After :  drama|mystery\n",
      "A Chef in Love :  comedy\n",
      "Pompatus of Love, The :  comedy|drama\n",
      "Hotel de Love :  comedy|romance\n",
      "Everyone Says I Love You :  comedy|musical|romance\n",
      "In Love and War :  romance|war\n"
     ]
    }
   ],
   "source": [
    "get_similar('Love Serenade')"
   ]
  },
  {
   "cell_type": "markdown",
   "metadata": {},
   "source": [
    "#### Collaborative Filtering (CF)"
   ]
  },
  {
   "cell_type": "markdown",
   "metadata": {},
   "source": [
    "We see that the predictions are not so accurate since some genres differ by a lot. Hence, such a text mining approach would have been more useful, if we were given more details about the movies such as movie synopsis, cast, crew etc. This model doesn't give user-specific recommendations. Hence, to overcome this limitation arising due to limited descriptive data available in the MovieLens dataset, we compute user1's preference based on another similar user2's preference on the movies that the latter has reviewed but the former hasn't. This approach is called Collaborative Filtering (CF). We use Surprise library to implement CF."
   ]
  },
  {
   "cell_type": "markdown",
   "metadata": {},
   "source": [
    "splitting data into 10-folds and performing SVD"
   ]
  },
  {
   "cell_type": "code",
   "execution_count": 22,
   "metadata": {},
   "outputs": [],
   "source": [
    "reader = Reader()\n",
    "data = Dataset.load_from_df(user_movie_info[['user_id', 'movie_id', 'rating']], reader)\n",
    "#dividing the data into k-folds, here k=10\n",
    "kf = KFold(n_splits=10)\n",
    "#using SVD\n",
    "algo = SVD()"
   ]
  },
  {
   "cell_type": "markdown",
   "metadata": {},
   "source": [
    "performing training, testing and calculating RMSE"
   ]
  },
  {
   "cell_type": "code",
   "execution_count": 23,
   "metadata": {},
   "outputs": [
    {
     "name": "stdout",
     "output_type": "stream",
     "text": [
      "RMSE: 0.9337\n",
      "RMSE: 0.9366\n",
      "RMSE: 0.9233\n",
      "RMSE: 0.9362\n",
      "RMSE: 0.9310\n",
      "RMSE: 0.9295\n",
      "RMSE: 0.9294\n",
      "RMSE: 0.9287\n",
      "RMSE: 0.9251\n",
      "RMSE: 0.9231\n"
     ]
    }
   ],
   "source": [
    "for trainset, testset in kf.split(data):\n",
    "    algo.fit(trainset)\n",
    "    predictions = algo.test(testset)\n",
    "    accuracy.rmse(predictions, verbose=True)"
   ]
  },
  {
   "cell_type": "markdown",
   "metadata": {},
   "source": [
    "checking the effectiveness of our approach by getting movie recommendations using CF - predicting the rating for user_id = 10 and movie_id = 336"
   ]
  },
  {
   "cell_type": "code",
   "execution_count": 24,
   "metadata": {
    "scrolled": true
   },
   "outputs": [
    {
     "data": {
      "text/plain": [
       "Prediction(uid=10, iid=336, r_ui=3, est=3.018871413532989, details={'was_impossible': False})"
      ]
     },
     "execution_count": 24,
     "metadata": {},
     "output_type": "execute_result"
    }
   ],
   "source": [
    "trainset = data.build_full_trainset()\n",
    "algo.fit(trainset)\n",
    "algo.predict(10, 336, 3)"
   ]
  },
  {
   "cell_type": "markdown",
   "metadata": {},
   "source": [
    "Here, we get a predicted rating of 3.10 for user_id = 10 and movie_id = 336. This CF approach of movie recommendation is independent of the content of the movie (like genres etc.) since the basis of its prediction is solely on how other similar users have rated the movie. However, this is also not the best way to approach the problem. So, we move on to actually making use of the attributes of each review for a movie by a user by performing feature engineering."
   ]
  },
  {
   "cell_type": "markdown",
   "metadata": {},
   "source": [
    "#### Feature Engineering\n",
    "\n",
    "Here, we add a new feature: timeSinceRelease = timestamp - release_date. Other features like day of the week, month of the year can also be added."
   ]
  },
  {
   "cell_type": "markdown",
   "metadata": {},
   "source": [
    "converting time columns into datetime format"
   ]
  },
  {
   "cell_type": "code",
   "execution_count": 25,
   "metadata": {},
   "outputs": [],
   "source": [
    "multi_user_movie['release_date'] = pd.to_datetime(multi_user_movie['release_date'], format='%d-%b-%Y')\n",
    "for i in range(0,len(multi_user_movie)):\n",
    "    multi_user_movie.loc[i,'timestamp'] = datetime.fromtimestamp(multi_user_movie.loc[i,'timestamp'])\n",
    "multi_user_movie['timestamp'] = pd.to_datetime(multi_user_movie['timestamp'], format='%d-%b-%Y')"
   ]
  },
  {
   "cell_type": "markdown",
   "metadata": {},
   "source": [
    "creating a function to get the timespan between two datetime objects"
   ]
  },
  {
   "cell_type": "code",
   "execution_count": 26,
   "metadata": {},
   "outputs": [],
   "source": [
    "def days_between(d1, d2):\n",
    "    return abs((d1 - d2).days)"
   ]
  },
  {
   "cell_type": "markdown",
   "metadata": {},
   "source": [
    "creating timeSinceRelease column"
   ]
  },
  {
   "cell_type": "code",
   "execution_count": 27,
   "metadata": {},
   "outputs": [],
   "source": [
    "ctr = 0\n",
    "for i in multi_user_movie['movie_title']:\n",
    "    multi_user_movie.loc[ctr,'timeSinceRelease'] = days_between(multi_user_movie.loc[ctr,'timestamp'],multi_user_movie.loc[ctr,'release_date'])\n",
    "    ctr = ctr + 1"
   ]
  },
  {
   "cell_type": "markdown",
   "metadata": {},
   "source": [
    "creating dict out of this dataframe for all, min and max review release span of a movie "
   ]
  },
  {
   "cell_type": "code",
   "execution_count": 28,
   "metadata": {
    "scrolled": true
   },
   "outputs": [],
   "source": [
    "all_timespan = {}\n",
    "cnt = 0\n",
    "for mov in multi_user_movie['movie_title']:\n",
    "    nummin = 0\n",
    "    nummax = 0\n",
    "    m = []\n",
    "    if mov in all_timespan.keys():\n",
    "        all_timespan[mov].append(multi_user_movie.loc[multi_user_movie['movie_title'] == mov, 'timeSinceRelease'].iloc[len(all_timespan[mov])])\n",
    "    else:\n",
    "        cnt = cnt + 1\n",
    "        m.append(multi_user_movie.loc[multi_user_movie['movie_title'] == mov, 'timeSinceRelease'].iloc[0])\n",
    "        all_timespan[mov] = m"
   ]
  },
  {
   "cell_type": "markdown",
   "metadata": {},
   "source": [
    "creating dictionary for timespan for each review of a movie"
   ]
  },
  {
   "cell_type": "code",
   "execution_count": 29,
   "metadata": {},
   "outputs": [],
   "source": [
    "min_timespan_dict = {}\n",
    "max_timespan_dict = {}\n",
    "timespan_dict = {}\n",
    "\n",
    "for ur in all_timespan.keys():\n",
    "    if ur in min_timespan_dict.keys():\n",
    "        continue\n",
    "    #using min-heap and max-heap\n",
    "    else:\n",
    "        if all_timespan[ur] != []:\n",
    "            min_timespans = all_timespan[ur]\n",
    "            heapq.heapify(min_timespans)\n",
    "            min_timespan_dict[ur] = heapq.heappop(min_timespans)\n",
    "    if ur in max_timespan_dict.keys():\n",
    "        continue\n",
    "    else:\n",
    "        if all_timespan[ur] != []:\n",
    "            max_timespans = all_timespan[ur]\n",
    "            heapq._heapify_max(max_timespans)\n",
    "            max_timespan_dict[ur] = heapq._heappop_max(max_timespans)\n",
    "    if ur in timespan_dict.keys():\n",
    "        continue\n",
    "    else:\n",
    "        if all_timespan[ur] != []:\n",
    "            timespan_dict[ur] = [max_timespan_dict[ur] - min_timespan_dict[ur]]"
   ]
  },
  {
   "cell_type": "markdown",
   "metadata": {},
   "source": [
    "converting the above dictionary to a dataframe"
   ]
  },
  {
   "cell_type": "code",
   "execution_count": 30,
   "metadata": {},
   "outputs": [
    {
     "data": {
      "text/html": [
       "<div>\n",
       "<style>\n",
       "    .dataframe thead tr:only-child th {\n",
       "        text-align: right;\n",
       "    }\n",
       "\n",
       "    .dataframe thead th {\n",
       "        text-align: left;\n",
       "    }\n",
       "\n",
       "    .dataframe tbody tr th {\n",
       "        vertical-align: top;\n",
       "    }\n",
       "</style>\n",
       "<table border=\"1\" class=\"dataframe\">\n",
       "  <thead>\n",
       "    <tr style=\"text-align: right;\">\n",
       "      <th></th>\n",
       "      <th>movie_title</th>\n",
       "      <th>timespan</th>\n",
       "    </tr>\n",
       "  </thead>\n",
       "  <tbody>\n",
       "    <tr>\n",
       "      <th>0</th>\n",
       "      <td>'Til There Was You (1997)</td>\n",
       "      <td>188.0</td>\n",
       "    </tr>\n",
       "    <tr>\n",
       "      <th>1</th>\n",
       "      <td>1-900 (1994)</td>\n",
       "      <td>122.0</td>\n",
       "    </tr>\n",
       "    <tr>\n",
       "      <th>2</th>\n",
       "      <td>101 Dalmatians (1996)</td>\n",
       "      <td>214.0</td>\n",
       "    </tr>\n",
       "    <tr>\n",
       "      <th>3</th>\n",
       "      <td>12 Angry Men (1957)</td>\n",
       "      <td>213.0</td>\n",
       "    </tr>\n",
       "    <tr>\n",
       "      <th>4</th>\n",
       "      <td>187 (1997)</td>\n",
       "      <td>207.0</td>\n",
       "    </tr>\n",
       "  </tbody>\n",
       "</table>\n",
       "</div>"
      ],
      "text/plain": [
       "                 movie_title  timespan\n",
       "0  'Til There Was You (1997)     188.0\n",
       "1               1-900 (1994)     122.0\n",
       "2      101 Dalmatians (1996)     214.0\n",
       "3        12 Angry Men (1957)     213.0\n",
       "4                 187 (1997)     207.0"
      ]
     },
     "execution_count": 30,
     "metadata": {},
     "output_type": "execute_result"
    }
   ],
   "source": [
    "timespan = pd.DataFrame.from_dict(timespan_dict)\n",
    "timespan = timespan.T\n",
    "timespan.reset_index(level=0, inplace=True)\n",
    "timespan.columns = ['movie_title', 'timespan']\n",
    "timespan.head(5)"
   ]
  },
  {
   "cell_type": "markdown",
   "metadata": {},
   "source": [
    "saving the dataframe to file"
   ]
  },
  {
   "cell_type": "code",
   "execution_count": 31,
   "metadata": {},
   "outputs": [],
   "source": [
    "timespan.to_csv('./FINAL/data/features/movie_timespan.txt',sep='\\t',index=False,header=False,float_format='%.0f')"
   ]
  },
  {
   "cell_type": "markdown",
   "metadata": {},
   "source": [
    "creating users: [all the movies the user has rated] dictionary"
   ]
  },
  {
   "cell_type": "code",
   "execution_count": 32,
   "metadata": {},
   "outputs": [],
   "source": [
    "user_movie_map = {}\n",
    "cnt = 0\n",
    "for user in multi_user_movie['user_id']:\n",
    "    mov=[]\n",
    "    if user in user_movie_map.keys():\n",
    "        user_movie_map[user].append(multi_user_movie.loc[multi_user_movie['user_id'] == user, 'movie_title'].iloc[len(user_movie_map[user])])\n",
    "    else:\n",
    "        cnt = cnt + 1\n",
    "        mov.append(multi_user_movie.loc[multi_user_movie['user_id'] == user, 'movie_title'].iloc[0])\n",
    "        user_movie_map[user] = mov\n",
    "#user_movie_map"
   ]
  },
  {
   "cell_type": "markdown",
   "metadata": {},
   "source": [
    "converting the above dictionary to dataframe"
   ]
  },
  {
   "cell_type": "code",
   "execution_count": 33,
   "metadata": {},
   "outputs": [
    {
     "data": {
      "text/html": [
       "<div>\n",
       "<style>\n",
       "    .dataframe thead tr:only-child th {\n",
       "        text-align: right;\n",
       "    }\n",
       "\n",
       "    .dataframe thead th {\n",
       "        text-align: left;\n",
       "    }\n",
       "\n",
       "    .dataframe tbody tr th {\n",
       "        vertical-align: top;\n",
       "    }\n",
       "</style>\n",
       "<table border=\"1\" class=\"dataframe\">\n",
       "  <thead>\n",
       "    <tr style=\"text-align: right;\">\n",
       "      <th></th>\n",
       "      <th>user_id</th>\n",
       "      <th>movie_title</th>\n",
       "    </tr>\n",
       "  </thead>\n",
       "  <tbody>\n",
       "    <tr>\n",
       "      <th>1</th>\n",
       "      <td>196</td>\n",
       "      <td>[Kolya (1996), Men in Black (1997), Truth Abou...</td>\n",
       "    </tr>\n",
       "    <tr>\n",
       "      <th>2</th>\n",
       "      <td>63</td>\n",
       "      <td>[Kolya (1996), L.A. Confidential (1997), Men i...</td>\n",
       "    </tr>\n",
       "    <tr>\n",
       "      <th>3</th>\n",
       "      <td>226</td>\n",
       "      <td>[Kolya (1996), Dr. Strangelove or: How I Learn...</td>\n",
       "    </tr>\n",
       "    <tr>\n",
       "      <th>4</th>\n",
       "      <td>154</td>\n",
       "      <td>[Kolya (1996), L.A. Confidential (1997), Dr. S...</td>\n",
       "    </tr>\n",
       "    <tr>\n",
       "      <th>5</th>\n",
       "      <td>306</td>\n",
       "      <td>[Kolya (1996), Men in Black (1997), Fargo (199...</td>\n",
       "    </tr>\n",
       "  </tbody>\n",
       "</table>\n",
       "</div>"
      ],
      "text/plain": [
       "  user_id                                        movie_title\n",
       "1     196  [Kolya (1996), Men in Black (1997), Truth Abou...\n",
       "2      63  [Kolya (1996), L.A. Confidential (1997), Men i...\n",
       "3     226  [Kolya (1996), Dr. Strangelove or: How I Learn...\n",
       "4     154  [Kolya (1996), L.A. Confidential (1997), Dr. S...\n",
       "5     306  [Kolya (1996), Men in Black (1997), Fargo (199..."
      ]
     },
     "execution_count": 33,
     "metadata": {},
     "output_type": "execute_result"
    }
   ],
   "source": [
    "user_movie = pd.DataFrame(columns=['user_id', 'movie_title'])\n",
    "index = 0\n",
    "for k,v in user_movie_map.items():\n",
    "    index = index + 1\n",
    "    user_movie.loc[index, 'user_id'] = k\n",
    "    user_movie.loc[index, 'movie_title'] = v\n",
    "user_movie.head(5)"
   ]
  },
  {
   "cell_type": "markdown",
   "metadata": {},
   "source": [
    "saving the above dataframe to file"
   ]
  },
  {
   "cell_type": "code",
   "execution_count": 34,
   "metadata": {},
   "outputs": [],
   "source": [
    "user_movie.to_csv('./FINAL/data/user_movies.txt', columns= ['user_id', 'movie_title'] ,sep='\\t',index=False,header=False,float_format='%.0f')"
   ]
  },
  {
   "cell_type": "markdown",
   "metadata": {},
   "source": [
    "creating list of all users"
   ]
  },
  {
   "cell_type": "code",
   "execution_count": 35,
   "metadata": {},
   "outputs": [],
   "source": [
    "um1 = []\n",
    "um1 = list(user_movie_map.keys())\n",
    "um2 = []\n",
    "um2 = list(user_movie_map.keys())"
   ]
  },
  {
   "cell_type": "markdown",
   "metadata": {},
   "source": [
    "performing graph computations - calculating edge weights for weighted directed user movie graph"
   ]
  },
  {
   "cell_type": "code",
   "execution_count": 36,
   "metadata": {},
   "outputs": [
    {
     "name": "stdout",
     "output_type": "stream",
     "text": [
      "The total number of nodes in the graph:  943\n"
     ]
    }
   ],
   "source": [
    "weighted_directed_user_movie_graph = open(\"./FINAL/data/wd_um_graph.txt\", 'w')\n",
    "p = 0\n",
    "counter = 0\n",
    "print(\"The total number of nodes in the graph: \",len(user_movie_map))\n",
    "while p < len(um1):\n",
    "    u1 = um1[p]\n",
    "    u1m = user_movie_map[u1]\n",
    "    #cos we don't to check for the same user with him/herself!\n",
    "    q = p + 1 \n",
    "    while q < len(um2):\n",
    "        u2 = um2[q]\n",
    "        u2m = user_movie_map[u2]\n",
    "        overlap_movies = set(u1m) & set(u2m)\n",
    "        #edge weight tells us what proportion of movies do two users have rated in common\n",
    "        if len(overlap_movies) > 0:\n",
    "            u1Ratio = decimal.Decimal(len(overlap_movies)) \\\n",
    "                / decimal.Decimal(len(u1m))\n",
    "            u1Ratio = format(u1Ratio, '.3f')\n",
    "            u2Ratio = decimal.Decimal(len(overlap_movies)) \\\n",
    "                / decimal.Decimal(len(u2m))\n",
    "            u2Ratio = format(u2Ratio, '.3f')\n",
    "            weighted_directed_user_movie_graph.write(u1.astype(str) + '\\t' + u2.astype(str) + '\\t' + str(u1Ratio) + '\\n')\n",
    "            weighted_directed_user_movie_graph.write(u2.astype(str) + '\\t' + u1.astype(str) + '\\t' + str(u2Ratio) + '\\n')\n",
    "            counter = counter + 1\n",
    "        q = q + 1\n",
    "    p = p + 1"
   ]
  },
  {
   "cell_type": "markdown",
   "metadata": {},
   "source": [
    "#### Call R script for weighted directed user network: WD_user"
   ]
  },
  {
   "cell_type": "markdown",
   "metadata": {},
   "source": [
    "creating movie: [all the users that rated this movie] dictionary"
   ]
  },
  {
   "cell_type": "code",
   "execution_count": 37,
   "metadata": {},
   "outputs": [],
   "source": [
    "#iterate over all users\n",
    "movie_user_map = {}\n",
    "for keyval in user_movie_map.keys():\n",
    "    #iterate over all movies rated by a user\n",
    "    for movie in user_movie_map[keyval]:\n",
    "        if (movie in movie_user_map):\n",
    "            user_list = movie_user_map[movie]\n",
    "            if keyval not in user_list:\n",
    "                user_list.append(keyval)         \n",
    "                movie_user_map[movie] = user_list\n",
    "        else:\n",
    "            movie_user_map[movie] = [keyval]"
   ]
  },
  {
   "cell_type": "markdown",
   "metadata": {},
   "source": [
    "creating list of all movies"
   ]
  },
  {
   "cell_type": "code",
   "execution_count": 38,
   "metadata": {},
   "outputs": [],
   "source": [
    "mov1 = []\n",
    "mov1 = list(movie_user_map.keys())\n",
    "mov2 = []\n",
    "mov2 = list(movie_user_map.keys())"
   ]
  },
  {
   "cell_type": "markdown",
   "metadata": {},
   "source": [
    "performing graph computations - calculating edge weights for weighted undirected movie user graph"
   ]
  },
  {
   "cell_type": "code",
   "execution_count": 39,
   "metadata": {},
   "outputs": [
    {
     "name": "stdout",
     "output_type": "stream",
     "text": [
      "The total number of nodes in the graph: 1663\n"
     ]
    }
   ],
   "source": [
    "weighted_undirected_movie_graph = open(\"./FINAL/data/wu_movie_graph.txt\", 'w')\n",
    "p = 0\n",
    "counter = 0\n",
    "print(\"The total number of nodes in the graph:\",len(mov1))\n",
    "while p < len(mov1):\n",
    "    mov1_id = mov1[p]\n",
    "    mov1_users = movie_user_map[mov1_id]\n",
    "    q = p + 1\n",
    "    while q < len(mov2):\n",
    "        mov2_id = mov2[q]\n",
    "        mov2_users = movie_user_map[mov2_id]\n",
    "        overlap_actors = set(mov1_users) & set(mov2_users)\n",
    "        if(len(overlap_actors) > 0):\n",
    "            #calculating jaccard index as edge weight\n",
    "            jaccard_index = decimal.Decimal(len(overlap_actors) * 100)/(decimal.Decimal(len(mov1_users) + len(mov2_users) - len(overlap_actors)))\n",
    "            weighted_undirected_movie_graph.write(str(mov1_id) + \"\\t\" + str(mov2_id) + \"\\t\" + str(jaccard_index) + \"\\n\")\n",
    "            counter = counter + 1\n",
    "        q = q + 1\n",
    "    p = p + 1"
   ]
  },
  {
   "cell_type": "markdown",
   "metadata": {},
   "source": [
    "#### Call R script for weighted undirected movie network: WU_movie"
   ]
  },
  {
   "cell_type": "markdown",
   "metadata": {},
   "source": [
    "creating user_id: pagerank dictionary"
   ]
  },
  {
   "cell_type": "code",
   "execution_count": 40,
   "metadata": {},
   "outputs": [],
   "source": [
    "pg_reader = open(\"./FINAL/data/top943userpg.txt\", \"r\")\n",
    "page_rank = {}\n",
    "for row in pg_reader.readlines():\n",
    "    content = row.strip().split('\\t')\n",
    "    content[0] = content[0].strip('\"\"')\n",
    "    page_rank[content[0]] = float(ast.literal_eval(content[1]))"
   ]
  },
  {
   "cell_type": "markdown",
   "metadata": {},
   "source": [
    "building unordered set with unique user_id"
   ]
  },
  {
   "cell_type": "code",
   "execution_count": 41,
   "metadata": {},
   "outputs": [],
   "source": [
    "page_rank = {int(k):float(v) for k, v in page_rank.items()}"
   ]
  },
  {
   "cell_type": "markdown",
   "metadata": {},
   "source": [
    "building movie - pageranks of users that rated that movie dictionary"
   ]
  },
  {
   "cell_type": "code",
   "execution_count": 42,
   "metadata": {},
   "outputs": [],
   "source": [
    "movie_pagerank = {}\n",
    "for key in user_movie_map.keys():\n",
    "    usr = key\n",
    "    mvs = user_movie_map[usr]\n",
    "    pgval = page_rank[usr]\n",
    "    for value in mvs:\n",
    "        if value not in movie_pagerank:\n",
    "            movie_pagerank[value] = []\n",
    "        movie_pagerank[value].append(pgval)\n",
    "#movie_pagerank"
   ]
  },
  {
   "cell_type": "markdown",
   "metadata": {},
   "source": [
    "checking number of pagerank values in movie - pageranks of users dictionary"
   ]
  },
  {
   "cell_type": "code",
   "execution_count": 43,
   "metadata": {},
   "outputs": [
    {
     "name": "stdout",
     "output_type": "stream",
     "text": [
      "The total number of pg values are: 99991\n",
      "The min number of pg values are: 1\n",
      "The max number of pg values are: 583\n"
     ]
    }
   ],
   "source": [
    "nu = 0\n",
    "for i in movie_pagerank.keys():\n",
    "    nu = nu + len(movie_pagerank[i])\n",
    "print(\"The total number of pg values are:\", nu)\n",
    "nuumin = 583\n",
    "nuumax = 0\n",
    "#length of pg values for each user- find max\n",
    "for i in movie_pagerank.keys():\n",
    "    if len(movie_pagerank[i]) < nuumin:\n",
    "        nuumin = len(movie_pagerank[i])\n",
    "    if len(movie_pagerank[i]) > nuumax:\n",
    "        nuumax = len(movie_pagerank[i])\n",
    "#might not be equal to number of users since one user could have rated more than one movie\n",
    "print(\"The min number of pg values are:\", nuumin)\n",
    "print(\"The max number of pg values are:\", nuumax)"
   ]
  },
  {
   "cell_type": "markdown",
   "metadata": {},
   "source": [
    "creating output file with top 5 pageranks of each movie"
   ]
  },
  {
   "cell_type": "code",
   "execution_count": 44,
   "metadata": {},
   "outputs": [],
   "source": [
    "output_file = open('./FINAL/data/features/movie_pageranks_top5.txt',\"w\")\n",
    "for movie in movie_pagerank.keys():\n",
    "    pagerank_val = movie_pagerank[movie]\n",
    "    pagerank_val.sort(reverse=True)\n",
    "    str_pagerank =\"\"\n",
    "    for val in range(0,5):#specifies number of (top) pagerank values to be taken (since sorted in decreasing order)\n",
    "        if(val< len(pagerank_val)):\n",
    "            y = pagerank_val[val]\n",
    "            str_pagerank = str_pagerank+str(y)+\"\\t\"\n",
    "        else:\n",
    "            str_pagerank = str_pagerank+\"0\"+\"\\t\"\n",
    "    final = movie+\"\\t\"+str_pagerank+\"\\n\"\n",
    "    output_file.write(final)"
   ]
  },
  {
   "cell_type": "markdown",
   "metadata": {},
   "source": [
    "reading the avg. ratings of movies from file to ratings dataframe"
   ]
  },
  {
   "cell_type": "code",
   "execution_count": 45,
   "metadata": {},
   "outputs": [
    {
     "data": {
      "text/html": [
       "<div>\n",
       "<style>\n",
       "    .dataframe thead tr:only-child th {\n",
       "        text-align: right;\n",
       "    }\n",
       "\n",
       "    .dataframe thead th {\n",
       "        text-align: left;\n",
       "    }\n",
       "\n",
       "    .dataframe tbody tr th {\n",
       "        vertical-align: top;\n",
       "    }\n",
       "</style>\n",
       "<table border=\"1\" class=\"dataframe\">\n",
       "  <thead>\n",
       "    <tr style=\"text-align: right;\">\n",
       "      <th></th>\n",
       "      <th>movie_title</th>\n",
       "      <th>rating</th>\n",
       "    </tr>\n",
       "  </thead>\n",
       "  <tbody>\n",
       "    <tr>\n",
       "      <th>1</th>\n",
       "      <td>Kolya (1996)</td>\n",
       "      <td>3.99145299145</td>\n",
       "    </tr>\n",
       "    <tr>\n",
       "      <th>2</th>\n",
       "      <td>L.A. Confidential (1997)</td>\n",
       "      <td>4.16161616162</td>\n",
       "    </tr>\n",
       "    <tr>\n",
       "      <th>3</th>\n",
       "      <td>Heavyweights (1994)</td>\n",
       "      <td>2.15384615385</td>\n",
       "    </tr>\n",
       "    <tr>\n",
       "      <th>4</th>\n",
       "      <td>Legends of the Fall (1994)</td>\n",
       "      <td>3.45679012346</td>\n",
       "    </tr>\n",
       "    <tr>\n",
       "      <th>5</th>\n",
       "      <td>Jackie Brown (1997)</td>\n",
       "      <td>3.64285714286</td>\n",
       "    </tr>\n",
       "  </tbody>\n",
       "</table>\n",
       "</div>"
      ],
      "text/plain": [
       "                  movie_title         rating\n",
       "1                Kolya (1996)  3.99145299145\n",
       "2    L.A. Confidential (1997)  4.16161616162\n",
       "3         Heavyweights (1994)  2.15384615385\n",
       "4  Legends of the Fall (1994)  3.45679012346\n",
       "5         Jackie Brown (1997)  3.64285714286"
      ]
     },
     "execution_count": 45,
     "metadata": {},
     "output_type": "execute_result"
    }
   ],
   "source": [
    "ratings = pd.read_csv('./FINAL/data/movie_avg_rating_processed.txt', sep='\\t', names=['movie_title','rating'],encoding='latin-1')\n",
    "ratings = ratings.drop(ratings.index[0])\n",
    "ratings.head(5)"
   ]
  },
  {
   "cell_type": "markdown",
   "metadata": {},
   "source": [
    "creating movie - avg. rating dictionary"
   ]
  },
  {
   "cell_type": "code",
   "execution_count": 46,
   "metadata": {},
   "outputs": [],
   "source": [
    "movie_avg_rating_dict = {}\n",
    "for val in range(1,len(ratings)):\n",
    "    movie_avg_rating_dict[ratings.loc[val,'movie_title']] = ratings.loc[val,'rating']\n",
    "#movie_avg_rating_dict"
   ]
  },
  {
   "cell_type": "markdown",
   "metadata": {},
   "source": [
    "removing unknown movie names"
   ]
  },
  {
   "cell_type": "code",
   "execution_count": 48,
   "metadata": {},
   "outputs": [],
   "source": [
    "for keyval,_ in movie_avg_rating_dict.items():#mrate.keys():\n",
    "    if keyval == 'unknown':\n",
    "        del movie_avg_rating_dict[keyval]"
   ]
  },
  {
   "cell_type": "markdown",
   "metadata": {},
   "source": [
    "converting the above dictionary to dataframe"
   ]
  },
  {
   "cell_type": "code",
   "execution_count": 49,
   "metadata": {},
   "outputs": [
    {
     "data": {
      "text/html": [
       "<div>\n",
       "<style>\n",
       "    .dataframe thead tr:only-child th {\n",
       "        text-align: right;\n",
       "    }\n",
       "\n",
       "    .dataframe thead th {\n",
       "        text-align: left;\n",
       "    }\n",
       "\n",
       "    .dataframe tbody tr th {\n",
       "        vertical-align: top;\n",
       "    }\n",
       "</style>\n",
       "<table border=\"1\" class=\"dataframe\">\n",
       "  <thead>\n",
       "    <tr style=\"text-align: right;\">\n",
       "      <th></th>\n",
       "      <th>movie_title</th>\n",
       "      <th>rating</th>\n",
       "    </tr>\n",
       "  </thead>\n",
       "  <tbody>\n",
       "    <tr>\n",
       "      <th>0</th>\n",
       "      <td>Kolya (1996)</td>\n",
       "      <td>3.99145299145</td>\n",
       "    </tr>\n",
       "    <tr>\n",
       "      <th>1</th>\n",
       "      <td>L.A. Confidential (1997)</td>\n",
       "      <td>4.16161616162</td>\n",
       "    </tr>\n",
       "    <tr>\n",
       "      <th>2</th>\n",
       "      <td>Heavyweights (1994)</td>\n",
       "      <td>2.15384615385</td>\n",
       "    </tr>\n",
       "    <tr>\n",
       "      <th>3</th>\n",
       "      <td>Legends of the Fall (1994)</td>\n",
       "      <td>3.45679012346</td>\n",
       "    </tr>\n",
       "    <tr>\n",
       "      <th>4</th>\n",
       "      <td>Jackie Brown (1997)</td>\n",
       "      <td>3.64285714286</td>\n",
       "    </tr>\n",
       "  </tbody>\n",
       "</table>\n",
       "</div>"
      ],
      "text/plain": [
       "                  movie_title         rating\n",
       "0                Kolya (1996)  3.99145299145\n",
       "1    L.A. Confidential (1997)  4.16161616162\n",
       "2         Heavyweights (1994)  2.15384615385\n",
       "3  Legends of the Fall (1994)  3.45679012346\n",
       "4         Jackie Brown (1997)  3.64285714286"
      ]
     },
     "execution_count": 49,
     "metadata": {},
     "output_type": "execute_result"
    }
   ],
   "source": [
    "movie_avg_rating = pd.DataFrame(list(movie_avg_rating_dict.items()), columns=['movie_title', 'rating'])\n",
    "movie_avg_rating.head(5)"
   ]
  },
  {
   "cell_type": "markdown",
   "metadata": {},
   "source": [
    "creating a movie - timespan dictionary"
   ]
  },
  {
   "cell_type": "code",
   "execution_count": 50,
   "metadata": {},
   "outputs": [],
   "source": [
    "md_reader = open('./FINAL/data/features/movie_timespan.txt', 'r')\n",
    "movies = []\n",
    "tsp = []\n",
    "i = 1\n",
    "for md in md_reader:\n",
    "    content = md.strip().split(\"\\t\")\n",
    "    for x in content:\n",
    "        movies.append(content[0])\n",
    "        tsp.append(content[1])\n",
    "    i += 1\n",
    "movies_timespan_dict = dict(zip(movies, tsp))\n",
    "#movies_timespan_dict"
   ]
  },
  {
   "cell_type": "markdown",
   "metadata": {},
   "source": [
    "converting the above dictionary to dataframe"
   ]
  },
  {
   "cell_type": "code",
   "execution_count": 51,
   "metadata": {},
   "outputs": [
    {
     "data": {
      "text/html": [
       "<div>\n",
       "<style>\n",
       "    .dataframe thead tr:only-child th {\n",
       "        text-align: right;\n",
       "    }\n",
       "\n",
       "    .dataframe thead th {\n",
       "        text-align: left;\n",
       "    }\n",
       "\n",
       "    .dataframe tbody tr th {\n",
       "        vertical-align: top;\n",
       "    }\n",
       "</style>\n",
       "<table border=\"1\" class=\"dataframe\">\n",
       "  <thead>\n",
       "    <tr style=\"text-align: right;\">\n",
       "      <th></th>\n",
       "      <th>movie_title</th>\n",
       "      <th>timespan</th>\n",
       "    </tr>\n",
       "  </thead>\n",
       "  <tbody>\n",
       "    <tr>\n",
       "      <th>0</th>\n",
       "      <td>'Til There Was You (1997)</td>\n",
       "      <td>188</td>\n",
       "    </tr>\n",
       "    <tr>\n",
       "      <th>1</th>\n",
       "      <td>1-900 (1994)</td>\n",
       "      <td>122</td>\n",
       "    </tr>\n",
       "    <tr>\n",
       "      <th>2</th>\n",
       "      <td>101 Dalmatians (1996)</td>\n",
       "      <td>214</td>\n",
       "    </tr>\n",
       "    <tr>\n",
       "      <th>3</th>\n",
       "      <td>12 Angry Men (1957)</td>\n",
       "      <td>213</td>\n",
       "    </tr>\n",
       "    <tr>\n",
       "      <th>4</th>\n",
       "      <td>187 (1997)</td>\n",
       "      <td>207</td>\n",
       "    </tr>\n",
       "  </tbody>\n",
       "</table>\n",
       "</div>"
      ],
      "text/plain": [
       "                 movie_title timespan\n",
       "0  'Til There Was You (1997)      188\n",
       "1               1-900 (1994)      122\n",
       "2      101 Dalmatians (1996)      214\n",
       "3        12 Angry Men (1957)      213\n",
       "4                 187 (1997)      207"
      ]
     },
     "execution_count": 51,
     "metadata": {},
     "output_type": "execute_result"
    }
   ],
   "source": [
    "movies_timespan = pd.DataFrame(list(movies_timespan_dict.items()), columns=['movie_title', 'timespan'])\n",
    "movies_timespan.head(5)"
   ]
  },
  {
   "cell_type": "markdown",
   "metadata": {},
   "source": [
    "creating DF with top 5 pageranks for users that rated that movie"
   ]
  },
  {
   "cell_type": "code",
   "execution_count": 52,
   "metadata": {},
   "outputs": [
    {
     "data": {
      "text/html": [
       "<div>\n",
       "<style>\n",
       "    .dataframe thead tr:only-child th {\n",
       "        text-align: right;\n",
       "    }\n",
       "\n",
       "    .dataframe thead th {\n",
       "        text-align: left;\n",
       "    }\n",
       "\n",
       "    .dataframe tbody tr th {\n",
       "        vertical-align: top;\n",
       "    }\n",
       "</style>\n",
       "<table border=\"1\" class=\"dataframe\">\n",
       "  <thead>\n",
       "    <tr style=\"text-align: right;\">\n",
       "      <th></th>\n",
       "      <th>movie_title</th>\n",
       "      <th>pg1</th>\n",
       "      <th>pg2</th>\n",
       "      <th>pg3</th>\n",
       "      <th>pg4</th>\n",
       "      <th>pg5</th>\n",
       "      <th>rating</th>\n",
       "    </tr>\n",
       "  </thead>\n",
       "  <tbody>\n",
       "    <tr>\n",
       "      <th>0</th>\n",
       "      <td>Kolya (1996)</td>\n",
       "      <td>0.003701</td>\n",
       "      <td>0.003484</td>\n",
       "      <td>0.003370</td>\n",
       "      <td>0.003293</td>\n",
       "      <td>0.003049</td>\n",
       "      <td>0</td>\n",
       "    </tr>\n",
       "    <tr>\n",
       "      <th>1</th>\n",
       "      <td>Men in Black (1997)</td>\n",
       "      <td>0.003484</td>\n",
       "      <td>0.003370</td>\n",
       "      <td>0.003343</td>\n",
       "      <td>0.003241</td>\n",
       "      <td>0.003012</td>\n",
       "      <td>0</td>\n",
       "    </tr>\n",
       "    <tr>\n",
       "      <th>2</th>\n",
       "      <td>Truth About Cats &amp; Dogs, The (1996)</td>\n",
       "      <td>0.003701</td>\n",
       "      <td>0.003484</td>\n",
       "      <td>0.003406</td>\n",
       "      <td>0.003370</td>\n",
       "      <td>0.003293</td>\n",
       "      <td>0</td>\n",
       "    </tr>\n",
       "    <tr>\n",
       "      <th>3</th>\n",
       "      <td>Birdcage, The (1996)</td>\n",
       "      <td>0.003701</td>\n",
       "      <td>0.003484</td>\n",
       "      <td>0.003406</td>\n",
       "      <td>0.003370</td>\n",
       "      <td>0.003343</td>\n",
       "      <td>0</td>\n",
       "    </tr>\n",
       "    <tr>\n",
       "      <th>4</th>\n",
       "      <td>Adventures of Priscilla, Queen of the Desert, ...</td>\n",
       "      <td>0.003701</td>\n",
       "      <td>0.003484</td>\n",
       "      <td>0.003406</td>\n",
       "      <td>0.003343</td>\n",
       "      <td>0.003293</td>\n",
       "      <td>0</td>\n",
       "    </tr>\n",
       "  </tbody>\n",
       "</table>\n",
       "</div>"
      ],
      "text/plain": [
       "                                         movie_title       pg1       pg2  \\\n",
       "0                                       Kolya (1996)  0.003701  0.003484   \n",
       "1                                Men in Black (1997)  0.003484  0.003370   \n",
       "2                Truth About Cats & Dogs, The (1996)  0.003701  0.003484   \n",
       "3                               Birdcage, The (1996)  0.003701  0.003484   \n",
       "4  Adventures of Priscilla, Queen of the Desert, ...  0.003701  0.003484   \n",
       "\n",
       "        pg3       pg4       pg5  rating  \n",
       "0  0.003370  0.003293  0.003049       0  \n",
       "1  0.003343  0.003241  0.003012       0  \n",
       "2  0.003406  0.003370  0.003293       0  \n",
       "3  0.003406  0.003370  0.003343       0  \n",
       "4  0.003406  0.003343  0.003293       0  "
      ]
     },
     "execution_count": 52,
     "metadata": {},
     "output_type": "execute_result"
    }
   ],
   "source": [
    "movies_pageranks_top_5 = pd.read_csv('./FINAL/data/movie_pageranks.txt', sep=\"\\t\", encoding='latin-1',header = None, names = ['movie_title','pg1','pg2','pg3','pg4','pg5','rating'])#,'Timespan'])\n",
    "movies_pageranks_top_5['rating'] = 0\n",
    "movies_timespan_pagerank = movies_timespan.merge(movies_pageranks_top_5, left_on='movie_title', right_on='movie_title', how='inner')\n",
    "movies_pageranks_top_5.head(5)"
   ]
  },
  {
   "cell_type": "markdown",
   "metadata": {},
   "source": [
    "converting timespan to integer type"
   ]
  },
  {
   "cell_type": "code",
   "execution_count": 53,
   "metadata": {},
   "outputs": [
    {
     "data": {
      "text/html": [
       "<div>\n",
       "<style>\n",
       "    .dataframe thead tr:only-child th {\n",
       "        text-align: right;\n",
       "    }\n",
       "\n",
       "    .dataframe thead th {\n",
       "        text-align: left;\n",
       "    }\n",
       "\n",
       "    .dataframe tbody tr th {\n",
       "        vertical-align: top;\n",
       "    }\n",
       "</style>\n",
       "<table border=\"1\" class=\"dataframe\">\n",
       "  <thead>\n",
       "    <tr style=\"text-align: right;\">\n",
       "      <th></th>\n",
       "      <th>movie_title</th>\n",
       "      <th>timespan</th>\n",
       "      <th>pg1</th>\n",
       "      <th>pg2</th>\n",
       "      <th>pg3</th>\n",
       "      <th>pg4</th>\n",
       "      <th>pg5</th>\n",
       "      <th>rating</th>\n",
       "    </tr>\n",
       "  </thead>\n",
       "  <tbody>\n",
       "    <tr>\n",
       "      <th>0</th>\n",
       "      <td>'Til There Was You (1997)</td>\n",
       "      <td>188</td>\n",
       "      <td>0.003370</td>\n",
       "      <td>0.002592</td>\n",
       "      <td>0.002173</td>\n",
       "      <td>0.001925</td>\n",
       "      <td>0.001600</td>\n",
       "      <td>0</td>\n",
       "    </tr>\n",
       "    <tr>\n",
       "      <th>1</th>\n",
       "      <td>1-900 (1994)</td>\n",
       "      <td>122</td>\n",
       "      <td>0.002679</td>\n",
       "      <td>0.001992</td>\n",
       "      <td>0.001892</td>\n",
       "      <td>0.001875</td>\n",
       "      <td>0.000441</td>\n",
       "      <td>0</td>\n",
       "    </tr>\n",
       "    <tr>\n",
       "      <th>2</th>\n",
       "      <td>101 Dalmatians (1996)</td>\n",
       "      <td>214</td>\n",
       "      <td>0.003701</td>\n",
       "      <td>0.003406</td>\n",
       "      <td>0.003370</td>\n",
       "      <td>0.003343</td>\n",
       "      <td>0.003012</td>\n",
       "      <td>0</td>\n",
       "    </tr>\n",
       "    <tr>\n",
       "      <th>3</th>\n",
       "      <td>12 Angry Men (1957)</td>\n",
       "      <td>213</td>\n",
       "      <td>0.003701</td>\n",
       "      <td>0.003484</td>\n",
       "      <td>0.003406</td>\n",
       "      <td>0.003370</td>\n",
       "      <td>0.003293</td>\n",
       "      <td>0</td>\n",
       "    </tr>\n",
       "    <tr>\n",
       "      <th>4</th>\n",
       "      <td>187 (1997)</td>\n",
       "      <td>207</td>\n",
       "      <td>0.003484</td>\n",
       "      <td>0.003370</td>\n",
       "      <td>0.003293</td>\n",
       "      <td>0.003241</td>\n",
       "      <td>0.002805</td>\n",
       "      <td>0</td>\n",
       "    </tr>\n",
       "  </tbody>\n",
       "</table>\n",
       "</div>"
      ],
      "text/plain": [
       "                 movie_title  timespan       pg1       pg2       pg3  \\\n",
       "0  'Til There Was You (1997)       188  0.003370  0.002592  0.002173   \n",
       "1               1-900 (1994)       122  0.002679  0.001992  0.001892   \n",
       "2      101 Dalmatians (1996)       214  0.003701  0.003406  0.003370   \n",
       "3        12 Angry Men (1957)       213  0.003701  0.003484  0.003406   \n",
       "4                 187 (1997)       207  0.003484  0.003370  0.003293   \n",
       "\n",
       "        pg4       pg5  rating  \n",
       "0  0.001925  0.001600       0  \n",
       "1  0.001875  0.000441       0  \n",
       "2  0.003343  0.003012       0  \n",
       "3  0.003370  0.003293       0  \n",
       "4  0.003241  0.002805       0  "
      ]
     },
     "execution_count": 53,
     "metadata": {},
     "output_type": "execute_result"
    }
   ],
   "source": [
    "movies_timespan_pagerank['timespan'] = movies_timespan_pagerank['timespan'].astype('int64')\n",
    "movies_timespan_pagerank.head(5)"
   ]
  },
  {
   "cell_type": "markdown",
   "metadata": {},
   "source": [
    "filling up rating column of fdf"
   ]
  },
  {
   "cell_type": "code",
   "execution_count": 54,
   "metadata": {},
   "outputs": [],
   "source": [
    "tsps = []\n",
    "movies = []\n",
    "nrows = movies_timespan_pagerank.shape[0]\n",
    "for i in range(0,nrows):\n",
    "    movie = movies_pageranks_top_5.iloc[i,0]\n",
    "    if movie in movie_avg_rating_dict:\n",
    "        movies_timespan_pagerank.iloc[i,7] = movie_avg_rating_dict[movie]"
   ]
  },
  {
   "cell_type": "markdown",
   "metadata": {},
   "source": [
    "drop columns without values"
   ]
  },
  {
   "cell_type": "code",
   "execution_count": 55,
   "metadata": {},
   "outputs": [],
   "source": [
    "movies_timespan_pagerank = movies_timespan_pagerank.dropna() "
   ]
  },
  {
   "cell_type": "markdown",
   "metadata": {},
   "source": [
    "preparing baseline feature dataframe - baseline model is trained on: age, gender, occupation, genres"
   ]
  },
  {
   "cell_type": "code",
   "execution_count": 56,
   "metadata": {},
   "outputs": [],
   "source": [
    "merged1 = user_movie_info.merge(movies_info, left_on='movie_id', right_on='movie_id', how='inner')\n",
    "merged2 = merged1.merge(users_info, left_on='user_id', right_on='user_id', how='inner')\n",
    "rqdCols = ['user_id','movie_title','age','occupation','gender']+genres#+['rating']\n",
    "baseline = merged2[rqdCols]\n",
    "#keeping non-empty values\n",
    "baseline = baseline[baseline['gender'] != 'empty']\n",
    "baseline = baseline[baseline['occupation'] != 'empty']"
   ]
  },
  {
   "cell_type": "markdown",
   "metadata": {},
   "source": [
    "since gender and occupation are categorical features, they are one-hot encoded below"
   ]
  },
  {
   "cell_type": "code",
   "execution_count": 57,
   "metadata": {},
   "outputs": [
    {
     "data": {
      "text/html": [
       "<div>\n",
       "<style>\n",
       "    .dataframe thead tr:only-child th {\n",
       "        text-align: right;\n",
       "    }\n",
       "\n",
       "    .dataframe thead th {\n",
       "        text-align: left;\n",
       "    }\n",
       "\n",
       "    .dataframe tbody tr th {\n",
       "        vertical-align: top;\n",
       "    }\n",
       "</style>\n",
       "<table border=\"1\" class=\"dataframe\">\n",
       "  <thead>\n",
       "    <tr style=\"text-align: right;\">\n",
       "      <th></th>\n",
       "      <th>movie_title</th>\n",
       "      <th>age</th>\n",
       "      <th>unknown</th>\n",
       "      <th>action</th>\n",
       "      <th>adventure</th>\n",
       "      <th>animation</th>\n",
       "      <th>children</th>\n",
       "      <th>comedy</th>\n",
       "      <th>crime</th>\n",
       "      <th>documentary</th>\n",
       "      <th>...</th>\n",
       "      <th>programmer</th>\n",
       "      <th>retired</th>\n",
       "      <th>salesman</th>\n",
       "      <th>scientist</th>\n",
       "      <th>student</th>\n",
       "      <th>technician</th>\n",
       "      <th>writer</th>\n",
       "      <th>F</th>\n",
       "      <th>M</th>\n",
       "      <th>rating</th>\n",
       "    </tr>\n",
       "  </thead>\n",
       "  <tbody>\n",
       "    <tr>\n",
       "      <th>0</th>\n",
       "      <td>Kolya (1996)</td>\n",
       "      <td>49</td>\n",
       "      <td>0</td>\n",
       "      <td>0</td>\n",
       "      <td>0</td>\n",
       "      <td>0</td>\n",
       "      <td>0</td>\n",
       "      <td>1</td>\n",
       "      <td>0</td>\n",
       "      <td>0</td>\n",
       "      <td>...</td>\n",
       "      <td>0</td>\n",
       "      <td>0</td>\n",
       "      <td>0</td>\n",
       "      <td>0</td>\n",
       "      <td>0</td>\n",
       "      <td>0</td>\n",
       "      <td>1</td>\n",
       "      <td>0</td>\n",
       "      <td>1</td>\n",
       "      <td>3.99145</td>\n",
       "    </tr>\n",
       "    <tr>\n",
       "      <th>1</th>\n",
       "      <td>Kolya (1996)</td>\n",
       "      <td>31</td>\n",
       "      <td>0</td>\n",
       "      <td>0</td>\n",
       "      <td>0</td>\n",
       "      <td>0</td>\n",
       "      <td>0</td>\n",
       "      <td>1</td>\n",
       "      <td>0</td>\n",
       "      <td>0</td>\n",
       "      <td>...</td>\n",
       "      <td>0</td>\n",
       "      <td>0</td>\n",
       "      <td>0</td>\n",
       "      <td>0</td>\n",
       "      <td>0</td>\n",
       "      <td>0</td>\n",
       "      <td>0</td>\n",
       "      <td>0</td>\n",
       "      <td>1</td>\n",
       "      <td>3.99145</td>\n",
       "    </tr>\n",
       "    <tr>\n",
       "      <th>2</th>\n",
       "      <td>Kolya (1996)</td>\n",
       "      <td>28</td>\n",
       "      <td>0</td>\n",
       "      <td>0</td>\n",
       "      <td>0</td>\n",
       "      <td>0</td>\n",
       "      <td>0</td>\n",
       "      <td>1</td>\n",
       "      <td>0</td>\n",
       "      <td>0</td>\n",
       "      <td>...</td>\n",
       "      <td>0</td>\n",
       "      <td>0</td>\n",
       "      <td>0</td>\n",
       "      <td>0</td>\n",
       "      <td>1</td>\n",
       "      <td>0</td>\n",
       "      <td>0</td>\n",
       "      <td>0</td>\n",
       "      <td>1</td>\n",
       "      <td>3.99145</td>\n",
       "    </tr>\n",
       "    <tr>\n",
       "      <th>3</th>\n",
       "      <td>Kolya (1996)</td>\n",
       "      <td>25</td>\n",
       "      <td>0</td>\n",
       "      <td>0</td>\n",
       "      <td>0</td>\n",
       "      <td>0</td>\n",
       "      <td>0</td>\n",
       "      <td>1</td>\n",
       "      <td>0</td>\n",
       "      <td>0</td>\n",
       "      <td>...</td>\n",
       "      <td>0</td>\n",
       "      <td>0</td>\n",
       "      <td>0</td>\n",
       "      <td>0</td>\n",
       "      <td>1</td>\n",
       "      <td>0</td>\n",
       "      <td>0</td>\n",
       "      <td>0</td>\n",
       "      <td>1</td>\n",
       "      <td>3.99145</td>\n",
       "    </tr>\n",
       "    <tr>\n",
       "      <th>4</th>\n",
       "      <td>Kolya (1996)</td>\n",
       "      <td>45</td>\n",
       "      <td>0</td>\n",
       "      <td>0</td>\n",
       "      <td>0</td>\n",
       "      <td>0</td>\n",
       "      <td>0</td>\n",
       "      <td>1</td>\n",
       "      <td>0</td>\n",
       "      <td>0</td>\n",
       "      <td>...</td>\n",
       "      <td>0</td>\n",
       "      <td>0</td>\n",
       "      <td>0</td>\n",
       "      <td>0</td>\n",
       "      <td>0</td>\n",
       "      <td>0</td>\n",
       "      <td>0</td>\n",
       "      <td>0</td>\n",
       "      <td>1</td>\n",
       "      <td>3.99145</td>\n",
       "    </tr>\n",
       "  </tbody>\n",
       "</table>\n",
       "<p>5 rows × 45 columns</p>\n",
       "</div>"
      ],
      "text/plain": [
       "    movie_title  age  unknown  action  adventure  animation  children  comedy  \\\n",
       "0  Kolya (1996)   49        0       0          0          0         0       1   \n",
       "1  Kolya (1996)   31        0       0          0          0         0       1   \n",
       "2  Kolya (1996)   28        0       0          0          0         0       1   \n",
       "3  Kolya (1996)   25        0       0          0          0         0       1   \n",
       "4  Kolya (1996)   45        0       0          0          0         0       1   \n",
       "\n",
       "   crime  documentary   ...     programmer  retired  salesman  scientist  \\\n",
       "0      0            0   ...              0        0         0          0   \n",
       "1      0            0   ...              0        0         0          0   \n",
       "2      0            0   ...              0        0         0          0   \n",
       "3      0            0   ...              0        0         0          0   \n",
       "4      0            0   ...              0        0         0          0   \n",
       "\n",
       "   student  technician  writer  F  M   rating  \n",
       "0        0           0       1  0  1  3.99145  \n",
       "1        0           0       0  0  1  3.99145  \n",
       "2        1           0       0  0  1  3.99145  \n",
       "3        1           0       0  0  1  3.99145  \n",
       "4        0           0       0  0  1  3.99145  \n",
       "\n",
       "[5 rows x 45 columns]"
      ]
     },
     "execution_count": 57,
     "metadata": {},
     "output_type": "execute_result"
    }
   ],
   "source": [
    "baseline['occupation'] = baseline['occupation'].astype('category')\n",
    "baseline['gender'] = baseline['gender'].astype('category')\n",
    "one_hot_occ = baseline.occupation.str.get_dummies()\n",
    "baseline = baseline.drop('occupation',axis=1)\n",
    "baseline = baseline.join(one_hot_occ,how='inner')\n",
    "one_hot_g = baseline.gender.str.get_dummies()\n",
    "baseline = baseline.drop('gender',axis=1)\n",
    "baseline = baseline.join(one_hot_g,how='inner')\n",
    "baseline = baseline.merge(avg_rating, left_on='movie_title', right_on='movie_title', how='inner')\n",
    "baseline = baseline.drop('user_id',axis=1)\n",
    "baseline.head(5)"
   ]
  },
  {
   "cell_type": "markdown",
   "metadata": {},
   "source": [
    "The new features that are added are: \n",
    "1. timespan between movie release and review date\n",
    "2. pageranks of the top 5 users that have rated that movie"
   ]
  },
  {
   "cell_type": "markdown",
   "metadata": {},
   "source": [
    "preparing feature dataframe including engineered features"
   ]
  },
  {
   "cell_type": "code",
   "execution_count": 58,
   "metadata": {},
   "outputs": [],
   "source": [
    "movies_timespan_pagerank = movies_timespan_pagerank.drop('rating',axis=1)\n",
    "final = movies_timespan_pagerank.merge(baseline, left_on='movie_title', right_on='movie_title', how='inner') "
   ]
  },
  {
   "cell_type": "markdown",
   "metadata": {},
   "source": [
    "splitting dataframe including engineered features into test and train data"
   ]
  },
  {
   "cell_type": "code",
   "execution_count": 59,
   "metadata": {},
   "outputs": [],
   "source": [
    "X = final.iloc[:,1:50]\n",
    "y = final.iloc[:,50:]\n",
    "X_train, X_test, y_train, y_test = train_test_split(X, y, \n",
    "test_size=0.20, random_state=0)"
   ]
  },
  {
   "cell_type": "markdown",
   "metadata": {},
   "source": [
    "##### Baseline Modelling (without engineered features)"
   ]
  },
  {
   "cell_type": "markdown",
   "metadata": {},
   "source": [
    "splitting baseline dataframe into test and train data"
   ]
  },
  {
   "cell_type": "code",
   "execution_count": 60,
   "metadata": {},
   "outputs": [],
   "source": [
    "X_base = baseline.iloc[:,1:44]\n",
    "y_base = baseline.iloc[:,44:]\n",
    "X_base_train, X_base_test, y_base_train, y_base_test = train_test_split(X_base, y_base, \n",
    "test_size=0.20, random_state=0)"
   ]
  },
  {
   "cell_type": "markdown",
   "metadata": {},
   "source": [
    "training the model"
   ]
  },
  {
   "cell_type": "code",
   "execution_count": 61,
   "metadata": {},
   "outputs": [],
   "source": [
    "baseline_method = tree.DecisionTreeRegressor()\n",
    "model_baseline = baseline_method.fit(X_base_train, y_base_train)"
   ]
  },
  {
   "cell_type": "markdown",
   "metadata": {},
   "source": [
    "getting the ratings for some example movies"
   ]
  },
  {
   "cell_type": "code",
   "execution_count": 62,
   "metadata": {},
   "outputs": [
    {
     "name": "stdout",
     "output_type": "stream",
     "text": [
      "prediction for Little Buddha (1993)\n",
      "[ 3.71158207]\n",
      "prediction for Little Big League (1994)\n",
      "[ 2.82887762]\n",
      "prediction for Metro (1997)\n",
      "[ 2.95523888]\n"
     ]
    }
   ],
   "source": [
    "for i in range(1, len(baseline)):\n",
    "    movie = baseline.iloc[i, 0]\n",
    "    if(movie == 'Little Buddha (1993)'):\n",
    "        mov1_feature = baseline.iloc[i,1:44]\n",
    "    if(movie == 'Little Big League (1994)'):\n",
    "        mov2_feature = baseline.iloc[i,1:44]\n",
    "    if (movie == 'Metro (1997)'):\n",
    "        mov3_feature = baseline.iloc[i, 1:44]\n",
    "print(\"prediction for Little Buddha (1993)\")\n",
    "print(model_baseline.predict([mov1_feature]))\n",
    "print(\"prediction for Little Big League (1994)\")\n",
    "print(model_baseline.predict([mov2_feature]))\n",
    "print(\"prediction for Metro (1997)\")\n",
    "print(model_baseline.predict([mov3_feature]))"
   ]
  },
  {
   "cell_type": "markdown",
   "metadata": {},
   "source": [
    "checking the effectiveness of the model on test data"
   ]
  },
  {
   "cell_type": "code",
   "execution_count": 63,
   "metadata": {},
   "outputs": [
    {
     "name": "stdout",
     "output_type": "stream",
     "text": [
      "testing score:  0.233581015156\n",
      "\n",
      "\n"
     ]
    }
   ],
   "source": [
    "print(\"testing score: \",(model_baseline.score(X_base_test, y_base_test)))\n",
    "print(\"\\n\")"
   ]
  },
  {
   "cell_type": "markdown",
   "metadata": {},
   "source": [
    "since the baseline model is giving a score of 0.23 it doesn't seem to be performing well, we try linear regression"
   ]
  },
  {
   "cell_type": "markdown",
   "metadata": {},
   "source": [
    "performing correlation analysis between features before performing multiple regression, begin by finding correlation matrix"
   ]
  },
  {
   "cell_type": "code",
   "execution_count": 64,
   "metadata": {},
   "outputs": [
    {
     "data": {
      "text/html": [
       "<div>\n",
       "<style>\n",
       "    .dataframe thead tr:only-child th {\n",
       "        text-align: right;\n",
       "    }\n",
       "\n",
       "    .dataframe thead th {\n",
       "        text-align: left;\n",
       "    }\n",
       "\n",
       "    .dataframe tbody tr th {\n",
       "        vertical-align: top;\n",
       "    }\n",
       "</style>\n",
       "<table border=\"1\" class=\"dataframe\">\n",
       "  <thead>\n",
       "    <tr style=\"text-align: right;\">\n",
       "      <th></th>\n",
       "      <th>timespan</th>\n",
       "      <th>pg1</th>\n",
       "      <th>pg2</th>\n",
       "      <th>pg3</th>\n",
       "      <th>pg4</th>\n",
       "      <th>pg5</th>\n",
       "      <th>age</th>\n",
       "      <th>unknown</th>\n",
       "      <th>action</th>\n",
       "      <th>adventure</th>\n",
       "      <th>...</th>\n",
       "      <th>other</th>\n",
       "      <th>programmer</th>\n",
       "      <th>retired</th>\n",
       "      <th>salesman</th>\n",
       "      <th>scientist</th>\n",
       "      <th>student</th>\n",
       "      <th>technician</th>\n",
       "      <th>writer</th>\n",
       "      <th>F</th>\n",
       "      <th>M</th>\n",
       "    </tr>\n",
       "  </thead>\n",
       "  <tbody>\n",
       "    <tr>\n",
       "      <th>timespan</th>\n",
       "      <td>1.000000</td>\n",
       "      <td>0.233473</td>\n",
       "      <td>0.385734</td>\n",
       "      <td>0.470963</td>\n",
       "      <td>0.489895</td>\n",
       "      <td>0.503406</td>\n",
       "      <td>-0.024938</td>\n",
       "      <td>NaN</td>\n",
       "      <td>0.066371</td>\n",
       "      <td>0.095154</td>\n",
       "      <td>...</td>\n",
       "      <td>0.003343</td>\n",
       "      <td>0.019920</td>\n",
       "      <td>-0.013621</td>\n",
       "      <td>-0.003093</td>\n",
       "      <td>0.009214</td>\n",
       "      <td>0.006403</td>\n",
       "      <td>0.018963</td>\n",
       "      <td>-0.008016</td>\n",
       "      <td>-0.020024</td>\n",
       "      <td>0.020024</td>\n",
       "    </tr>\n",
       "    <tr>\n",
       "      <th>pg1</th>\n",
       "      <td>0.233473</td>\n",
       "      <td>1.000000</td>\n",
       "      <td>0.744092</td>\n",
       "      <td>0.677540</td>\n",
       "      <td>0.647486</td>\n",
       "      <td>0.635046</td>\n",
       "      <td>0.038706</td>\n",
       "      <td>NaN</td>\n",
       "      <td>0.149296</td>\n",
       "      <td>0.049071</td>\n",
       "      <td>...</td>\n",
       "      <td>-0.004244</td>\n",
       "      <td>0.003011</td>\n",
       "      <td>-0.002318</td>\n",
       "      <td>0.004339</td>\n",
       "      <td>0.019094</td>\n",
       "      <td>-0.008378</td>\n",
       "      <td>0.005769</td>\n",
       "      <td>-0.004127</td>\n",
       "      <td>-0.024366</td>\n",
       "      <td>0.024366</td>\n",
       "    </tr>\n",
       "    <tr>\n",
       "      <th>pg2</th>\n",
       "      <td>0.385734</td>\n",
       "      <td>0.744092</td>\n",
       "      <td>1.000000</td>\n",
       "      <td>0.892831</td>\n",
       "      <td>0.843782</td>\n",
       "      <td>0.814290</td>\n",
       "      <td>0.024033</td>\n",
       "      <td>NaN</td>\n",
       "      <td>0.107433</td>\n",
       "      <td>0.041279</td>\n",
       "      <td>...</td>\n",
       "      <td>-0.004589</td>\n",
       "      <td>0.009274</td>\n",
       "      <td>-0.005042</td>\n",
       "      <td>0.004801</td>\n",
       "      <td>0.022616</td>\n",
       "      <td>-0.001000</td>\n",
       "      <td>0.010226</td>\n",
       "      <td>-0.012405</td>\n",
       "      <td>-0.020985</td>\n",
       "      <td>0.020985</td>\n",
       "    </tr>\n",
       "    <tr>\n",
       "      <th>pg3</th>\n",
       "      <td>0.470963</td>\n",
       "      <td>0.677540</td>\n",
       "      <td>0.892831</td>\n",
       "      <td>1.000000</td>\n",
       "      <td>0.943896</td>\n",
       "      <td>0.904711</td>\n",
       "      <td>0.009415</td>\n",
       "      <td>NaN</td>\n",
       "      <td>0.132035</td>\n",
       "      <td>0.057067</td>\n",
       "      <td>...</td>\n",
       "      <td>-0.003692</td>\n",
       "      <td>0.014827</td>\n",
       "      <td>-0.007164</td>\n",
       "      <td>0.006075</td>\n",
       "      <td>0.022622</td>\n",
       "      <td>0.005167</td>\n",
       "      <td>0.017110</td>\n",
       "      <td>-0.014307</td>\n",
       "      <td>-0.029421</td>\n",
       "      <td>0.029421</td>\n",
       "    </tr>\n",
       "    <tr>\n",
       "      <th>pg4</th>\n",
       "      <td>0.489895</td>\n",
       "      <td>0.647486</td>\n",
       "      <td>0.843782</td>\n",
       "      <td>0.943896</td>\n",
       "      <td>1.000000</td>\n",
       "      <td>0.956869</td>\n",
       "      <td>0.001800</td>\n",
       "      <td>NaN</td>\n",
       "      <td>0.144187</td>\n",
       "      <td>0.062767</td>\n",
       "      <td>...</td>\n",
       "      <td>-0.000493</td>\n",
       "      <td>0.016289</td>\n",
       "      <td>-0.007578</td>\n",
       "      <td>0.007408</td>\n",
       "      <td>0.023063</td>\n",
       "      <td>0.008216</td>\n",
       "      <td>0.017728</td>\n",
       "      <td>-0.015979</td>\n",
       "      <td>-0.031369</td>\n",
       "      <td>0.031369</td>\n",
       "    </tr>\n",
       "  </tbody>\n",
       "</table>\n",
       "<p>5 rows × 49 columns</p>\n",
       "</div>"
      ],
      "text/plain": [
       "          timespan       pg1       pg2       pg3       pg4       pg5  \\\n",
       "timespan  1.000000  0.233473  0.385734  0.470963  0.489895  0.503406   \n",
       "pg1       0.233473  1.000000  0.744092  0.677540  0.647486  0.635046   \n",
       "pg2       0.385734  0.744092  1.000000  0.892831  0.843782  0.814290   \n",
       "pg3       0.470963  0.677540  0.892831  1.000000  0.943896  0.904711   \n",
       "pg4       0.489895  0.647486  0.843782  0.943896  1.000000  0.956869   \n",
       "\n",
       "               age  unknown    action  adventure    ...        other  \\\n",
       "timespan -0.024938      NaN  0.066371   0.095154    ...     0.003343   \n",
       "pg1       0.038706      NaN  0.149296   0.049071    ...    -0.004244   \n",
       "pg2       0.024033      NaN  0.107433   0.041279    ...    -0.004589   \n",
       "pg3       0.009415      NaN  0.132035   0.057067    ...    -0.003692   \n",
       "pg4       0.001800      NaN  0.144187   0.062767    ...    -0.000493   \n",
       "\n",
       "          programmer   retired  salesman  scientist   student  technician  \\\n",
       "timespan    0.019920 -0.013621 -0.003093   0.009214  0.006403    0.018963   \n",
       "pg1         0.003011 -0.002318  0.004339   0.019094 -0.008378    0.005769   \n",
       "pg2         0.009274 -0.005042  0.004801   0.022616 -0.001000    0.010226   \n",
       "pg3         0.014827 -0.007164  0.006075   0.022622  0.005167    0.017110   \n",
       "pg4         0.016289 -0.007578  0.007408   0.023063  0.008216    0.017728   \n",
       "\n",
       "            writer         F         M  \n",
       "timespan -0.008016 -0.020024  0.020024  \n",
       "pg1      -0.004127 -0.024366  0.024366  \n",
       "pg2      -0.012405 -0.020985  0.020985  \n",
       "pg3      -0.014307 -0.029421  0.029421  \n",
       "pg4      -0.015979 -0.031369  0.031369  \n",
       "\n",
       "[5 rows x 49 columns]"
      ]
     },
     "execution_count": 64,
     "metadata": {},
     "output_type": "execute_result"
    }
   ],
   "source": [
    "correlation_matrix = final.corr()\n",
    "correlation_matrix.head(5)"
   ]
  },
  {
   "cell_type": "markdown",
   "metadata": {},
   "source": [
    "function for finding most correlated features"
   ]
  },
  {
   "cell_type": "code",
   "execution_count": 65,
   "metadata": {},
   "outputs": [],
   "source": [
    "def mostcorrelated(mydf, n):\n",
    "    cormatrix = mydf.corr()\n",
    "    #set the correlations on diagnol or lower triangle to zero\n",
    "    #don't want duplicacy of correlations when ranking them\n",
    "    cormatrix *= np.tri(*cormatrix.values.shape, k=-1).T\n",
    "    cormatrix = cormatrix.stack() #gives top n correlation values\n",
    "    cormatrix = cormatrix.reindex(cormatrix.abs().sort_values(ascending=False).index).reset_index()\n",
    "    cormatrix.columns = [\"Variable 1\", \"Variable 2\", \"Correlation\"]\n",
    "    return cormatrix.head(n)"
   ]
  },
  {
   "cell_type": "markdown",
   "metadata": {},
   "source": [
    "checking most correlated features"
   ]
  },
  {
   "cell_type": "code",
   "execution_count": 66,
   "metadata": {},
   "outputs": [
    {
     "data": {
      "text/html": [
       "<div>\n",
       "<style>\n",
       "    .dataframe thead tr:only-child th {\n",
       "        text-align: right;\n",
       "    }\n",
       "\n",
       "    .dataframe thead th {\n",
       "        text-align: left;\n",
       "    }\n",
       "\n",
       "    .dataframe tbody tr th {\n",
       "        vertical-align: top;\n",
       "    }\n",
       "</style>\n",
       "<table border=\"1\" class=\"dataframe\">\n",
       "  <thead>\n",
       "    <tr style=\"text-align: right;\">\n",
       "      <th></th>\n",
       "      <th>Variable 1</th>\n",
       "      <th>Variable 2</th>\n",
       "      <th>Correlation</th>\n",
       "    </tr>\n",
       "  </thead>\n",
       "  <tbody>\n",
       "    <tr>\n",
       "      <th>0</th>\n",
       "      <td>F</td>\n",
       "      <td>M</td>\n",
       "      <td>-1.000000</td>\n",
       "    </tr>\n",
       "    <tr>\n",
       "      <th>1</th>\n",
       "      <td>pg4</td>\n",
       "      <td>pg5</td>\n",
       "      <td>0.956869</td>\n",
       "    </tr>\n",
       "    <tr>\n",
       "      <th>2</th>\n",
       "      <td>pg3</td>\n",
       "      <td>pg4</td>\n",
       "      <td>0.943896</td>\n",
       "    </tr>\n",
       "    <tr>\n",
       "      <th>3</th>\n",
       "      <td>pg3</td>\n",
       "      <td>pg5</td>\n",
       "      <td>0.904711</td>\n",
       "    </tr>\n",
       "    <tr>\n",
       "      <th>4</th>\n",
       "      <td>pg2</td>\n",
       "      <td>pg3</td>\n",
       "      <td>0.892831</td>\n",
       "    </tr>\n",
       "    <tr>\n",
       "      <th>5</th>\n",
       "      <td>pg2</td>\n",
       "      <td>pg4</td>\n",
       "      <td>0.843782</td>\n",
       "    </tr>\n",
       "    <tr>\n",
       "      <th>6</th>\n",
       "      <td>pg2</td>\n",
       "      <td>pg5</td>\n",
       "      <td>0.814290</td>\n",
       "    </tr>\n",
       "    <tr>\n",
       "      <th>7</th>\n",
       "      <td>pg1</td>\n",
       "      <td>pg2</td>\n",
       "      <td>0.744092</td>\n",
       "    </tr>\n",
       "    <tr>\n",
       "      <th>8</th>\n",
       "      <td>pg1</td>\n",
       "      <td>pg3</td>\n",
       "      <td>0.677540</td>\n",
       "    </tr>\n",
       "    <tr>\n",
       "      <th>9</th>\n",
       "      <td>pg1</td>\n",
       "      <td>pg4</td>\n",
       "      <td>0.647486</td>\n",
       "    </tr>\n",
       "    <tr>\n",
       "      <th>10</th>\n",
       "      <td>pg1</td>\n",
       "      <td>pg5</td>\n",
       "      <td>0.635046</td>\n",
       "    </tr>\n",
       "    <tr>\n",
       "      <th>11</th>\n",
       "      <td>animation</td>\n",
       "      <td>children</td>\n",
       "      <td>0.555408</td>\n",
       "    </tr>\n",
       "    <tr>\n",
       "      <th>12</th>\n",
       "      <td>timespan</td>\n",
       "      <td>pg5</td>\n",
       "      <td>0.503406</td>\n",
       "    </tr>\n",
       "    <tr>\n",
       "      <th>13</th>\n",
       "      <td>age</td>\n",
       "      <td>student</td>\n",
       "      <td>-0.497300</td>\n",
       "    </tr>\n",
       "    <tr>\n",
       "      <th>14</th>\n",
       "      <td>timespan</td>\n",
       "      <td>pg4</td>\n",
       "      <td>0.489895</td>\n",
       "    </tr>\n",
       "    <tr>\n",
       "      <th>15</th>\n",
       "      <td>timespan</td>\n",
       "      <td>pg3</td>\n",
       "      <td>0.470963</td>\n",
       "    </tr>\n",
       "    <tr>\n",
       "      <th>16</th>\n",
       "      <td>action</td>\n",
       "      <td>adventure</td>\n",
       "      <td>0.451618</td>\n",
       "    </tr>\n",
       "    <tr>\n",
       "      <th>17</th>\n",
       "      <td>animation</td>\n",
       "      <td>musical</td>\n",
       "      <td>0.417622</td>\n",
       "    </tr>\n",
       "    <tr>\n",
       "      <th>18</th>\n",
       "      <td>timespan</td>\n",
       "      <td>pg2</td>\n",
       "      <td>0.385734</td>\n",
       "    </tr>\n",
       "    <tr>\n",
       "      <th>19</th>\n",
       "      <td>children</td>\n",
       "      <td>musical</td>\n",
       "      <td>0.381296</td>\n",
       "    </tr>\n",
       "    <tr>\n",
       "      <th>20</th>\n",
       "      <td>comedy</td>\n",
       "      <td>drama</td>\n",
       "      <td>-0.347605</td>\n",
       "    </tr>\n",
       "    <tr>\n",
       "      <th>21</th>\n",
       "      <td>action</td>\n",
       "      <td>sci-fi</td>\n",
       "      <td>0.323816</td>\n",
       "    </tr>\n",
       "    <tr>\n",
       "      <th>22</th>\n",
       "      <td>age</td>\n",
       "      <td>retired</td>\n",
       "      <td>0.317895</td>\n",
       "    </tr>\n",
       "    <tr>\n",
       "      <th>23</th>\n",
       "      <td>adventure</td>\n",
       "      <td>sci-fi</td>\n",
       "      <td>0.294575</td>\n",
       "    </tr>\n",
       "    <tr>\n",
       "      <th>24</th>\n",
       "      <td>comedy</td>\n",
       "      <td>thriller</td>\n",
       "      <td>-0.291075</td>\n",
       "    </tr>\n",
       "    <tr>\n",
       "      <th>25</th>\n",
       "      <td>age</td>\n",
       "      <td>educator</td>\n",
       "      <td>0.274296</td>\n",
       "    </tr>\n",
       "  </tbody>\n",
       "</table>\n",
       "</div>"
      ],
      "text/plain": [
       "   Variable 1 Variable 2  Correlation\n",
       "0           F          M    -1.000000\n",
       "1         pg4        pg5     0.956869\n",
       "2         pg3        pg4     0.943896\n",
       "3         pg3        pg5     0.904711\n",
       "4         pg2        pg3     0.892831\n",
       "5         pg2        pg4     0.843782\n",
       "6         pg2        pg5     0.814290\n",
       "7         pg1        pg2     0.744092\n",
       "8         pg1        pg3     0.677540\n",
       "9         pg1        pg4     0.647486\n",
       "10        pg1        pg5     0.635046\n",
       "11  animation   children     0.555408\n",
       "12   timespan        pg5     0.503406\n",
       "13        age    student    -0.497300\n",
       "14   timespan        pg4     0.489895\n",
       "15   timespan        pg3     0.470963\n",
       "16     action  adventure     0.451618\n",
       "17  animation    musical     0.417622\n",
       "18   timespan        pg2     0.385734\n",
       "19   children    musical     0.381296\n",
       "20     comedy      drama    -0.347605\n",
       "21     action     sci-fi     0.323816\n",
       "22        age    retired     0.317895\n",
       "23  adventure     sci-fi     0.294575\n",
       "24     comedy   thriller    -0.291075\n",
       "25        age   educator     0.274296"
      ]
     },
     "execution_count": 66,
     "metadata": {},
     "output_type": "execute_result"
    }
   ],
   "source": [
    "mostcorrelated(final, 26)"
   ]
  },
  {
   "cell_type": "markdown",
   "metadata": {},
   "source": [
    "finding correlation between genres"
   ]
  },
  {
   "cell_type": "code",
   "execution_count": 67,
   "metadata": {
    "scrolled": true
   },
   "outputs": [
    {
     "data": {
      "text/html": [
       "<div>\n",
       "<style>\n",
       "    .dataframe thead tr:only-child th {\n",
       "        text-align: right;\n",
       "    }\n",
       "\n",
       "    .dataframe thead th {\n",
       "        text-align: left;\n",
       "    }\n",
       "\n",
       "    .dataframe tbody tr th {\n",
       "        vertical-align: top;\n",
       "    }\n",
       "</style>\n",
       "<table border=\"1\" class=\"dataframe\">\n",
       "  <thead>\n",
       "    <tr style=\"text-align: right;\">\n",
       "      <th></th>\n",
       "      <th>action</th>\n",
       "      <th>adventure</th>\n",
       "      <th>animation</th>\n",
       "      <th>children</th>\n",
       "      <th>comedy</th>\n",
       "      <th>crime</th>\n",
       "      <th>documentary</th>\n",
       "      <th>drama</th>\n",
       "      <th>fantasy</th>\n",
       "      <th>film-noir</th>\n",
       "      <th>horror</th>\n",
       "      <th>musical</th>\n",
       "      <th>mystery</th>\n",
       "      <th>romance</th>\n",
       "      <th>sci-fi</th>\n",
       "      <th>thriller</th>\n",
       "      <th>war</th>\n",
       "      <th>western</th>\n",
       "    </tr>\n",
       "  </thead>\n",
       "  <tbody>\n",
       "    <tr>\n",
       "      <th>action</th>\n",
       "      <td>1.000000</td>\n",
       "      <td>0.451618</td>\n",
       "      <td>-0.099302</td>\n",
       "      <td>-0.145225</td>\n",
       "      <td>-0.223550</td>\n",
       "      <td>0.007265</td>\n",
       "      <td>-0.050102</td>\n",
       "      <td>-0.270195</td>\n",
       "      <td>-0.013962</td>\n",
       "      <td>-0.078007</td>\n",
       "      <td>-0.007772</td>\n",
       "      <td>-0.091503</td>\n",
       "      <td>-0.033072</td>\n",
       "      <td>-0.018905</td>\n",
       "      <td>0.323816</td>\n",
       "      <td>0.249325</td>\n",
       "      <td>0.166623</td>\n",
       "      <td>0.063578</td>\n",
       "    </tr>\n",
       "    <tr>\n",
       "      <th>adventure</th>\n",
       "      <td>0.451618</td>\n",
       "      <td>1.000000</td>\n",
       "      <td>-0.024931</td>\n",
       "      <td>0.100400</td>\n",
       "      <td>-0.113261</td>\n",
       "      <td>-0.030133</td>\n",
       "      <td>-0.034127</td>\n",
       "      <td>-0.223751</td>\n",
       "      <td>0.087755</td>\n",
       "      <td>-0.053135</td>\n",
       "      <td>-0.058823</td>\n",
       "      <td>-0.025014</td>\n",
       "      <td>-0.043869</td>\n",
       "      <td>-0.018998</td>\n",
       "      <td>0.294575</td>\n",
       "      <td>-0.049807</td>\n",
       "      <td>0.086913</td>\n",
       "      <td>0.010522</td>\n",
       "    </tr>\n",
       "    <tr>\n",
       "      <th>animation</th>\n",
       "      <td>-0.099302</td>\n",
       "      <td>-0.024931</td>\n",
       "      <td>1.000000</td>\n",
       "      <td>0.555408</td>\n",
       "      <td>0.029559</td>\n",
       "      <td>-0.057346</td>\n",
       "      <td>-0.016529</td>\n",
       "      <td>-0.157695</td>\n",
       "      <td>0.026095</td>\n",
       "      <td>-0.025736</td>\n",
       "      <td>-0.028468</td>\n",
       "      <td>0.417622</td>\n",
       "      <td>-0.045619</td>\n",
       "      <td>-0.085678</td>\n",
       "      <td>-0.044934</td>\n",
       "      <td>-0.077404</td>\n",
       "      <td>-0.056582</td>\n",
       "      <td>-0.026637</td>\n",
       "    </tr>\n",
       "    <tr>\n",
       "      <th>children</th>\n",
       "      <td>-0.145225</td>\n",
       "      <td>0.100400</td>\n",
       "      <td>0.555408</td>\n",
       "      <td>1.000000</td>\n",
       "      <td>0.082959</td>\n",
       "      <td>-0.082480</td>\n",
       "      <td>-0.023774</td>\n",
       "      <td>-0.129979</td>\n",
       "      <td>0.238169</td>\n",
       "      <td>-0.037015</td>\n",
       "      <td>-0.066067</td>\n",
       "      <td>0.381296</td>\n",
       "      <td>-0.055181</td>\n",
       "      <td>-0.119645</td>\n",
       "      <td>-0.042476</td>\n",
       "      <td>-0.144566</td>\n",
       "      <td>-0.085594</td>\n",
       "      <td>-0.031125</td>\n",
       "    </tr>\n",
       "    <tr>\n",
       "      <th>comedy</th>\n",
       "      <td>-0.223550</td>\n",
       "      <td>-0.113261</td>\n",
       "      <td>0.029559</td>\n",
       "      <td>0.082959</td>\n",
       "      <td>1.000000</td>\n",
       "      <td>-0.090999</td>\n",
       "      <td>-0.055676</td>\n",
       "      <td>-0.347605</td>\n",
       "      <td>0.017190</td>\n",
       "      <td>-0.086686</td>\n",
       "      <td>-0.074298</td>\n",
       "      <td>0.034936</td>\n",
       "      <td>-0.111626</td>\n",
       "      <td>0.095764</td>\n",
       "      <td>-0.146069</td>\n",
       "      <td>-0.291075</td>\n",
       "      <td>-0.120086</td>\n",
       "      <td>0.002502</td>\n",
       "    </tr>\n",
       "  </tbody>\n",
       "</table>\n",
       "</div>"
      ],
      "text/plain": [
       "             action  adventure  animation  children    comedy     crime  \\\n",
       "action     1.000000   0.451618  -0.099302 -0.145225 -0.223550  0.007265   \n",
       "adventure  0.451618   1.000000  -0.024931  0.100400 -0.113261 -0.030133   \n",
       "animation -0.099302  -0.024931   1.000000  0.555408  0.029559 -0.057346   \n",
       "children  -0.145225   0.100400   0.555408  1.000000  0.082959 -0.082480   \n",
       "comedy    -0.223550  -0.113261   0.029559  0.082959  1.000000 -0.090999   \n",
       "\n",
       "           documentary     drama   fantasy  film-noir    horror   musical  \\\n",
       "action       -0.050102 -0.270195 -0.013962  -0.078007 -0.007772 -0.091503   \n",
       "adventure    -0.034127 -0.223751  0.087755  -0.053135 -0.058823 -0.025014   \n",
       "animation    -0.016529 -0.157695  0.026095  -0.025736 -0.028468  0.417622   \n",
       "children     -0.023774 -0.129979  0.238169  -0.037015 -0.066067  0.381296   \n",
       "comedy       -0.055676 -0.347605  0.017190  -0.086686 -0.074298  0.034936   \n",
       "\n",
       "            mystery   romance    sci-fi  thriller       war   western  \n",
       "action    -0.033072 -0.018905  0.323816  0.249325  0.166623  0.063578  \n",
       "adventure -0.043869 -0.018998  0.294575 -0.049807  0.086913  0.010522  \n",
       "animation -0.045619 -0.085678 -0.044934 -0.077404 -0.056582 -0.026637  \n",
       "children  -0.055181 -0.119645 -0.042476 -0.144566 -0.085594 -0.031125  \n",
       "comedy    -0.111626  0.095764 -0.146069 -0.291075 -0.120086  0.002502  "
      ]
     },
     "execution_count": 67,
     "metadata": {},
     "output_type": "execute_result"
    }
   ],
   "source": [
    "correlation_genres = final.iloc[:,9:27].corr()\n",
    "correlation_genres.head(5)"
   ]
  },
  {
   "cell_type": "markdown",
   "metadata": {},
   "source": [
    "generating heatmap to visualise the correlation among genres"
   ]
  },
  {
   "cell_type": "code",
   "execution_count": 68,
   "metadata": {
    "scrolled": true
   },
   "outputs": [
    {
     "data": {
      "text/plain": [
       "<matplotlib.axes._subplots.AxesSubplot at 0x16e57d1cf60>"
      ]
     },
     "execution_count": 68,
     "metadata": {},
     "output_type": "execute_result"
    },
    {
     "data": {
      "image/png": "[encoded data removed]",
      "text/plain": [
       "<matplotlib.figure.Figure at 0x16e50290fd0>"
      ]
     },
     "metadata": {},
     "output_type": "display_data"
    }
   ],
   "source": [
    "sns.heatmap(correlation_genres, vmin=0, vmax=1., square=False, cmap=\"gray_r\")"
   ]
  },
  {
   "cell_type": "markdown",
   "metadata": {},
   "source": [
    "finding correlation between occupations"
   ]
  },
  {
   "cell_type": "code",
   "execution_count": 69,
   "metadata": {},
   "outputs": [
    {
     "data": {
      "text/html": [
       "<div>\n",
       "<style>\n",
       "    .dataframe thead tr:only-child th {\n",
       "        text-align: right;\n",
       "    }\n",
       "\n",
       "    .dataframe thead th {\n",
       "        text-align: left;\n",
       "    }\n",
       "\n",
       "    .dataframe tbody tr th {\n",
       "        vertical-align: top;\n",
       "    }\n",
       "</style>\n",
       "<table border=\"1\" class=\"dataframe\">\n",
       "  <thead>\n",
       "    <tr style=\"text-align: right;\">\n",
       "      <th></th>\n",
       "      <th>artist</th>\n",
       "      <th>doctor</th>\n",
       "      <th>educator</th>\n",
       "      <th>engineer</th>\n",
       "      <th>entertainment</th>\n",
       "      <th>executive</th>\n",
       "      <th>healthcare</th>\n",
       "      <th>homemaker</th>\n",
       "      <th>lawyer</th>\n",
       "      <th>librarian</th>\n",
       "      <th>marketing</th>\n",
       "      <th>none</th>\n",
       "      <th>other</th>\n",
       "      <th>programmer</th>\n",
       "      <th>retired</th>\n",
       "      <th>salesman</th>\n",
       "      <th>scientist</th>\n",
       "      <th>student</th>\n",
       "      <th>technician</th>\n",
       "      <th>writer</th>\n",
       "    </tr>\n",
       "  </thead>\n",
       "  <tbody>\n",
       "    <tr>\n",
       "      <th>artist</th>\n",
       "      <td>1.000000</td>\n",
       "      <td>-0.011301</td>\n",
       "      <td>-0.049528</td>\n",
       "      <td>-0.045787</td>\n",
       "      <td>-0.022439</td>\n",
       "      <td>-0.028656</td>\n",
       "      <td>-0.025699</td>\n",
       "      <td>-0.008406</td>\n",
       "      <td>-0.017917</td>\n",
       "      <td>-0.036195</td>\n",
       "      <td>-0.021632</td>\n",
       "      <td>-0.014629</td>\n",
       "      <td>-0.052959</td>\n",
       "      <td>-0.044605</td>\n",
       "      <td>-0.019562</td>\n",
       "      <td>-0.014264</td>\n",
       "      <td>-0.022230</td>\n",
       "      <td>-0.081387</td>\n",
       "      <td>-0.029236</td>\n",
       "      <td>-0.037133</td>\n",
       "    </tr>\n",
       "    <tr>\n",
       "      <th>doctor</th>\n",
       "      <td>-0.011301</td>\n",
       "      <td>1.000000</td>\n",
       "      <td>-0.023821</td>\n",
       "      <td>-0.022022</td>\n",
       "      <td>-0.010792</td>\n",
       "      <td>-0.013782</td>\n",
       "      <td>-0.012360</td>\n",
       "      <td>-0.004043</td>\n",
       "      <td>-0.008617</td>\n",
       "      <td>-0.017408</td>\n",
       "      <td>-0.010404</td>\n",
       "      <td>-0.007036</td>\n",
       "      <td>-0.025471</td>\n",
       "      <td>-0.021453</td>\n",
       "      <td>-0.009409</td>\n",
       "      <td>-0.006860</td>\n",
       "      <td>-0.010692</td>\n",
       "      <td>-0.039144</td>\n",
       "      <td>-0.014061</td>\n",
       "      <td>-0.017859</td>\n",
       "    </tr>\n",
       "    <tr>\n",
       "      <th>educator</th>\n",
       "      <td>-0.049528</td>\n",
       "      <td>-0.023821</td>\n",
       "      <td>1.000000</td>\n",
       "      <td>-0.096517</td>\n",
       "      <td>-0.047301</td>\n",
       "      <td>-0.060405</td>\n",
       "      <td>-0.054172</td>\n",
       "      <td>-0.017721</td>\n",
       "      <td>-0.037769</td>\n",
       "      <td>-0.076298</td>\n",
       "      <td>-0.045599</td>\n",
       "      <td>-0.030837</td>\n",
       "      <td>-0.111636</td>\n",
       "      <td>-0.094024</td>\n",
       "      <td>-0.041237</td>\n",
       "      <td>-0.030068</td>\n",
       "      <td>-0.046861</td>\n",
       "      <td>-0.171561</td>\n",
       "      <td>-0.061629</td>\n",
       "      <td>-0.078274</td>\n",
       "    </tr>\n",
       "    <tr>\n",
       "      <th>engineer</th>\n",
       "      <td>-0.045787</td>\n",
       "      <td>-0.022022</td>\n",
       "      <td>-0.096517</td>\n",
       "      <td>1.000000</td>\n",
       "      <td>-0.043728</td>\n",
       "      <td>-0.055842</td>\n",
       "      <td>-0.050080</td>\n",
       "      <td>-0.016382</td>\n",
       "      <td>-0.034916</td>\n",
       "      <td>-0.070534</td>\n",
       "      <td>-0.042154</td>\n",
       "      <td>-0.028508</td>\n",
       "      <td>-0.103203</td>\n",
       "      <td>-0.086922</td>\n",
       "      <td>-0.038122</td>\n",
       "      <td>-0.027796</td>\n",
       "      <td>-0.043321</td>\n",
       "      <td>-0.158602</td>\n",
       "      <td>-0.056973</td>\n",
       "      <td>-0.072361</td>\n",
       "    </tr>\n",
       "    <tr>\n",
       "      <th>entertainment</th>\n",
       "      <td>-0.022439</td>\n",
       "      <td>-0.010792</td>\n",
       "      <td>-0.047301</td>\n",
       "      <td>-0.043728</td>\n",
       "      <td>1.000000</td>\n",
       "      <td>-0.027367</td>\n",
       "      <td>-0.024543</td>\n",
       "      <td>-0.008028</td>\n",
       "      <td>-0.017112</td>\n",
       "      <td>-0.034568</td>\n",
       "      <td>-0.020659</td>\n",
       "      <td>-0.013971</td>\n",
       "      <td>-0.050578</td>\n",
       "      <td>-0.042599</td>\n",
       "      <td>-0.018683</td>\n",
       "      <td>-0.013622</td>\n",
       "      <td>-0.021231</td>\n",
       "      <td>-0.077728</td>\n",
       "      <td>-0.027922</td>\n",
       "      <td>-0.035463</td>\n",
       "    </tr>\n",
       "  </tbody>\n",
       "</table>\n",
       "</div>"
      ],
      "text/plain": [
       "                 artist    doctor  educator  engineer  entertainment  \\\n",
       "artist         1.000000 -0.011301 -0.049528 -0.045787      -0.022439   \n",
       "doctor        -0.011301  1.000000 -0.023821 -0.022022      -0.010792   \n",
       "educator      -0.049528 -0.023821  1.000000 -0.096517      -0.047301   \n",
       "engineer      -0.045787 -0.022022 -0.096517  1.000000      -0.043728   \n",
       "entertainment -0.022439 -0.010792 -0.047301 -0.043728       1.000000   \n",
       "\n",
       "               executive  healthcare  homemaker    lawyer  librarian  \\\n",
       "artist         -0.028656   -0.025699  -0.008406 -0.017917  -0.036195   \n",
       "doctor         -0.013782   -0.012360  -0.004043 -0.008617  -0.017408   \n",
       "educator       -0.060405   -0.054172  -0.017721 -0.037769  -0.076298   \n",
       "engineer       -0.055842   -0.050080  -0.016382 -0.034916  -0.070534   \n",
       "entertainment  -0.027367   -0.024543  -0.008028 -0.017112  -0.034568   \n",
       "\n",
       "               marketing      none     other  programmer   retired  salesman  \\\n",
       "artist         -0.021632 -0.014629 -0.052959   -0.044605 -0.019562 -0.014264   \n",
       "doctor         -0.010404 -0.007036 -0.025471   -0.021453 -0.009409 -0.006860   \n",
       "educator       -0.045599 -0.030837 -0.111636   -0.094024 -0.041237 -0.030068   \n",
       "engineer       -0.042154 -0.028508 -0.103203   -0.086922 -0.038122 -0.027796   \n",
       "entertainment  -0.020659 -0.013971 -0.050578   -0.042599 -0.018683 -0.013622   \n",
       "\n",
       "               scientist   student  technician    writer  \n",
       "artist         -0.022230 -0.081387   -0.029236 -0.037133  \n",
       "doctor         -0.010692 -0.039144   -0.014061 -0.017859  \n",
       "educator       -0.046861 -0.171561   -0.061629 -0.078274  \n",
       "engineer       -0.043321 -0.158602   -0.056973 -0.072361  \n",
       "entertainment  -0.021231 -0.077728   -0.027922 -0.035463  "
      ]
     },
     "execution_count": 69,
     "metadata": {},
     "output_type": "execute_result"
    }
   ],
   "source": [
    "correlation_occupation = final.iloc[:,28:48].corr()\n",
    "correlation_occupation.head(5)"
   ]
  },
  {
   "cell_type": "markdown",
   "metadata": {},
   "source": [
    "generating heatmap to visualise the correlation among occupation"
   ]
  },
  {
   "cell_type": "code",
   "execution_count": 70,
   "metadata": {},
   "outputs": [
    {
     "data": {
      "text/plain": [
       "<matplotlib.axes._subplots.AxesSubplot at 0x16e503043c8>"
      ]
     },
     "execution_count": 70,
     "metadata": {},
     "output_type": "execute_result"
    },
    {
     "data": {
      "image/png": "[encoded data removed]",
      "text/plain": [
       "<matplotlib.figure.Figure at 0x16e55f7ddd8>"
      ]
     },
     "metadata": {},
     "output_type": "display_data"
    }
   ],
   "source": [
    "sns.heatmap(correlation_occupation, vmin=0, vmax=1., square=False, cmap=\"gray_r\")"
   ]
  },
  {
   "cell_type": "markdown",
   "metadata": {},
   "source": [
    "finding correlation between pageranks"
   ]
  },
  {
   "cell_type": "code",
   "execution_count": 71,
   "metadata": {},
   "outputs": [
    {
     "data": {
      "text/html": [
       "<div>\n",
       "<style>\n",
       "    .dataframe thead tr:only-child th {\n",
       "        text-align: right;\n",
       "    }\n",
       "\n",
       "    .dataframe thead th {\n",
       "        text-align: left;\n",
       "    }\n",
       "\n",
       "    .dataframe tbody tr th {\n",
       "        vertical-align: top;\n",
       "    }\n",
       "</style>\n",
       "<table border=\"1\" class=\"dataframe\">\n",
       "  <thead>\n",
       "    <tr style=\"text-align: right;\">\n",
       "      <th></th>\n",
       "      <th>pg1</th>\n",
       "      <th>pg2</th>\n",
       "      <th>pg3</th>\n",
       "      <th>pg4</th>\n",
       "      <th>pg5</th>\n",
       "    </tr>\n",
       "  </thead>\n",
       "  <tbody>\n",
       "    <tr>\n",
       "      <th>pg1</th>\n",
       "      <td>1.000000</td>\n",
       "      <td>0.744092</td>\n",
       "      <td>0.677540</td>\n",
       "      <td>0.647486</td>\n",
       "      <td>0.635046</td>\n",
       "    </tr>\n",
       "    <tr>\n",
       "      <th>pg2</th>\n",
       "      <td>0.744092</td>\n",
       "      <td>1.000000</td>\n",
       "      <td>0.892831</td>\n",
       "      <td>0.843782</td>\n",
       "      <td>0.814290</td>\n",
       "    </tr>\n",
       "    <tr>\n",
       "      <th>pg3</th>\n",
       "      <td>0.677540</td>\n",
       "      <td>0.892831</td>\n",
       "      <td>1.000000</td>\n",
       "      <td>0.943896</td>\n",
       "      <td>0.904711</td>\n",
       "    </tr>\n",
       "    <tr>\n",
       "      <th>pg4</th>\n",
       "      <td>0.647486</td>\n",
       "      <td>0.843782</td>\n",
       "      <td>0.943896</td>\n",
       "      <td>1.000000</td>\n",
       "      <td>0.956869</td>\n",
       "    </tr>\n",
       "    <tr>\n",
       "      <th>pg5</th>\n",
       "      <td>0.635046</td>\n",
       "      <td>0.814290</td>\n",
       "      <td>0.904711</td>\n",
       "      <td>0.956869</td>\n",
       "      <td>1.000000</td>\n",
       "    </tr>\n",
       "  </tbody>\n",
       "</table>\n",
       "</div>"
      ],
      "text/plain": [
       "          pg1       pg2       pg3       pg4       pg5\n",
       "pg1  1.000000  0.744092  0.677540  0.647486  0.635046\n",
       "pg2  0.744092  1.000000  0.892831  0.843782  0.814290\n",
       "pg3  0.677540  0.892831  1.000000  0.943896  0.904711\n",
       "pg4  0.647486  0.843782  0.943896  1.000000  0.956869\n",
       "pg5  0.635046  0.814290  0.904711  0.956869  1.000000"
      ]
     },
     "execution_count": 71,
     "metadata": {},
     "output_type": "execute_result"
    }
   ],
   "source": [
    "correlation_pagerank = final.iloc[:,2:7].corr()\n",
    "correlation_pagerank.head(5)"
   ]
  },
  {
   "cell_type": "markdown",
   "metadata": {},
   "source": [
    "generating heatmap to visualise the correlation among pageranks"
   ]
  },
  {
   "cell_type": "code",
   "execution_count": 72,
   "metadata": {},
   "outputs": [
    {
     "data": {
      "text/plain": [
       "<matplotlib.axes._subplots.AxesSubplot at 0x16e5908dd68>"
      ]
     },
     "execution_count": 72,
     "metadata": {},
     "output_type": "execute_result"
    },
    {
     "data": {
      "image/png": "[encoded data removed]",
      "text/plain": [
       "<matplotlib.figure.Figure at 0x16e58c0dfd0>"
      ]
     },
     "metadata": {},
     "output_type": "display_data"
    }
   ],
   "source": [
    "sns.heatmap(correlation_pagerank, vmin=0, vmax=1., square=False, cmap=\"gray_r\")"
   ]
  },
  {
   "cell_type": "markdown",
   "metadata": {},
   "source": [
    "##### Linear Regression"
   ]
  },
  {
   "cell_type": "markdown",
   "metadata": {},
   "source": [
    "training the model"
   ]
  },
  {
   "cell_type": "code",
   "execution_count": 73,
   "metadata": {},
   "outputs": [],
   "source": [
    "regression1 = linear_model.LinearRegression()\n",
    "model_regression1 = regression1.fit(X_train, y_train)"
   ]
  },
  {
   "cell_type": "markdown",
   "metadata": {},
   "source": [
    "getting the ratings for some example movies"
   ]
  },
  {
   "cell_type": "code",
   "execution_count": 74,
   "metadata": {},
   "outputs": [
    {
     "name": "stdout",
     "output_type": "stream",
     "text": [
      "prediction for Little Buddha (1993)\n",
      "[[ 3.43663628]]\n",
      "prediction for Little Big League (1994)\n",
      "[[ 2.5772907]]\n",
      "prediction for Metro (1997)\n",
      "[[ 3.16664091]]\n",
      "\n",
      "\n"
     ]
    }
   ],
   "source": [
    "for i in range(1, len(final)):\n",
    "    movie = final.iloc[i, 0]\n",
    "    if(movie == 'Little Buddha (1993)'):\n",
    "        mov1_feature = final.iloc[i,1:50]\n",
    "    if(movie == 'Little Big League (1994)'):\n",
    "        mov2_feature = final.iloc[i,1:50]\n",
    "    if (movie == 'Metro (1997)'):\n",
    "        mov3_feature = final.iloc[i, 1:50]\n",
    "print(\"prediction for Little Buddha (1993)\")\n",
    "print(regression1.predict([mov1_feature]))\n",
    "print(\"prediction for Little Big League (1994)\")\n",
    "print(regression1.predict([mov2_feature]))\n",
    "print(\"prediction for Metro (1997)\")\n",
    "print(regression1.predict([mov3_feature]))\n",
    "print(\"\\n\")"
   ]
  },
  {
   "cell_type": "markdown",
   "metadata": {},
   "source": [
    "plotting true values v/s predictions of linear regression (top 100 values)"
   ]
  },
  {
   "cell_type": "code",
   "execution_count": 75,
   "metadata": {},
   "outputs": [
    {
     "data": {
      "text/plain": [
       "Text(0.5,1,'Linear Regression Model')"
      ]
     },
     "execution_count": 75,
     "metadata": {},
     "output_type": "execute_result"
    },
    {
     "data": {
      "image/png": "[encoded data removed]",
      "text/plain": [
       "<matplotlib.figure.Figure at 0x16e57fa0278>"
      ]
     },
     "metadata": {},
     "output_type": "display_data"
    }
   ],
   "source": [
    "predictions = regression1.predict(X_test)\n",
    "plt.scatter(y_test[0:100], predictions[0:100])\n",
    "plt.xlabel('True Values')\n",
    "plt.ylabel('Predictions')\n",
    "plt.title('Linear Regression Model')"
   ]
  },
  {
   "cell_type": "markdown",
   "metadata": {},
   "source": [
    "performing 10-fold CV and checking the effectiveness of the model on test data"
   ]
  },
  {
   "cell_type": "code",
   "execution_count": 76,
   "metadata": {},
   "outputs": [
    {
     "name": "stdout",
     "output_type": "stream",
     "text": [
      "cross validation scores: \n",
      " [ 0.34028047  0.37086327  0.31849793  0.32726282  0.34128561  0.33365316\n",
      "  0.36486928  0.34915655  0.3538425   0.35127401]\n",
      "testing score: 0.34936911490234035\n",
      "\n",
      "\n"
     ]
    }
   ],
   "source": [
    "regression1_scores = cross_val_score(model_regression1, X_train, y_train, cv = 10)\n",
    "print(\"cross validation scores: \\n\",regression1_scores)\n",
    "print(\"testing score: {}\".format(model_regression1.score(X_test, y_test)))\n",
    "print(\"\\n\")"
   ]
  },
  {
   "cell_type": "markdown",
   "metadata": {},
   "source": [
    "##### Linear Regression - without pageranks"
   ]
  },
  {
   "cell_type": "markdown",
   "metadata": {},
   "source": [
    "preparing feature dataframe including engineered features without pageranks"
   ]
  },
  {
   "cell_type": "code",
   "execution_count": 77,
   "metadata": {},
   "outputs": [],
   "source": [
    "final_without_pagerank = final.drop(final.columns[1:7], axis=1)"
   ]
  },
  {
   "cell_type": "markdown",
   "metadata": {},
   "source": [
    "splitting into test and train data"
   ]
  },
  {
   "cell_type": "code",
   "execution_count": 78,
   "metadata": {},
   "outputs": [],
   "source": [
    "X_pg = final_without_pagerank.iloc[:,1:44]\n",
    "y_pg = final_without_pagerank.iloc[:,44:]\n",
    "X_pg_train, X_pg_test, y_pg_train, y_pg_test = train_test_split(X_pg, y_pg, \n",
    "test_size=0.20, random_state=0)"
   ]
  },
  {
   "cell_type": "markdown",
   "metadata": {},
   "source": [
    "training the model"
   ]
  },
  {
   "cell_type": "code",
   "execution_count": 79,
   "metadata": {},
   "outputs": [],
   "source": [
    "regression2 = linear_model.LinearRegression()\n",
    "model_regression2 = regression2.fit(X_pg_train, y_pg_train)"
   ]
  },
  {
   "cell_type": "markdown",
   "metadata": {},
   "source": [
    "getting the ratings for some example movies"
   ]
  },
  {
   "cell_type": "code",
   "execution_count": 80,
   "metadata": {},
   "outputs": [
    {
     "name": "stdout",
     "output_type": "stream",
     "text": [
      "prediction for Little Buddha (1993)\n",
      "[[ 3.60122681]]\n",
      "prediction for Little Big League (1994)\n",
      "[[ 3.03174973]]\n",
      "prediction for Metro (1997)\n",
      "[[ 3.44247055]]\n",
      "\n",
      "\n"
     ]
    }
   ],
   "source": [
    "for i in range(1, len(final_without_pagerank)):\n",
    "    movie = final_without_pagerank.iloc[i, 0]\n",
    "    if(movie == 'Little Buddha (1993)'):\n",
    "        mov1_feature = final_without_pagerank.iloc[i,1:44]\n",
    "    if(movie == 'Little Big League (1994)'):\n",
    "        mov2_feature = final_without_pagerank.iloc[i,1:44]\n",
    "    if (movie == 'Metro (1997)'):\n",
    "        mov3_feature = final_without_pagerank.iloc[i, 1:44]\n",
    "print(\"prediction for Little Buddha (1993)\")\n",
    "print(regression2.predict([mov1_feature]))\n",
    "print(\"prediction for Little Big League (1994)\")\n",
    "print(regression2.predict([mov2_feature]))\n",
    "print(\"prediction for Metro (1997)\")\n",
    "print(regression2.predict([mov3_feature]))\n",
    "print(\"\\n\")"
   ]
  },
  {
   "cell_type": "markdown",
   "metadata": {},
   "source": [
    "performing 10-fold CV and checking the effectiveness of the model on test data"
   ]
  },
  {
   "cell_type": "code",
   "execution_count": 81,
   "metadata": {},
   "outputs": [
    {
     "name": "stdout",
     "output_type": "stream",
     "text": [
      "cross validation scores: \n",
      " [ 0.15381911  0.17596597  0.15118868  0.15191291  0.17656254  0.16590944\n",
      "  0.17546368  0.15832855  0.16362594  0.16190098]\n",
      "testing score: 0.16523580631806178\n",
      "\n",
      "\n"
     ]
    }
   ],
   "source": [
    "regression2_scores = cross_val_score(model_regression2, X_pg_train, y_pg_train, cv = 10)\n",
    "print(\"cross validation scores: \\n\",regression2_scores)\n",
    "print(\"testing score: {}\".format(model_regression2.score(X_pg_test, y_pg_test)))\n",
    "print(\"\\n\")"
   ]
  },
  {
   "cell_type": "markdown",
   "metadata": {},
   "source": [
    "##### Linear Regression - without genres"
   ]
  },
  {
   "cell_type": "markdown",
   "metadata": {},
   "source": [
    "preparing feature dataframe including engineered features without genres"
   ]
  },
  {
   "cell_type": "code",
   "execution_count": 82,
   "metadata": {},
   "outputs": [],
   "source": [
    "final_without_genre = final.drop(final.columns[8:27], axis=1)"
   ]
  },
  {
   "cell_type": "markdown",
   "metadata": {},
   "source": [
    "splitting into test and train data"
   ]
  },
  {
   "cell_type": "code",
   "execution_count": 83,
   "metadata": {},
   "outputs": [],
   "source": [
    "X_genre = final_without_genre.iloc[:,1:31]\n",
    "y_genre = final_without_genre.iloc[:,31:]\n",
    "X_genre_train, X_genre_test, y_genre_train, y_genre_test = train_test_split(X_genre, y_genre, \n",
    "test_size=0.20, random_state=0)"
   ]
  },
  {
   "cell_type": "markdown",
   "metadata": {},
   "source": [
    "training the model"
   ]
  },
  {
   "cell_type": "code",
   "execution_count": 84,
   "metadata": {},
   "outputs": [],
   "source": [
    "regression3 = linear_model.LinearRegression()\n",
    "model_regression3 = regression3.fit(X_genre_train, y_genre_train)"
   ]
  },
  {
   "cell_type": "markdown",
   "metadata": {},
   "source": [
    "getting the ratings for some example movies"
   ]
  },
  {
   "cell_type": "code",
   "execution_count": 85,
   "metadata": {},
   "outputs": [
    {
     "name": "stdout",
     "output_type": "stream",
     "text": [
      "prediction for Little Buddha (1993)\n",
      "[[ 3.28399508]]\n",
      "prediction for Little Big League (1994)\n",
      "[[ 2.93354486]]\n",
      "prediction for Metro (1997)\n",
      "[[ 3.33451242]]\n",
      "\n",
      "\n"
     ]
    }
   ],
   "source": [
    "for i in range(1, len(final_without_genre)):\n",
    "    movie = final_without_genre.iloc[i, 0]\n",
    "    if(movie == 'Little Buddha (1993)'):\n",
    "        mov1_feature = final_without_genre.iloc[i,1:31]\n",
    "    if(movie == 'Little Big League (1994)'):\n",
    "        mov2_feature = final_without_genre.iloc[i,1:31]\n",
    "    if (movie == 'Metro (1997)'):\n",
    "        mov3_feature = final_without_genre.iloc[i, 1:31]\n",
    "print(\"prediction for Little Buddha (1993)\")\n",
    "print(regression3.predict([mov1_feature]))\n",
    "print(\"prediction for Little Big League (1994)\")\n",
    "print(regression3.predict([mov2_feature]))\n",
    "print(\"prediction for Metro (1997)\")\n",
    "print(regression3.predict([mov3_feature]))\n",
    "print(\"\\n\")"
   ]
  },
  {
   "cell_type": "markdown",
   "metadata": {},
   "source": [
    "performing 10-fold CV and checking the effectiveness of the model on test data"
   ]
  },
  {
   "cell_type": "code",
   "execution_count": 86,
   "metadata": {},
   "outputs": [
    {
     "name": "stdout",
     "output_type": "stream",
     "text": [
      "cross validation scores: \n",
      " [ 0.22793558  0.23448195  0.1987663   0.20686976  0.20480007  0.20287949\n",
      "  0.22949192  0.23349491  0.22952569  0.22388125]\n",
      "testing score: 0.2265582855027679\n",
      "\n",
      "\n"
     ]
    }
   ],
   "source": [
    "regression3_scores = cross_val_score(model_regression3, X_genre_train, y_genre_train, cv = 10)\n",
    "print(\"cross validation scores: \\n\",regression3_scores)\n",
    "print(\"testing score: {}\".format(model_regression3.score(X_genre_test, y_genre_test)))\n",
    "print(\"\\n\")"
   ]
  },
  {
   "cell_type": "markdown",
   "metadata": {},
   "source": [
    "##### Linear Regression - without occupation"
   ]
  },
  {
   "cell_type": "markdown",
   "metadata": {},
   "source": [
    "preparing feature dataframe including engineered features without occupation"
   ]
  },
  {
   "cell_type": "code",
   "execution_count": 87,
   "metadata": {},
   "outputs": [],
   "source": [
    "final_without_occ = final.drop(final.columns[28:48], axis=1)"
   ]
  },
  {
   "cell_type": "markdown",
   "metadata": {},
   "source": [
    "splitting into test and train data"
   ]
  },
  {
   "cell_type": "code",
   "execution_count": 88,
   "metadata": {},
   "outputs": [],
   "source": [
    "X_occ = final_without_occ.iloc[:,1:30]\n",
    "y_occ = final_without_occ.iloc[:,30:]\n",
    "X_occ_train, X_occ_test, y_occ_train, y_occ_test = train_test_split(X_occ, y_occ, \n",
    "test_size=0.20, random_state=0)"
   ]
  },
  {
   "cell_type": "markdown",
   "metadata": {},
   "source": [
    "training the model"
   ]
  },
  {
   "cell_type": "code",
   "execution_count": 89,
   "metadata": {},
   "outputs": [],
   "source": [
    "regression4 = linear_model.LinearRegression()\n",
    "model_regression4 = regression4.fit(X_occ_train, y_occ_train)"
   ]
  },
  {
   "cell_type": "markdown",
   "metadata": {},
   "source": [
    "getting the ratings for some example movies"
   ]
  },
  {
   "cell_type": "code",
   "execution_count": 90,
   "metadata": {},
   "outputs": [
    {
     "name": "stdout",
     "output_type": "stream",
     "text": [
      "prediction for Little Buddha (1993)\n",
      "[[ 3.44049118]]\n",
      "prediction for Little Big League (1994)\n",
      "[[ 2.58958874]]\n",
      "prediction for Metro (1997)\n",
      "[[ 3.16563237]]\n",
      "\n",
      "\n"
     ]
    }
   ],
   "source": [
    "for i in range(1, len(final_without_occ)):\n",
    "    movie = final_without_occ.iloc[i, 0]\n",
    "    if(movie == 'Little Buddha (1993)'):\n",
    "        mov1_feature = final_without_occ.iloc[i,1:30]\n",
    "    if(movie == 'Little Big League (1994)'):\n",
    "        mov2_feature = final_without_occ.iloc[i,1:30]\n",
    "    if (movie == 'Metro (1997)'):\n",
    "        mov3_feature = final_without_occ.iloc[i, 1:30]\n",
    "print(\"prediction for Little Buddha (1993)\")\n",
    "print(regression4.predict([mov1_feature]))\n",
    "print(\"prediction for Little Big League (1994)\")\n",
    "print(regression4.predict([mov2_feature]))\n",
    "print(\"prediction for Metro (1997)\")\n",
    "print(regression4.predict([mov3_feature]))\n",
    "print(\"\\n\")"
   ]
  },
  {
   "cell_type": "markdown",
   "metadata": {},
   "source": [
    "performing 10-fold CV and checking the effectiveness of the model on test data"
   ]
  },
  {
   "cell_type": "code",
   "execution_count": 91,
   "metadata": {},
   "outputs": [
    {
     "name": "stdout",
     "output_type": "stream",
     "text": [
      "cross validation scores: \n",
      " [ 0.33683183  0.36777244  0.31532248  0.3228701   0.33683905  0.33019623\n",
      "  0.36010148  0.34539721  0.34909107  0.34955555]\n",
      "testing score: 0.34460131850798403\n",
      "\n",
      "\n"
     ]
    }
   ],
   "source": [
    "regression4_scores = cross_val_score(model_regression4, X_occ_train, y_occ_train, cv = 10)\n",
    "print(\"cross validation scores: \\n\",regression4_scores)\n",
    "print(\"testing score: {}\".format(model_regression4.score(X_occ_test, y_occ_test)))\n",
    "print(\"\\n\")"
   ]
  },
  {
   "cell_type": "markdown",
   "metadata": {},
   "source": [
    "##### Linear Regression - without timespan"
   ]
  },
  {
   "cell_type": "markdown",
   "metadata": {},
   "source": [
    "preparing feature dataframe including engineered features without timespan"
   ]
  },
  {
   "cell_type": "code",
   "execution_count": 92,
   "metadata": {},
   "outputs": [],
   "source": [
    "final_without_timespan = final.drop(final.columns[1], axis=1)"
   ]
  },
  {
   "cell_type": "markdown",
   "metadata": {},
   "source": [
    "splitting into test and train data"
   ]
  },
  {
   "cell_type": "code",
   "execution_count": 93,
   "metadata": {},
   "outputs": [],
   "source": [
    "X_timespan = final_without_timespan.iloc[:,1:49]\n",
    "y_timespan = final_without_timespan.iloc[:,49:]\n",
    "X_timespan_train, X_timespan_test, y_timespan_train, y_timespan_test = train_test_split(X_timespan, y_timespan, \n",
    "test_size=0.20, random_state=0)"
   ]
  },
  {
   "cell_type": "markdown",
   "metadata": {},
   "source": [
    "training the model"
   ]
  },
  {
   "cell_type": "code",
   "execution_count": 94,
   "metadata": {},
   "outputs": [],
   "source": [
    "regression5 = linear_model.LinearRegression()\n",
    "model_regression5 = regression5.fit(X_timespan_train, y_timespan_train)"
   ]
  },
  {
   "cell_type": "markdown",
   "metadata": {},
   "source": [
    "getting the ratings for some example movies"
   ]
  },
  {
   "cell_type": "code",
   "execution_count": 95,
   "metadata": {},
   "outputs": [
    {
     "name": "stdout",
     "output_type": "stream",
     "text": [
      "prediction for Little Buddha (1993)\n",
      "[[ 3.44046008]]\n",
      "prediction for Little Big League (1994)\n",
      "[[ 2.58085002]]\n",
      "prediction for Metro (1997)\n",
      "[[ 3.16685536]]\n",
      "\n",
      "\n"
     ]
    }
   ],
   "source": [
    "for i in range(1, len(final_without_timespan)):\n",
    "    movie = final_without_timespan.iloc[i, 0]\n",
    "    if(movie == 'Little Buddha (1993)'):\n",
    "        mov1_feature = final_without_timespan.iloc[i,1:49]\n",
    "    if(movie == 'Little Big League (1994)'):\n",
    "        mov2_feature = final_without_timespan.iloc[i,1:49]\n",
    "    if (movie == 'Metro (1997)'):\n",
    "        mov3_feature = final_without_timespan.iloc[i, 1:49]\n",
    "print(\"prediction for Little Buddha (1993)\")\n",
    "print(regression5.predict([mov1_feature]))\n",
    "print(\"prediction for Little Big League (1994)\")\n",
    "print(regression5.predict([mov2_feature]))\n",
    "print(\"prediction for Metro (1997)\")\n",
    "print(regression5.predict([mov3_feature]))\n",
    "print(\"\\n\")"
   ]
  },
  {
   "cell_type": "markdown",
   "metadata": {},
   "source": [
    "performing 10-fold CV and checking the effectiveness of the model on test data"
   ]
  },
  {
   "cell_type": "code",
   "execution_count": 96,
   "metadata": {},
   "outputs": [
    {
     "name": "stdout",
     "output_type": "stream",
     "text": [
      "cross validation scores: \n",
      " [ 0.33843923  0.36972873  0.31775393  0.32583383  0.34075044  0.33323967\n",
      "  0.36374406  0.34916155  0.35264258  0.35025085]\n",
      "testing score: 0.3486294700780699\n",
      "\n",
      "\n"
     ]
    }
   ],
   "source": [
    "regression5_scores = cross_val_score(model_regression5, X_timespan_train, y_timespan_train, cv = 10)\n",
    "print(\"cross validation scores: \\n\",regression5_scores)\n",
    "print(\"testing score: {}\".format(model_regression5.score(X_timespan_test, y_timespan_test)))\n",
    "print(\"\\n\")"
   ]
  },
  {
   "cell_type": "markdown",
   "metadata": {},
   "source": [
    "##### Linear Regression - with just one pagerank"
   ]
  },
  {
   "cell_type": "markdown",
   "metadata": {},
   "source": [
    "preparing feature dataframe including engineered features with just one pagerank"
   ]
  },
  {
   "cell_type": "code",
   "execution_count": 97,
   "metadata": {},
   "outputs": [],
   "source": [
    "final_with_one_pagerank = final.drop(final.columns[2:6], axis=1)"
   ]
  },
  {
   "cell_type": "markdown",
   "metadata": {},
   "source": [
    "splitting into test and train data"
   ]
  },
  {
   "cell_type": "code",
   "execution_count": 98,
   "metadata": {},
   "outputs": [],
   "source": [
    "X_pagerank = final_with_one_pagerank.iloc[:,1:46]#:,1:50]#0:len(fdf),1:7]\n",
    "y_pagerank = final_with_one_pagerank.iloc[:,46:]#:,50:]#0:len(fdf),7:]\n",
    "X_pagerank_train, X_pagerank_test, y_pagerank_train, y_pagerank_test = train_test_split(X_pagerank, y_pagerank, \n",
    "test_size=0.20, random_state=0)"
   ]
  },
  {
   "cell_type": "markdown",
   "metadata": {},
   "source": [
    "training the model"
   ]
  },
  {
   "cell_type": "code",
   "execution_count": 99,
   "metadata": {},
   "outputs": [],
   "source": [
    "regression6 = linear_model.LinearRegression()\n",
    "model_regression6 = regression6.fit(X_pagerank_train, y_pagerank_train)"
   ]
  },
  {
   "cell_type": "markdown",
   "metadata": {},
   "source": [
    "getting the ratings for some example movies"
   ]
  },
  {
   "cell_type": "code",
   "execution_count": 100,
   "metadata": {},
   "outputs": [
    {
     "name": "stdout",
     "output_type": "stream",
     "text": [
      "prediction for Little Buddha (1993)\n",
      "[[ 3.4506221]]\n",
      "prediction for Little Big League (1994)\n",
      "[[ 2.70098171]]\n",
      "prediction for Metro (1997)\n",
      "[[ 3.19540384]]\n",
      "\n",
      "\n"
     ]
    }
   ],
   "source": [
    "for i in range(1, len(final_with_one_pagerank)):\n",
    "    movie = final_with_one_pagerank.iloc[i, 0]\n",
    "    if(movie == 'Little Buddha (1993)'):\n",
    "        mov1_feature = final_with_one_pagerank.iloc[i,1:46]\n",
    "    if(movie == 'Little Big League (1994)'):\n",
    "        mov2_feature = final_with_one_pagerank.iloc[i,1:46]\n",
    "    if (movie == 'Metro (1997)'):\n",
    "        mov3_feature = final_with_one_pagerank.iloc[i, 1:46]\n",
    "print(\"prediction for Little Buddha (1993)\")\n",
    "print(regression6.predict([mov1_feature]))\n",
    "print(\"prediction for Little Big League (1994)\")\n",
    "print(regression6.predict([mov2_feature]))\n",
    "print(\"prediction for Metro (1997)\")\n",
    "print(regression6.predict([mov3_feature]))\n",
    "print(\"\\n\")"
   ]
  },
  {
   "cell_type": "markdown",
   "metadata": {},
   "source": [
    "performing 10-fold CV and checking the effectiveness of the model on test data"
   ]
  },
  {
   "cell_type": "code",
   "execution_count": 101,
   "metadata": {},
   "outputs": [
    {
     "name": "stdout",
     "output_type": "stream",
     "text": [
      "cross validation scores: \n",
      " [ 0.33772379  0.36560977  0.31719288  0.32371119  0.33725891  0.32674303\n",
      "  0.36092287  0.34496429  0.35031057  0.34431881]\n",
      "testing score: 0.34605357547487114\n",
      "\n",
      "\n"
     ]
    }
   ],
   "source": [
    "regression6_scores = cross_val_score(model_regression6, X_pagerank_train, y_pagerank_train, cv = 10)\n",
    "print(\"cross validation scores: \\n\",regression6_scores)\n",
    "print(\"testing score: {}\".format(model_regression6.score(X_pagerank_test, y_pagerank_test)))\n",
    "print(\"\\n\")"
   ]
  },
  {
   "cell_type": "markdown",
   "metadata": {},
   "source": [
    "##### Decision Tree"
   ]
  },
  {
   "cell_type": "markdown",
   "metadata": {},
   "source": [
    "training the model"
   ]
  },
  {
   "cell_type": "code",
   "execution_count": 102,
   "metadata": {},
   "outputs": [],
   "source": [
    "dtree = tree.DecisionTreeRegressor()\n",
    "model_dt = dtree.fit(X_train, y_train)"
   ]
  },
  {
   "cell_type": "markdown",
   "metadata": {},
   "source": [
    "getting the ratings for some example movies"
   ]
  },
  {
   "cell_type": "code",
   "execution_count": 103,
   "metadata": {
    "scrolled": true
   },
   "outputs": [
    {
     "name": "stdout",
     "output_type": "stream",
     "text": [
      "prediction for Little Buddha (1993)\n",
      "[ 3.31818182]\n",
      "prediction for Little Big League (1994)\n",
      "[ 2.875]\n",
      "prediction for Metro (1997)\n",
      "[ 2.91666667]\n",
      "\n",
      "\n"
     ]
    }
   ],
   "source": [
    "for i in range(1, len(final)):\n",
    "    movie = final.iloc[i, 0]\n",
    "    if(movie == 'Little Buddha (1993)'):\n",
    "        mov1_feature = final.iloc[i,1:50]\n",
    "    if(movie == 'Little Big League (1994)'):\n",
    "        mov2_feature = final.iloc[i,1:50]\n",
    "    if (movie == 'Metro (1997)'):\n",
    "        mov3_feature = final.iloc[i, 1:50]\n",
    "print(\"prediction for Little Buddha (1993)\")\n",
    "print(dtree.predict([mov1_feature]))\n",
    "print(\"prediction for Little Big League (1994)\")\n",
    "print(dtree.predict([mov2_feature]))\n",
    "print(\"prediction for Metro (1997)\")\n",
    "print(dtree.predict([mov3_feature]))\n",
    "print(\"\\n\")"
   ]
  },
  {
   "cell_type": "markdown",
   "metadata": {},
   "source": [
    "performing 10-fold CV and checking the effectiveness of the model on test data"
   ]
  },
  {
   "cell_type": "code",
   "execution_count": 104,
   "metadata": {},
   "outputs": [
    {
     "name": "stdout",
     "output_type": "stream",
     "text": [
      "cross validation scores: \n",
      " [ 0.95974455  0.95946997  0.96180627  0.95244584  0.95996572  0.9580749\n",
      "  0.95600556  0.95610665  0.96044625  0.95401767]\n",
      "testing score: 0.9601228110626215\n",
      "\n",
      "\n"
     ]
    }
   ],
   "source": [
    "dt_scores = cross_val_score(model_dt, X_train, y_train, cv = 10)\n",
    "print(\"cross validation scores: \\n\",dt_scores)\n",
    "print(\"testing score: {}\".format(model_dt.score(X_test, y_test)))\n",
    "print(\"\\n\")"
   ]
  },
  {
   "cell_type": "markdown",
   "metadata": {},
   "source": [
    "We observe that linear regression is performing much worse than decision tree model even after training the model on different combination of features deduced from the correlation analysis. This would have happened due to the inherent non-linearity of the dataset. Also, the decision tree model has higher cross validation scores and gives accurate prediction for the ratings of the three movies taken above. The testing score which is the coefficient of determination R^2 of the prediction tells us about how close are the predictions to the true values. Mathematically, it is (1 - u/v), where u is the residual sum of squares ((y_true - y_pred)^2).sum() and v is the total sum of squares ((y_true - y_true.mean())^2).sum(). A value of 0 would indicate that the model always predicts the expected value of y, disregarding the input features. In comparison to the baseline model, both LR and DT have done a good job in predicting the movie ratings and that feature engineering has been useful in bumping up the accuracy from 23% to about 96% after cross-validation using the DT model."
   ]
  }
 ],
 "metadata": {
  "kernelspec": {
   "display_name": "Python [conda root]",
   "language": "python",
   "name": "conda-root-py"
  },
  "language_info": {
   "codemirror_mode": {
    "name": "ipython",
    "version": 3
   },
   "file_extension": ".py",
   "mimetype": "text/x-python",
   "name": "python",
   "nbconvert_exporter": "python",
   "pygments_lexer": "ipython3",
   "version": "3.6.3"
  }
 },
 "nbformat": 4,
 "nbformat_minor": 2
}
