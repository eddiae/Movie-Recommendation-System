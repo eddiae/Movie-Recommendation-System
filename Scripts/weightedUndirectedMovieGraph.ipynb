{
 "cells": [
  {
   "cell_type": "markdown",
   "metadata": {},
   "source": [
    "# Exploratory analysis on weighted undirected movie graph"
   ]
  },
  {
   "cell_type": "markdown",
   "metadata": {},
   "source": [
    "1. Read movie: [all the users that rated this movie] file. (Input)\n",
    "2. Create weighted undirected graph G(V,E).\n",
    "3. V = movie_title and E = is the two users rated the same movie.\n",
    "4. E weight = Jaccard index = (intersection of users that rated i and j)/(union of users that rated i and j)\n",
    "5. Find communities using Fast Greedy Newman algorithm based on movie genres.\n",
    "\n",
    "The weighted undirected G(V,E) has edges between movies that denote the users that rated both the movies out of all the users combined that rated either of these movies. This measure of similarity/dissimilarity is called Jaccard index. Hence, higher value of this index would indicate that the two movies have been rated by pretty much the same set of users with respect to the pool of users that have rated either of these movies. However, we can't infer anything about how well a movie would do since the graph doesn't take into account the rating to them by the users. However, by performing community detection, we can identify movies that have been rated by similar set of users on the basis of their genres. So, this would give us the most popular genres in that community."
   ]
  },
  {
   "cell_type": "markdown",
   "metadata": {},
   "source": [
    "import required libraries"
   ]
  },
  {
   "cell_type": "code",
   "execution_count": 33,
   "metadata": {},
   "outputs": [],
   "source": [
    "library(doMC)\n",
    "library(Kmisc)\n",
    "library(igraph)\n",
    "library(data.table)\n",
    "registerDoMC(4)"
   ]
  },
  {
   "cell_type": "markdown",
   "metadata": {},
   "source": [
    "building the weighted undirected movie graph"
   ]
  },
  {
   "cell_type": "code",
   "execution_count": 34,
   "metadata": {},
   "outputs": [
    {
     "name": "stdout",
     "output_type": "stream",
     "text": [
      "The number of nodes:  1663\n",
      "The number of edges:  968622"
     ]
    }
   ],
   "source": [
    "#set path\n",
    "setwd(\"C:/Users/VishankBhatia/Desktop/FellowshipAI/MovieRecomSys\")\n",
    "\n",
    "#reading weighted undirected movie graph data\n",
    "x <-read.table(file=\"./FINAL/data/wu_movie_graph.txt\", header = FALSE, sep = \"\\t\", quote=\"\", dec = \".\")\n",
    "\n",
    "#building weighted undirected movie user graph\n",
    "colnames(x) = c(\"node_1\", \"node_2\", \"weight\")\n",
    "wu_graph <- graph.data.frame(x, directed=FALSE)\n",
    "\n",
    "#graph properties\n",
    "cat(\"The number of nodes: \", vcount(wu_graph))\n",
    "cat(\"\\nThe number of edges: \", ecount(wu_graph))\n",
    "\n",
    "#removes the loop and/or multiple edges\n",
    "movie_wu_graph <- simplify(wu_graph)"
   ]
  },
  {
   "cell_type": "markdown",
   "metadata": {},
   "source": [
    "performing community detection on the above graph"
   ]
  },
  {
   "cell_type": "code",
   "execution_count": 35,
   "metadata": {},
   "outputs": [],
   "source": [
    "#running community detection on the network\n",
    "moviesNetCommunity <- fastgreedy.community(movie_wu_graph, weights =  E(movie_wu_graph)$weight)\n",
    "\n",
    "#read movie - genre file and process it\n",
    "genreList = fread(\"./FINAL/data/movie_genre.txt\", sep = \"\\t\", header = FALSE)\n",
    "\n",
    "#separate into two strings\n",
    "Encoding(genreList$V1) = 'latin1'\n",
    "genreList$V1 = iconv(genreList$V1, \"latin1\", \"ASCII\", sub=\"\")\n",
    "genreList$V1 = gsub(\"^\\\\(\", \"\", genreList$V1)\n",
    "genreList$V1 = gsub(\"\\\\([^[:digit:]]+\\\\)\", \"\", genreList$V1)\n",
    "genreList$V1 = gsub(\"^\\\\s+|\\\\s+$\", \"\", genreList$V1)\n",
    "genreList$V2 = gsub(\"^\\\\(\", \"\", genreList$V2)\n",
    "genreList$V2 = gsub(\"^\\\\s+|\\\\s+$\", \"\", genreList$V2)\n",
    "\n",
    "#save processed movie - genre file\n",
    "write.table(genreList, file = \"./FINAL/data/processed_genre.txt\",sep = \"\\t\", row.names = FALSE)"
   ]
  },
  {
   "cell_type": "markdown",
   "metadata": {},
   "source": [
    "creating a movie: genre dictionary from the above list"
   ]
  },
  {
   "cell_type": "code",
   "execution_count": 36,
   "metadata": {},
   "outputs": [],
   "source": [
    "#create a movie: genre dictionary from the above list\n",
    "genreDict <- list()\n",
    "for (i in 1: length(genreList[[1]])){\n",
    "  genreDict[genreList[[1]][i]] = genreList[[2]][i]\n",
    "}"
   ]
  },
  {
   "cell_type": "markdown",
   "metadata": {},
   "source": [
    "finding the popular genres within communities"
   ]
  },
  {
   "cell_type": "code",
   "execution_count": 37,
   "metadata": {
    "scrolled": true
   },
   "outputs": [
    {
     "name": "stdout",
     "output_type": "stream",
     "text": [
      "Community sizes\n",
      "  1   2   3 \n",
      " 10 766 887 \n",
      "------------------------------------------------------------------------------------\n",
      "Genre frequency is:\n",
      "                 action   adventure   animation    children      comedy \n",
      "          2          32          18           2          35         248 \n",
      "      crime documentary       drama     fantasy   film-noir      horror \n",
      "         29          46         498          15           6          64 \n",
      "    musical     mystery     romance      sci-fi    thriller         war \n",
      "         41          23         203          61         243          70 \n",
      "    western \n",
      "         27 \n",
      "------------------------------------------------------------------------------------\n",
      "Genre summary for community  1\n",
      "adventure    comedy     drama   romance  thriller \n",
      "        1         1         3         3         2 \n",
      "------------------------------------------------------------------------------------\n",
      "Threshold for community [1] 1\n",
      "------------------------------------------------------------------------------------\n",
      "Genre summary after applying threshold for community  1named integer(0)\n",
      "\n",
      "\n",
      "\n",
      "------------------------------------------------------------------------------------\n",
      "Genre summary for community  2\n",
      "                 action   adventure    children      comedy       crime \n",
      "          1          14          10          16         102          12 \n",
      "documentary       drama     fantasy   film-noir      horror     musical \n",
      "         21         176           8           3          40          21 \n",
      "    mystery     romance      sci-fi    thriller         war     western \n",
      "         13          98          39         136          43          13 \n",
      "------------------------------------------------------------------------------------\n",
      "Threshold for community [1] 76.6\n",
      "------------------------------------------------------------------------------------\n",
      "Genre summary after applying threshold for community  2\n",
      "  comedy    drama  romance thriller \n",
      "     102      176       98      136 \n",
      "\n",
      "\n",
      "\n",
      "------------------------------------------------------------------------------------\n",
      "Genre summary for community  3\n",
      "                 action   adventure   animation    children      comedy \n",
      "          1          18           7           2          19         145 \n",
      "      crime documentary       drama     fantasy   film-noir      horror \n",
      "         17          25         319           7           3          24 \n",
      "    musical     mystery     romance      sci-fi    thriller         war \n",
      "         20          10         102          22         105          27 \n",
      "    western \n",
      "         14 \n",
      "------------------------------------------------------------------------------------\n",
      "Threshold for community [1] 88.7\n",
      "------------------------------------------------------------------------------------\n",
      "Genre summary after applying threshold for community  3\n",
      "  comedy    drama  romance thriller \n",
      "     145      319      102      105 \n",
      "\n",
      "\n",
      "\n"
     ]
    }
   ],
   "source": [
    "#finding the popular genres within communities\n",
    "commNumber <- sort(unique(moviesNetCommunity$membership))\n",
    "print(sizes(moviesNetCommunity))\n",
    "cat(\"------------------------------------------------------------------------------------\\n\")\n",
    "cat(\"Genre frequency is:\")\n",
    "print(table(unlist(genreDict)))\n",
    "\n",
    "for (i in commNumber) {\n",
    "  currCommMovies <- V(movie_wu_graph)[which(moviesNetCommunity$membership == i)]\n",
    "  commGenres <- genreDict[currCommMovies]\n",
    "  genreSummary <- table(unlist(commGenres))\n",
    "  cat(\"------------------------------------------------------------------------------------\\n\")\n",
    "  cat(\"Genre summary for community \",i)\n",
    "  print(genreSummary)\n",
    "  cat(\"------------------------------------------------------------------------------------\\n\")\n",
    "  #applying threshold to actually find the most popular genres in that community\n",
    "  cat(\"Threshold for community \")\n",
    "    print(length(commGenres) * 0.1)\n",
    "  cat(\"------------------------------------------------------------------------------------\\n\")\n",
    "  cat(\"Genre summary after applying threshold for community \",i)\n",
    "  print(genreSummary[which(genreSummary > threshold)])\n",
    "cat(\"\\n\\n\\n\")\n",
    "}"
   ]
  },
  {
   "cell_type": "markdown",
   "metadata": {},
   "source": [
    "computing community rating, k-nearest neighbour rating and all neighbour rating and comparing all of them to the actual rating"
   ]
  },
  {
   "cell_type": "code",
   "execution_count": 38,
   "metadata": {},
   "outputs": [],
   "source": [
    "#pre-processing on the movie - rating file \n",
    "ratings = fread(\"./FINAL/data/movie_avg_rating.txt\", header = FALSE, sep = \"\\t\",encoding=\"Latin-1\")\n",
    "Encoding(ratings$V1) = 'latin1'\n",
    "ratings$V1 = gsub(\"^\\\\(\", \"\", ratings$V1)\n",
    "ratings$V1 = gsub(\"^\\\\s+|\\\\s+$\", \"\", ratings$V1)\n",
    "ratings$V1 = gsub(\"^\\\\s+|\\\\s+\\\\s$\", \"\", ratings$V1)\n",
    "\n",
    "#save to and read from file\n",
    "write.table(ratings,\"./FINAL/data/movie_avg_rating_processed.txt\",row.names = FALSE, sep='\\t',fileEncoding=\"latin1\")\n",
    "processedRatings <- fread(\"./FINAL/data/movie_avg_rating_processed.txt\",sep = \"\\t\")\n",
    "\n",
    "#creating a dictionary of movie - avg. rating\n",
    "ratingDict <- list()\n",
    "for (i in 1: length(processedRatings[[1]])){\n",
    "  ratingDict[[ processedRatings[[1]][i] ]] <- processedRatings[[2]][i]\n",
    "}"
   ]
  },
  {
   "cell_type": "markdown",
   "metadata": {},
   "source": [
    "getting vertex IDs of some example movies"
   ]
  },
  {
   "cell_type": "code",
   "execution_count": 39,
   "metadata": {},
   "outputs": [],
   "source": [
    "#the movies for which we want to predict rating\n",
    "vertexId1 <- which(V(movie_wu_graph)$name == \"Toy Story (1995)\")\n",
    "vertexId2 <- which(V(movie_wu_graph)$name == \"I Love Trouble (1994)\")\n",
    "vertexId3 <- which(V(movie_wu_graph)$name == \"It Takes Two (1995)\")"
   ]
  },
  {
   "cell_type": "markdown",
   "metadata": {},
   "source": [
    "getting the communities these example movies belong to"
   ]
  },
  {
   "cell_type": "code",
   "execution_count": 40,
   "metadata": {},
   "outputs": [],
   "source": [
    "#find the community that these movies belong to\n",
    "Comm1 = moviesNetCommunity$membership[vertexId1]\n",
    "Comm2 = moviesNetCommunity$membership[vertexId2]\n",
    "Comm3 = moviesNetCommunity$membership[vertexId3]\n",
    "movies <- c(\"Toy Story (1995)\", \n",
    "            \"I Love Trouble (1994)\",\n",
    "            \"It Takes Two (1995)\")\n",
    "community <- c(Comm1, Comm2, Comm3)\n",
    "actualRatings = c(3.88,2.50,2.67)"
   ]
  },
  {
   "cell_type": "code",
   "execution_count": 41,
   "metadata": {},
   "outputs": [
    {
     "data": {
      "text/html": [
       "<ol class=list-inline>\n",
       "\t<li>2</li>\n",
       "\t<li>3</li>\n",
       "\t<li>3</li>\n",
       "</ol>\n"
      ],
      "text/latex": [
       "\\begin{enumerate*}\n",
       "\\item 2\n",
       "\\item 3\n",
       "\\item 3\n",
       "\\end{enumerate*}\n"
      ],
      "text/markdown": [
       "1. 2\n",
       "2. 3\n",
       "3. 3\n",
       "\n",
       "\n"
      ],
      "text/plain": [
       "[1] 2 3 3"
      ]
     },
     "metadata": {},
     "output_type": "display_data"
    }
   ],
   "source": [
    "community"
   ]
  },
  {
   "cell_type": "markdown",
   "metadata": {},
   "source": [
    "computing community rating, nearest neighbor rating and all neighbors rating; comparing it with actual rating of the example movies"
   ]
  },
  {
   "cell_type": "code",
   "execution_count": 42,
   "metadata": {},
   "outputs": [
    {
     "name": "stdout",
     "output_type": "stream",
     "text": [
      "Toy Story (1995) actual rating: 3.88 \n",
      "Community Rating  3.295444 \n",
      "Nearest Neighbor Rating 2.983891 \n",
      "Neighbors Rating 3.101941 \n",
      "All Combined  3.164432 \n",
      "\n",
      "I Love Trouble (1994) actual rating: 2.5 \n",
      "Community Rating  2.887347 \n",
      "Nearest Neighbor Rating 2.808951 \n",
      "Neighbors Rating 3.144714 \n",
      "All Combined  3.032863 \n",
      "\n",
      "It Takes Two (1995) actual rating: 2.67 \n",
      "Community Rating  2.887347 \n",
      "Nearest Neighbor Rating 3.078599 \n",
      "Neighbors Rating 3.131115 \n",
      "All Combined  3.006762 \n",
      "\n"
     ]
    }
   ],
   "source": [
    "k = 10\n",
    "#iterating over all three movies\n",
    "for (i in 1:3) {\n",
    "  #get the rating of the community they belong to\n",
    "  commOfMovie <- community[i]\n",
    "  vertices <- V(movie_wu_graph)[which(moviesNetCommunity$membership == commOfMovie)]\n",
    "  commRatings = ratingDict[vertices]\n",
    "  commRatings = commRatings[which(commRatings != 0)]\n",
    "  \n",
    "  #get the rating of k-nearest neigbhors, here k = 10\n",
    "  edgeNodes = x[which(x$\"node_1\" == movies[i] | x$\"node_2\" == movies[i]),]\n",
    "  edgeNodes =  edgeNodes[order(edgeNodes$\"weight\"),]\n",
    "  topKNeighbours = data.frame(edgeNodes[1:k,])\n",
    "  topKNeighbours$\"weight\" = NULL\n",
    "  nearestNeighbours <- c()\n",
    "  for (j in 1:k){\n",
    "    nearestNeighbours <- c(nearestNeighbours,topKNeighbours[j,which((topKNeighbours[j,])!=movies[i])])\n",
    "  }\n",
    "  nearestNeighbourRatings = ratingDict[nearestNeighbours]\n",
    "  nearestNeighbourRatings <- unlist(nearestNeighbourRatings)\n",
    "  nearestNeighbourRatings = nearestNeighbourRatings[which(nearestNeighbourRatings != 0)]\n",
    "  \n",
    "  #get the rating of all neighbours  \n",
    "  neighBour = unlist(neighbors(movie_wu_graph, movies[i]))\n",
    "  neighbourRatings = ratingDict[neighBour]\n",
    "  neighbourRatings = neighbourRatings[which(neighbourRatings != 0)]\n",
    "  \n",
    "  allRatings = c(as.numeric(unlist(commRatings)), as.numeric(unlist(nearestNeighbourRatings)), as.numeric(unlist(neighbourRatings)))\n",
    "  cat(movies[i], \"actual rating:\",actualRatings[i],\"\\n\")\n",
    "  cat(\"Community Rating \", mean(as.numeric(unlist(commRatings))), \"\\n\")\n",
    "  cat(\"Nearest Neighbor Rating\", mean(as.numeric(unlist(nearestNeighbourRatings))), \"\\n\")\n",
    "  cat(\"Neighbors Rating\", mean(as.numeric(unlist(neighbourRatings))), \"\\n\")\n",
    "  cat(\"All Combined \", mean(allRatings), \"\\n\")\n",
    "  cat(\"\\n\")\n",
    "}\n",
    "#same community rating if they belong to the same community!"
   ]
  },
  {
   "cell_type": "markdown",
   "metadata": {},
   "source": [
    "Here, we see that community rating is more accurate out of all. So, performing community detection on the movie network on the basis of the genre each movie belongs to has turned out to be a better predictor than just looking at k-neighbours or all the neighbours of a node in the movie network."
   ]
  }
 ],
 "metadata": {
  "kernelspec": {
   "display_name": "R [conda env:renv]",
   "language": "R",
   "name": "conda-env-renv-r"
  },
  "language_info": {
   "codemirror_mode": "r",
   "file_extension": ".r",
   "mimetype": "text/x-r-source",
   "name": "R",
   "pygments_lexer": "r",
   "version": "3.4.3"
  }
 },
 "nbformat": 4,
 "nbformat_minor": 2
}
