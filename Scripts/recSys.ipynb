{
 "cells": [
  {
   "cell_type": "markdown",
   "metadata": {},
   "source": [
    "# Recommender System using MovieLens Dataset"
   ]
  },
  {
   "cell_type": "code",
   "execution_count": 1,
   "metadata": {},
   "outputs": [],
   "source": [
    "#import required libraries\n",
    "import re\n",
    "import ast\n",
    "import time\n",
    "import heapq\n",
    "import decimal\n",
    "import operator\n",
    "import subprocess\n",
    "import numpy as np\n",
    "import scipy as sp\n",
    "import pandas as pd\n",
    "import networkx as nx\n",
    "import rpy2.robjects as ro\n",
    "from itertools import islice\n",
    "import matplotlib.pyplot as plt\n",
    "from datetime import datetime\n",
    "from collections import Counter\n",
    "from operator import itemgetter\n",
    "from collections import OrderedDict\n",
    "from networkx.algorithms import community\n",
    "from rpy2.robjects.packages import importr\n",
    "from sklearn.datasets import make_regression\n",
    "from sklearn import datasets, linear_model,tree\n",
    "from surprise.model_selection import cross_validate, KFold\n",
    "from sklearn.feature_extraction.text import TfidfVectorizer\n",
    "from surprise import Reader, Dataset, SVD, evaluate, accuracy\n",
    "from sklearn.metrics.pairwise import linear_kernel, cosine_similarity\n",
    "from sklearn.metrics import r2_score, confusion_matrix, accuracy_score\n",
    "from sklearn.model_selection import train_test_split, cross_val_score, cross_val_predict\n",
    "%matplotlib inline"
   ]
  },
  {
   "cell_type": "markdown",
   "metadata": {},
   "source": [
    "#### Begin loading all files - u.user, u.item, u.data into workable formats"
   ]
  },
  {
   "cell_type": "code",
   "execution_count": 2,
   "metadata": {},
   "outputs": [],
   "source": [
    "#user profile\n",
    "userCols = ['user_id', 'age', 'gender', 'occupation', 'zip_code']\n",
    "users = pd.read_csv('ml-100k/u.user', sep='|', names=userCols)\n",
    "#users.head()"
   ]
  },
  {
   "cell_type": "code",
   "execution_count": 3,
   "metadata": {},
   "outputs": [],
   "source": [
    "#movie profile with genres (full)\n",
    "with open('./ml-100k/u.item') as content:\n",
    "    mCols = ['movie_id', 'movie_title', 'release_date', 'video_release_date', 'imdb_url']\n",
    "    genres = ['unknown', 'action', 'adventure', 'animation', 'children', 'comedy', 'crime', 'documentary', 'drama', 'fantasy', \n",
    "          'film-noir',  'horror', 'musical', 'mystery', 'romance', 'sci-fi', 'thriller', 'war', 'western']\n",
    "    mColsG = mCols + genres\n",
    "    moviesG = pd.DataFrame(columns=mColsG)\n",
    "    i = 0\n",
    "    for x in content:\n",
    "        x = x.split(\"|\")\n",
    "        x[-1] = x[-1][:-1]\n",
    "        if x[1][-1] == ' ':\n",
    "            x[1] = x[1][:-1]\n",
    "        moviesG.loc[i] = [word if word!='' else \"empty\" for word in x]\n",
    "        i = i + 1\n",
    "moviesG['movie_id'] = moviesG['movie_id'].astype('int64')\n",
    "moviesG[genres] = moviesG[genres].astype('int64')\n",
    "#moviesG.head()"
   ]
  },
  {
   "cell_type": "markdown",
   "metadata": {},
   "source": [
    "#### Begin data cleaning"
   ]
  },
  {
   "cell_type": "markdown",
   "metadata": {},
   "source": [
    "Remove video_release_date since column values are empty"
   ]
  },
  {
   "cell_type": "code",
   "execution_count": 4,
   "metadata": {},
   "outputs": [],
   "source": [
    "if 'video_release_date' in moviesG.columns:\n",
    "    moviesG = moviesG.drop('video_release_date', axis=1)"
   ]
  },
  {
   "cell_type": "markdown",
   "metadata": {},
   "source": [
    "#### End data cleaning"
   ]
  },
  {
   "cell_type": "code",
   "execution_count": 5,
   "metadata": {},
   "outputs": [],
   "source": [
    "#movies profile with encoded genres\n",
    "moviesGe = moviesG.copy()\n",
    "encodedG = ['a', 'b', 'c', 'd', 'e', 'f', 'g', 'h', 'i', 'j', 'k', 'l', 'm', 'n', 'o', 'p', 'q', 'r', 's']\n",
    "master = []\n",
    "for i in range(0,len(moviesGe)):\n",
    "    genre = []\n",
    "    for column in moviesGe.columns[4:]: \n",
    "        if (moviesGe.iloc[i][column] == 1):\n",
    "            genre.append(encodedG[moviesGe.columns.get_loc(column)-5])    \n",
    "            #print(genre)\n",
    "    master.append(genre)\n",
    "moviesGe['encoded_genre'] = master\n",
    "moviesGe['encoded_genre'] = moviesGe['encoded_genre'].astype('str')\n",
    "moviesGe = moviesGe.drop(moviesGe.columns[list(range(4,23))], axis=1) \n",
    "#moviesGe.head()"
   ]
  },
  {
   "cell_type": "code",
   "execution_count": 6,
   "metadata": {},
   "outputs": [],
   "source": [
    "#movies profile with '|' separated named genres\n",
    "moviesGn = moviesG.copy()\n",
    "named = []\n",
    "for i in range(0,len(moviesGn)):\n",
    "    genre = \"\"\n",
    "    for column in moviesGn.columns[5:]: \n",
    "        if (moviesGn.iloc[i][column] == 1):\n",
    "            genre = genre + column + '|'\n",
    "    genre = genre[:-1]\n",
    "    named.append(genre)\n",
    "moviesGn['genre_names'] = named\n",
    "moviesGn['genre_names'] = moviesGn['genre_names'].astype('str')\n",
    "moviesGn = moviesGn.drop(moviesGn.columns[list(range(4,23))], axis=1) \n",
    "#moviesGn.head()"
   ]
  },
  {
   "cell_type": "code",
   "execution_count": 7,
   "metadata": {},
   "outputs": [],
   "source": [
    "#user-movie profile\n",
    "umCols = ['user_id', 'movie_id', 'rating', 'timestamp']\n",
    "um = pd.read_csv('ml-100k/u.data', sep='\\t', names=umCols)\n",
    "#um.head()"
   ]
  },
  {
   "cell_type": "markdown",
   "metadata": {},
   "source": [
    "#### End loading all files - u.user, u.item, u.data into workable formats"
   ]
  },
  {
   "cell_type": "markdown",
   "metadata": {},
   "source": [
    "#### Begin creating workable DFs and dictionaries"
   ]
  },
  {
   "cell_type": "code",
   "execution_count": 8,
   "metadata": {
    "scrolled": true
   },
   "outputs": [],
   "source": [
    "#splitting multi-genre movies into multiple 'same' movies with single genre\n",
    "new = ([(row['movie_id'], row['movie_title'], row['genre_names'].split('|'))              \n",
    "                    for _, row in moviesGn.iterrows()])#.reset_index()\n",
    "movCol = ['movie_id', 'movie_title', 'genre']\n",
    "newdf = pd.DataFrame(columns=movCol)\n",
    "i = 0\n",
    "for num1 in range(0,len(new)-1):\n",
    "    for num2 in range(0,len(new[num1][2])):\n",
    "        newdf.loc[i, 'movie_id'] = new[num1][0]\n",
    "        newdf.loc[i, 'movie_title'] = new[num1][1]\n",
    "        newdf.loc[i, 'genre'] = new[num1][2][num2]\n",
    "        i = i + 1\n",
    "newdf.to_csv('./FINAL/data/movie_genre.txt', columns= ['movie_title', 'genre'] ,sep='\\t',index=False,header=False,float_format='%.0f')\n",
    "#newdf.head()"
   ]
  },
  {
   "cell_type": "code",
   "execution_count": 9,
   "metadata": {},
   "outputs": [],
   "source": [
    "#forming movie - genre DF\n",
    "newdff = newdf.copy()\n",
    "newdff = newdff.drop('movie_id', axis=1)\n",
    "#newdff.head()"
   ]
  },
  {
   "cell_type": "code",
   "execution_count": 10,
   "metadata": {},
   "outputs": [],
   "source": [
    "#forming user_id - movie_id - rating - timestamp - movie_title.... DF\n",
    "newer = um.merge(moviesGn, left_on='movie_id', right_on='movie_id', how='inner')\n",
    "#newer.head()"
   ]
  },
  {
   "cell_type": "code",
   "execution_count": 11,
   "metadata": {},
   "outputs": [],
   "source": [
    "#forming user_id - movie_id - rating - timestamp - movie_title - age - gender .... DF\n",
    "rumerged = um.merge(users, left_on='user_id', right_on='user_id', how='inner')\n",
    "#rumerged.head()"
   ]
  },
  {
   "cell_type": "code",
   "execution_count": 12,
   "metadata": {},
   "outputs": [],
   "source": [
    "#forming movie_title - ratings DF\n",
    "mrdf = newer.copy()\n",
    "mrdf = mrdf.drop(mrdf.columns[0:2], axis=1)\n",
    "mrdf = mrdf.drop(mrdf.columns[1:2], axis=1)\n",
    "mrdf = mrdf.drop(mrdf.columns[2:], axis=1)\n",
    "#mrdf.head()"
   ]
  },
  {
   "cell_type": "code",
   "execution_count": 13,
   "metadata": {},
   "outputs": [],
   "source": [
    "#calculating movie: [all the ratings of that movie] file\n",
    "mr_map = {}\n",
    "#iterate over all movies\n",
    "for keyval in mrdf['movie_title']:\n",
    "    rat = []\n",
    "    #iterate over all movies rated by a user\n",
    "    if keyval in mr_map.keys():\n",
    "        mr_map[keyval].append(mrdf.loc[mrdf['movie_title'] == keyval, 'rating'].iloc[len(mr_map[keyval])])\n",
    "    else:\n",
    "        rat.append(mrdf.loc[mrdf['movie_title'] == keyval, 'rating'].iloc[0])\n",
    "        mr_map[keyval] = rat\n",
    "#mr_map"
   ]
  },
  {
   "cell_type": "code",
   "execution_count": 14,
   "metadata": {},
   "outputs": [],
   "source": [
    "#create movie - avg. rating dictionary\n",
    "avgDict = {}\n",
    "for k,v in mr_map.items():\n",
    "    # v is the list of grades for student k\n",
    "    avgDict[k] = sum(v)/ float(len(v))\n",
    "#avgDict"
   ]
  },
  {
   "cell_type": "code",
   "execution_count": 15,
   "metadata": {},
   "outputs": [],
   "source": [
    "#convert the above dictionary to a DF\n",
    "avgDictdf = pd.DataFrame(columns=['movie_title', 'rating'])\n",
    "index = 0\n",
    "for k,v in avgDict.items():\n",
    "    index = index + 1\n",
    "    avgDictdf.loc[index, 'movie_title'] = k\n",
    "    avgDictdf.loc[index, 'rating'] = v\n",
    "#avgDictdf"
   ]
  },
  {
   "cell_type": "code",
   "execution_count": 16,
   "metadata": {},
   "outputs": [],
   "source": [
    "avgDictdf.to_csv('./FINAL/data/movie_avg_rating.txt', columns= ['movie_title', 'rating'] ,sep='\\t',index=False,header=False,float_format='%.0f',encoding='latin-1')"
   ]
  },
  {
   "cell_type": "markdown",
   "metadata": {},
   "source": [
    "#### Begin data cleaning"
   ]
  },
  {
   "cell_type": "markdown",
   "metadata": {},
   "source": [
    "Change timestamp to comprehendible DD-MM-YYYY form "
   ]
  },
  {
   "cell_type": "code",
   "execution_count": 17,
   "metadata": {},
   "outputs": [],
   "source": [
    "newer = newer[newer['movie_title'] != 'unknown']\n",
    "newer = newer[newer['release_date'] != 'empty']\n",
    "newer.to_csv('./FINAL/data/jlt/Fullnewer.txt', sep='\\t',index=False,header=False,float_format='%.0f')\n",
    "newer.to_csv('./FINAL/data/jlt/newer.txt', columns= ['user_id', 'movie_title'] ,sep='\\t',index=False,header=False,float_format='%.0f')\n",
    "ncols = ['user_id', 'movie_id', 'rating', 'timestamp', 'movie_title','release_date', 'imdb_url', 'genre_names']\n",
    "newer = pd.read_csv('./FINAL/data/jlt/Fullnewer.txt', sep='\\t', names=ncols, encoding='latin-1')"
   ]
  },
  {
   "cell_type": "markdown",
   "metadata": {},
   "source": [
    "#### End data cleaning"
   ]
  },
  {
   "cell_type": "markdown",
   "metadata": {},
   "source": [
    "#### Begin performing Content Based Recommendation (CBR)\n",
    "\n",
    "Since we want to build personalised recommendation, we compute similarity between movies based on certain metrics. Then, we can safely deduce/predict the movies that the user will like based on movie previously liked by the user. This is done using the similarity metric which is based on the attributes/content of the movies. Hence, it's called Content Based Recommendation (CBR). We can build the CBR model based on either all or a subset of a movie's attributes.\n",
    "\n",
    "Suppose, we build a CBR model with the movie name as one such attribute. For example, a movie 'Love Actually' and 'Love Story' would both fall into 'Romance' genre. Hence, based on the movie name, we can cluster similar named movies. However, this is NOT the best approach since it might also be misleading. For example, a movie 'Gone With The Wind' (Romance) might have nothing to do with 'Wind Chill' (Horror). We see this below."
   ]
  },
  {
   "cell_type": "code",
   "execution_count": 18,
   "metadata": {},
   "outputs": [],
   "source": [
    "#creating DF with movie names without year\n",
    "cbr = moviesGn.copy()\n",
    "cbr['movie_title'] = cbr['movie_title'].map(lambda x: str(x)[:-7])\n",
    "#cbr"
   ]
  },
  {
   "cell_type": "markdown",
   "metadata": {},
   "source": [
    "Here, we are using tf–idf or TFIDF (term frequency–inverse document frequency) approach of text mining to identify repetition of words in the movie names to recommend other movies having similar names to the given movie. Its value is proportional to the number of times a word appears in the document."
   ]
  },
  {
   "cell_type": "code",
   "execution_count": 22,
   "metadata": {},
   "outputs": [],
   "source": [
    "#using term frequency-inverse document frequency approach to for movie_name weighting\n",
    "tf = TfidfVectorizer(analyzer='word',ngram_range=(1, 2),min_df=0, stop_words='english')\n",
    "#returns T x D i.e. term document matrix\n",
    "tfidf_matrix = tf.fit_transform(moviesG['movie_title'])"
   ]
  },
  {
   "cell_type": "markdown",
   "metadata": {},
   "source": [
    "Using Cosine Similarity: to compute similarity between two movies. Mathematically, it is cosine(x,y)= x.(y⊺) / (||x||.||y||) ."
   ]
  },
  {
   "cell_type": "code",
   "execution_count": 23,
   "metadata": {},
   "outputs": [],
   "source": [
    "cosine_sim = linear_kernel(tfidf_matrix, tfidf_matrix)"
   ]
  },
  {
   "cell_type": "markdown",
   "metadata": {},
   "source": [
    "Using this pairwise cosine similarity matrix for all the movies, we define a function that returns the topmost similar movies based on the cosine similarity score."
   ]
  },
  {
   "cell_type": "code",
   "execution_count": 24,
   "metadata": {},
   "outputs": [],
   "source": [
    "#this function gives us similar movies to a given movie based on text mining on movie_names\n",
    "indices = pd.Series(cbr.index, index=cbr['movie_title'])\n",
    "def get_similar(title):\n",
    "    print(\"The genre of the given movie is:\", cbr.loc[cbr['movie_title']==title,'genre_names'].iloc[0])\n",
    "    idx = indices[title]\n",
    "    sim_score = list(enumerate(cosine_sim[idx]))\n",
    "    sim_score = sorted(sim_score, key=lambda x: x[1], reverse=True)\n",
    "    sim_score = sim_score[1:11]#top10\n",
    "    movie_indices = [i[0] for i in sim_score]\n",
    "    for num in movie_indices:\n",
    "        print(cbr['movie_title'].iloc[num],\": \",cbr['genre_names'].iloc[num])"
   ]
  },
  {
   "cell_type": "code",
   "execution_count": 25,
   "metadata": {},
   "outputs": [],
   "source": [
    "#getting a DF of indices of each movie with movie name as index\n",
    "indices = pd.Series(cbr.index, index=cbr['movie_title'])"
   ]
  },
  {
   "cell_type": "code",
   "execution_count": 27,
   "metadata": {},
   "outputs": [
    {
     "name": "stdout",
     "output_type": "stream",
     "text": [
      "The genre of the given movie is: animation|children|comedy\n",
      "Pyromaniac's Love Story, A :  comedy|romance\n",
      "Now and Then :  drama\n",
      "Show, The :  documentary\n",
      "To Have, or Not :  drama\n",
      "Story of Xinghua, The :  drama\n",
      "Philadelphia Story, The :  comedy|romance\n",
      "NeverEnding Story III, The :  children|fantasy\n",
      "FairyTale: A True Story :  children|drama|fantasy\n",
      "Entertaining Angels: The Dorothy Day Story :  drama\n",
      "Police Story 4: Project S (Chao ji ji hua) :  action\n"
     ]
    }
   ],
   "source": [
    "#predicting similar movies using CBR approach\n",
    "get_similar('Toy Story')"
   ]
  },
  {
   "cell_type": "code",
   "execution_count": 28,
   "metadata": {},
   "outputs": [
    {
     "name": "stdout",
     "output_type": "stream",
     "text": [
      "The genre of the given movie is: comedy\n",
      "Love Is All There Is :  comedy|drama\n",
      "Penny Serenade :  drama|romance\n",
      "She's the One :  comedy|romance\n",
      "Two Much :  comedy|romance\n",
      "Before and After :  drama|mystery\n",
      "A Chef in Love :  comedy\n",
      "Pompatus of Love, The :  comedy|drama\n",
      "Hotel de Love :  comedy|romance\n",
      "Everyone Says I Love You :  comedy|musical|romance\n",
      "In Love and War :  romance|war\n"
     ]
    }
   ],
   "source": [
    "#predicting similar movies using CBR approach\n",
    "get_similar('Love Serenade')"
   ]
  },
  {
   "cell_type": "markdown",
   "metadata": {},
   "source": [
    "#### End performing Content Based Recommendation (CBR)"
   ]
  },
  {
   "cell_type": "markdown",
   "metadata": {},
   "source": [
    "#### Begin performing Collaborative Filtering (CF)"
   ]
  },
  {
   "cell_type": "markdown",
   "metadata": {},
   "source": [
    "We see that the predictions are not so accurate since some genres differ by a lot. Hence, such a text mining approach would have been more useful, if we were given more details about the movies such as movie synopsis, cast, crew etc. This model doesn't give user-specific recommendations. Hence, to overcome this limitation arising due to limited descriptive data available in the MovieLens dataset, we compute user1's preference based on another similar user2's preference on the movies that the latter has reviewed but the former hasn't. This approach is called Collaborative Filtering (CF). We use Surprise library to implement CF."
   ]
  },
  {
   "cell_type": "code",
   "execution_count": 32,
   "metadata": {},
   "outputs": [],
   "source": [
    "#parsing a file containing user_id - movie_id - rating - timestamp\n",
    "reader = Reader()\n",
    "data = Dataset.load_from_df(um[['user_id', 'movie_id', 'rating']], reader)\n",
    "#dividing the data into k-folds, here k=10\n",
    "kf = KFold(n_splits=10)\n",
    "#using SVD: matrix factorisation approach \n",
    "algo = SVD()"
   ]
  },
  {
   "cell_type": "code",
   "execution_count": 31,
   "metadata": {},
   "outputs": [
    {
     "name": "stdout",
     "output_type": "stream",
     "text": [
      "RMSE: 0.9374\n",
      "RMSE: 0.9383\n",
      "RMSE: 0.9320\n",
      "RMSE: 0.9308\n",
      "RMSE: 0.9286\n",
      "RMSE: 0.9200\n",
      "RMSE: 0.9343\n",
      "RMSE: 0.9365\n",
      "RMSE: 0.9173\n",
      "RMSE: 0.9256\n"
     ]
    }
   ],
   "source": [
    "#performing training, testing and calculating RMSE\n",
    "for trainset, testset in kf.split(data):\n",
    "    algo.fit(trainset)\n",
    "    predictions = algo.test(testset)\n",
    "    accuracy.rmse(predictions, verbose=True)"
   ]
  },
  {
   "cell_type": "code",
   "execution_count": 44,
   "metadata": {},
   "outputs": [
    {
     "data": {
      "text/plain": [
       "Prediction(uid=10, iid=336, r_ui=3, est=3.1033947237688957, details={'was_impossible': False})"
      ]
     },
     "execution_count": 44,
     "metadata": {},
     "output_type": "execute_result"
    }
   ],
   "source": [
    "#predicting the rating for user_id = 10 and movie_id = 336\n",
    "trainset = data.build_full_trainset()\n",
    "algo.fit(trainset)\n",
    "algo.predict(10, 336, 3)"
   ]
  },
  {
   "cell_type": "markdown",
   "metadata": {},
   "source": [
    "Here, we get a predicted rating of 3.10 for user_id = 10 and movie_id = 336. This CF approach of movie recommendation is independent of the content of the movie (like genres etc.) since the basis of its prediction is solely on how other similar users have rated the movie. However, this is also not the best way to approach the problem. So, we move on to actually making use of the attributes of each review for a movie by a user by performing feature engineering."
   ]
  },
  {
   "cell_type": "markdown",
   "metadata": {},
   "source": [
    "#### End performing Collaborative Filtering (CF)"
   ]
  },
  {
   "cell_type": "markdown",
   "metadata": {},
   "source": [
    "#### Begin feature engineering\n",
    "\n",
    "Here, we add a new feature: timeSinceRelease = timestamp - release_date. Other features like day of the week, month of the year can also be added."
   ]
  },
  {
   "cell_type": "code",
   "execution_count": 45,
   "metadata": {},
   "outputs": [],
   "source": [
    "#converting time columns into datetime format\n",
    "newer['release_date'] = pd.to_datetime(newer['release_date'], format='%d-%b-%Y')\n",
    "for i in range(0,len(newer)):\n",
    "    newer.loc[i,'timestamp'] = datetime.fromtimestamp(newer.loc[i,'timestamp'])\n",
    "newer['timestamp'] = pd.to_datetime(newer['timestamp'], format='%d-%b-%Y')"
   ]
  },
  {
   "cell_type": "code",
   "execution_count": 46,
   "metadata": {},
   "outputs": [],
   "source": [
    "#creating a function to get the timespan between two datetime objects\n",
    "def days_between(d1, d2):\n",
    "    return abs((d1 - d2).days)"
   ]
  },
  {
   "cell_type": "code",
   "execution_count": 47,
   "metadata": {},
   "outputs": [],
   "source": [
    "#creating timeSinceRelease column\n",
    "ctr = 0\n",
    "for i in newer['movie_title']:\n",
    "    newer.loc[ctr,'timeSinceRelease'] = days_between(newer.loc[ctr,'timestamp'],newer.loc[ctr,'release_date'])\n",
    "    ctr = ctr + 1"
   ]
  },
  {
   "cell_type": "code",
   "execution_count": 48,
   "metadata": {
    "scrolled": true
   },
   "outputs": [],
   "source": [
    "#creating dict out of this dataframe for all, min and max review release span of a movie \n",
    "all = {}\n",
    "cnt = 0\n",
    "for mov in newer['movie_title']:\n",
    "    nummin = 0\n",
    "    nummax = 0\n",
    "    m = []\n",
    "    if mov in all.keys():\n",
    "        all[mov].append(newer.loc[newer['movie_title'] == mov, 'timeSinceRelease'].iloc[len(all[mov])])\n",
    "    else:\n",
    "        cnt = cnt + 1\n",
    "        m.append(newer.loc[newer['movie_title'] == mov, 'timeSinceRelease'].iloc[0])\n",
    "        all[mov] = m"
   ]
  },
  {
   "cell_type": "code",
   "execution_count": 49,
   "metadata": {},
   "outputs": [],
   "source": [
    "#creating dictionary for timespan for each review of a movie\n",
    "mindict = {}\n",
    "maxdict = {}\n",
    "spandict = {}\n",
    "\n",
    "for ur in all.keys():\n",
    "    #minh = []\n",
    "    #maxh = []\n",
    "    if ur in mindict.keys():\n",
    "        continue\n",
    "    #using min-heap and max-heap\n",
    "    else:\n",
    "        if all[ur] != []:\n",
    "            minhh = all[ur]\n",
    "            heapq.heapify(minhh)\n",
    "            mindict[ur] = heapq.heappop(minhh)\n",
    "    if ur in maxdict.keys():\n",
    "        continue\n",
    "    else:\n",
    "        if all[ur] != []:\n",
    "            maxhh = all[ur]\n",
    "            heapq._heapify_max(maxhh)\n",
    "            maxdict[ur] = heapq._heappop_max(maxhh)\n",
    "    if ur in spandict.keys():\n",
    "        continue\n",
    "    else:\n",
    "        if all[ur] != []:\n",
    "            spandict[ur] = [maxdict[ur] - mindict[ur]]\n",
    "#mindict\n",
    "#maxdict\n",
    "#spandict"
   ]
  },
  {
   "cell_type": "code",
   "execution_count": 50,
   "metadata": {},
   "outputs": [],
   "source": [
    "#converting the above dictionary to a DF\n",
    "timespan = pd.DataFrame.from_dict(spandict)\n",
    "timespan = timespan.T\n",
    "timespan.reset_index(level=0, inplace=True)\n",
    "timespan.columns = ['movie_title', 'timespan']\n",
    "#timespan"
   ]
  },
  {
   "cell_type": "code",
   "execution_count": 51,
   "metadata": {},
   "outputs": [],
   "source": [
    "#saving the DF to file\n",
    "timespan.to_csv('./FINAL/data/features/movie_timespan.txt',sep='\\t',index=False,header=False,float_format='%.0f')"
   ]
  },
  {
   "cell_type": "markdown",
   "metadata": {},
   "source": [
    "#### End feature engineering"
   ]
  },
  {
   "cell_type": "code",
   "execution_count": 52,
   "metadata": {},
   "outputs": [],
   "source": [
    "#calculating users: [all the movies the user has rated] file\n",
    "um_dict = {}\n",
    "cnt = 0\n",
    "for user in newer['user_id']:\n",
    "    mov=[]\n",
    "    if user in um_dict.keys():\n",
    "        um_dict[user].append(newer.loc[newer['user_id'] == user, 'movie_title'].iloc[len(um_dict[user])])\n",
    "    else:\n",
    "        cnt = cnt + 1\n",
    "        mov.append(newer.loc[newer['user_id'] == user, 'movie_title'].iloc[0])\n",
    "        um_dict[user] = mov\n",
    "#um_dict"
   ]
  },
  {
   "cell_type": "code",
   "execution_count": 53,
   "metadata": {},
   "outputs": [],
   "source": [
    "#converting the above dict into DF\n",
    "um_dictdf = pd.DataFrame(columns=['user_id', 'movie_title'])\n",
    "index = 0\n",
    "for k,v in um_dict.items():\n",
    "    index = index + 1\n",
    "    um_dictdf.loc[index, 'user_id'] = k\n",
    "    um_dictdf.loc[index, 'movie_title'] = v\n",
    "#um_dictdf"
   ]
  },
  {
   "cell_type": "code",
   "execution_count": 54,
   "metadata": {},
   "outputs": [],
   "source": [
    "#saving the above DF to file\n",
    "um_dictdf.to_csv('./FINAL/data/user_movies.txt', columns= ['user_id', 'movie_title'] ,sep='\\t',index=False,header=False,float_format='%.0f')"
   ]
  },
  {
   "cell_type": "code",
   "execution_count": 55,
   "metadata": {},
   "outputs": [],
   "source": [
    "#calculating users: [all the rating values by the user] file\n",
    "ur_dict = {}\n",
    "hold=0\n",
    "for user in um['user_id']:\n",
    "    mov=[]\n",
    "    if user in ur_dict.keys():\n",
    "        ur_dict[user].append(um.loc[um['user_id'] == user, 'rating'].iloc[len(ur_dict[user])])\n",
    "    else:\n",
    "        hold = hold+1\n",
    "        mov.append(um.loc[um['user_id'] == user, 'rating'].iloc[0])\n",
    "        ur_dict[user] = mov\n",
    "#ur_dict"
   ]
  },
  {
   "cell_type": "code",
   "execution_count": 56,
   "metadata": {},
   "outputs": [],
   "source": [
    "um1 = []\n",
    "um1 = list(um_dict.keys())\n",
    "um2 = []\n",
    "um2 = list(um_dict.keys())"
   ]
  },
  {
   "cell_type": "markdown",
   "metadata": {},
   "source": [
    "#### Begin performing graph computations"
   ]
  },
  {
   "cell_type": "code",
   "execution_count": 57,
   "metadata": {},
   "outputs": [
    {
     "name": "stdout",
     "output_type": "stream",
     "text": [
      "The total number of nodes in the graph:  943\n"
     ]
    }
   ],
   "source": [
    "#calculating edge weights for weighted directed user movie graph\n",
    "weighted_directed_user_movie_graph = open(\"./FINAL/data/wd_um_graph.txt\", 'w')\n",
    "p = 0\n",
    "counter = 0\n",
    "print(\"The total number of nodes in the graph: \",len(um_dict))\n",
    "while p < len(um1):\n",
    "    u1 = um1[p]\n",
    "    u1m = um_dict[u1]\n",
    "    #cos we don't to check for the same user with him/herself!\n",
    "    q = p + 1 \n",
    "    while q < len(um2):\n",
    "        u2 = um2[q]\n",
    "        u2m = um_dict[u2]\n",
    "        overlap_movies = set(u1m) & set(u2m)\n",
    "        #edge weight tells us what proportion of movies do two users have rated in common\n",
    "        if len(overlap_movies) > 0:\n",
    "            u1Ratio = decimal.Decimal(len(overlap_movies)) \\\n",
    "                / decimal.Decimal(len(u1m))\n",
    "            u1Ratio = format(u1Ratio, '.3f')\n",
    "            u2Ratio = decimal.Decimal(len(overlap_movies)) \\\n",
    "                / decimal.Decimal(len(u2m))\n",
    "            u2Ratio = format(u2Ratio, '.3f')\n",
    "            weighted_directed_user_movie_graph.write(u1.astype(str) + '\\t' + u2.astype(str) + '\\t' + str(u1Ratio) + '\\n')\n",
    "            weighted_directed_user_movie_graph.write(u2.astype(str) + '\\t' + u1.astype(str) + '\\t' + str(u2Ratio) + '\\n')\n",
    "            counter = counter + 1\n",
    "        q = q + 1\n",
    "    p = p + 1"
   ]
  },
  {
   "cell_type": "markdown",
   "metadata": {},
   "source": [
    "#### Call R script for weighted directed user network: WD_user"
   ]
  },
  {
   "cell_type": "code",
   "execution_count": 58,
   "metadata": {},
   "outputs": [],
   "source": [
    "#calculating movie: [all the users that rated this movie] file\n",
    "#iterate over all users\n",
    "movie_map = {}\n",
    "for keyval in um_dict.keys():\n",
    "    #iterate over all movies rated by a user\n",
    "    for movie in um_dict[keyval]:\n",
    "        if (movie in movie_map):\n",
    "            user_list = movie_map[movie]\n",
    "            if keyval not in user_list:\n",
    "                user_list.append(keyval)         \n",
    "                movie_map[movie] = user_list\n",
    "        else:\n",
    "            movie_map[movie] = [keyval]"
   ]
  },
  {
   "cell_type": "code",
   "execution_count": 59,
   "metadata": {},
   "outputs": [],
   "source": [
    "mov1 = []\n",
    "mov1 = list(movie_map.keys())\n",
    "mov2 = []\n",
    "mov2 = list(movie_map.keys())"
   ]
  },
  {
   "cell_type": "code",
   "execution_count": 60,
   "metadata": {},
   "outputs": [
    {
     "name": "stdout",
     "output_type": "stream",
     "text": [
      "The total number of nodes in the graph: 1663\n"
     ]
    }
   ],
   "source": [
    "#calculating edge weights for weighted undirected movie user graph\n",
    "weighted_undirected_movie_graph = open(\"./FINAL/data/wu_movie_graph.txt\", 'w')\n",
    "p = 0\n",
    "counter = 0\n",
    "print(\"The total number of nodes in the graph:\",len(mov1))\n",
    "while p < len(mov1):\n",
    "    mov1_id = mov1[p]\n",
    "    mov1_users = movie_map[mov1_id]\n",
    "    q = p + 1\n",
    "    while q < len(mov2):\n",
    "        mov2_id = mov2[q]\n",
    "        mov2_users = movie_map[mov2_id]\n",
    "        overlap_actors = set(mov1_users) & set(mov2_users)\n",
    "        if(len(overlap_actors) > 0):\n",
    "            #calculating jaccard index as edge weight\n",
    "            jaccard_index = decimal.Decimal(len(overlap_actors) * 100)/(decimal.Decimal(len(mov1_users) + len(mov2_users) - len(overlap_actors)))\n",
    "            weighted_undirected_movie_graph.write(str(mov1_id) + \"\\t\" + str(mov2_id) + \"\\t\" + str(jaccard_index) + \"\\n\")\n",
    "            counter = counter + 1\n",
    "        q = q + 1\n",
    "    p = p + 1"
   ]
  },
  {
   "cell_type": "markdown",
   "metadata": {},
   "source": [
    "#### End performing graph computations"
   ]
  },
  {
   "cell_type": "markdown",
   "metadata": {},
   "source": [
    "#### Call R script for weighted undirected movie network: WU_movie"
   ]
  },
  {
   "cell_type": "code",
   "execution_count": 61,
   "metadata": {},
   "outputs": [],
   "source": [
    "#creating user_id - pagerank dictionary\n",
    "pg_reader = open(\"./FINAL/data/top943userpg.txt\", \"r\")\n",
    "page_rank = {}\n",
    "for row in pg_reader.readlines():\n",
    "    content = row.strip().split('\\t')\n",
    "    content[0] = content[0].strip('\"\"')\n",
    "    page_rank[content[0]] = float(ast.literal_eval(content[1]))\n",
    "\n",
    "#getting list of all user_id numbers\n",
    "u_id = []\n",
    "for key in um_dict.keys():\n",
    "    usr = key\n",
    "    u_id.append(usr)"
   ]
  },
  {
   "cell_type": "code",
   "execution_count": 62,
   "metadata": {},
   "outputs": [],
   "source": [
    "#building unordered set with unique user_id\n",
    "page_rank = {int(k):float(v) for k, v in page_rank.items()}\n",
    "u_id = np.ravel(np.ravel(np.array(u_id))) #flattened array\n",
    "u_id = set(u_id)"
   ]
  },
  {
   "cell_type": "code",
   "execution_count": 63,
   "metadata": {},
   "outputs": [],
   "source": [
    "#building movie - pageranks of users that rated that movie dictionary\n",
    "output = {}\n",
    "for key in um_dict.keys():\n",
    "    usr = key\n",
    "    mvs = um_dict[usr]\n",
    "    pgval = page_rank[usr]\n",
    "    for any in mvs:\n",
    "        if any not in output:\n",
    "            output[any] = []\n",
    "        output[any].append(pgval)\n",
    "#len(page_rank)\n",
    "#len(output)"
   ]
  },
  {
   "cell_type": "code",
   "execution_count": 64,
   "metadata": {},
   "outputs": [
    {
     "name": "stdout",
     "output_type": "stream",
     "text": [
      "The total number of pg values are: 99991\n",
      "The min number of pg values are: 1\n",
      "The max number of pg values are: 583\n"
     ]
    }
   ],
   "source": [
    "#checking number of pagerank values in movie - pageranks of users dictionary\n",
    "nu = 0\n",
    "for i in output.keys():\n",
    "    nu = nu + len(output[i])\n",
    "print(\"The total number of pg values are:\", nu)\n",
    "nuumin = 583\n",
    "nuumax = 0\n",
    "#length of pg values for each user- find max\n",
    "for i in output.keys():\n",
    "    if len(output[i]) < nuumin:\n",
    "        nuumin = len(output[i])\n",
    "    if len(output[i]) > nuumax:\n",
    "        nuumax = len(output[i])\n",
    "#might not be equal to number of users since one user could have rated more than one movie\n",
    "print(\"The min number of pg values are:\", nuumin)\n",
    "print(\"The max number of pg values are:\", nuumax)"
   ]
  },
  {
   "cell_type": "code",
   "execution_count": 65,
   "metadata": {},
   "outputs": [],
   "source": [
    "#creating output file with top 5 pageranks of each movie\n",
    "ouputFile = open('./FINAL/data/features/movie_pageranks_top5.txt',\"w\")\n",
    "for movie in output.keys():\n",
    "    pagerankVal = output[movie]\n",
    "    pagerankVal.sort(reverse=True)\n",
    "    strPgRnk =\"\"\n",
    "    for val in range(0,5):#specifies number of (top) pagerank values to be taken (since sorted in decreasing order)\n",
    "        if(val< len(pagerankVal)):\n",
    "            y = pagerankVal[val]\n",
    "            strPgRnk = strPgRnk+str(y)+\"\\t\"\n",
    "        else:\n",
    "            strPgRnk = strPgRnk+\"0\"+\"\\t\"\n",
    "    final = movie+\"\\t\"+strPgRnk+\"\\n\"\n",
    "    ouputFile.write(final)"
   ]
  },
  {
   "cell_type": "code",
   "execution_count": 66,
   "metadata": {},
   "outputs": [],
   "source": [
    "#saving to file\n",
    "ratings = pd.read_csv('./FINAL/data/movie_avg_rating_processed.txt', sep='\\t', names=['movie_title','rating'],encoding='latin-1')\n",
    "ratings = ratings.drop(ratings.index[0])\n",
    "#ratings"
   ]
  },
  {
   "cell_type": "code",
   "execution_count": 67,
   "metadata": {},
   "outputs": [],
   "source": [
    "#creating movie - avg. rating dictionary\n",
    "mrate = {}\n",
    "for val in range(1,len(ratings)):\n",
    "    mrate[ratings.loc[val,'movie_title']] = ratings.loc[val,'rating']\n",
    "#mrate"
   ]
  },
  {
   "cell_type": "code",
   "execution_count": 68,
   "metadata": {},
   "outputs": [],
   "source": [
    "#converting the above dict to DF\n",
    "mrate_df = pd.DataFrame(list(mrate.items()), columns=['movie_title', 'rating'])\n",
    "#mrate_df"
   ]
  },
  {
   "cell_type": "code",
   "execution_count": 69,
   "metadata": {},
   "outputs": [],
   "source": [
    "#sorting movies by rating in descending order\n",
    "d_sorted_by_value = OrderedDict(sorted(mrate.items(), key=lambda x: x[1], reverse=True))\n",
    "#d_sorted_by_value"
   ]
  },
  {
   "cell_type": "code",
   "execution_count": 70,
   "metadata": {},
   "outputs": [],
   "source": [
    "#getting top 100 movies in terms of avg. rating\n",
    "top100 = dict(islice(d_sorted_by_value.items(), 100))\n",
    "top100_movies = top100.keys()\n",
    "#top100"
   ]
  },
  {
   "cell_type": "code",
   "execution_count": 71,
   "metadata": {},
   "outputs": [],
   "source": [
    "#creating user - avg. rating by the user for all its movies dictionary\n",
    "for key in mrate.keys():\n",
    "    mrate[key] = float(mrate[key])\n",
    "\n",
    "user_rating = {}\n",
    "i = 0\n",
    "for u in um_dict.keys():\n",
    "    #print i\n",
    "    v = []\n",
    "    for m in um_dict[u]:\n",
    "        if m in mrate.keys():\n",
    "            v.append(mrate[m])\n",
    "    user_rating[u] = sum(v)/len(v)\n",
    "    i += 1\n",
    "#user_rating"
   ]
  },
  {
   "cell_type": "code",
   "execution_count": 72,
   "metadata": {},
   "outputs": [],
   "source": [
    "#creating movie - avg. rating by all the users that have reviewed that movie dictionary\n",
    "movie_to_actor_rating = {}\n",
    "i = 0\n",
    "for m in mrate.keys():\n",
    "    v = []\n",
    "    for u in movie_map[m]:\n",
    "        v.append(float(user_rating[u]))#a[1:-1]]))\n",
    "    movie_to_actor_rating[m] = sorted(v,reverse=True)#[:5]\n",
    "    i += 1\n",
    "#movie_to_actor_rating"
   ]
  },
  {
   "cell_type": "code",
   "execution_count": 73,
   "metadata": {},
   "outputs": [],
   "source": [
    "#creatig a movie - timespan dictionary \n",
    "md_reader = open('./FINAL/data/features/movie_timespan.txt', 'r')\n",
    "\n",
    "movies_timespan = {}\n",
    "movies = []\n",
    "tsp = []\n",
    "i = 1\n",
    "for md in md_reader:\n",
    "    content = md.strip().split(\"\\t\")\n",
    "    for x in content:\n",
    "        movies.append(content[0])\n",
    "        tsp.append(content[1])\n",
    "    i += 1\n",
    "movies_tsp = dict(zip(movies, tsp))\n",
    "#movies_tsp"
   ]
  },
  {
   "cell_type": "code",
   "execution_count": 74,
   "metadata": {},
   "outputs": [],
   "source": [
    "#converting the above dict to DF\n",
    "tsp_df = pd.DataFrame(list(movies_tsp.items()), columns=['movie_title', 'timespan'])\n",
    "#tsp_df"
   ]
  },
  {
   "cell_type": "code",
   "execution_count": 75,
   "metadata": {},
   "outputs": [],
   "source": [
    "#creating DF with top 5 pageranks for users that rated that movie\n",
    "df = pd.read_csv('./FINAL/data/movie_pageranks.txt', sep=\"\\t\", encoding='latin-1',header = None, names = ['movie_title','pg1','pg2','pg3','pg4','pg5','pg6','rating'])#,'Timespan'])\n",
    "df['rating'] = 0\n",
    "fdf = tsp_df.merge(df, left_on='movie_title', right_on='movie_title', how='inner')"
   ]
  },
  {
   "cell_type": "code",
   "execution_count": 76,
   "metadata": {},
   "outputs": [],
   "source": [
    "#converting timespan to integer type\n",
    "fdf['timespan'] = fdf['timespan'].astype('int64')\n",
    "fdf = fdf.drop(fdf.columns[7], axis=1) #dropping pg6 since empty\n",
    "#fdf"
   ]
  },
  {
   "cell_type": "code",
   "execution_count": 77,
   "metadata": {},
   "outputs": [],
   "source": [
    "#filling up rating column of fdf\n",
    "tsps = []\n",
    "movies = []\n",
    "nrows = fdf.shape[0]\n",
    "for i in range(0,nrows):\n",
    "    movie = df.iloc[i,0]\n",
    "    if movie in mrate:\n",
    "        #print(\"yo\")\n",
    "        fdf.iloc[i,7] = mrate[movie]\n",
    "#fdf.info()"
   ]
  },
  {
   "cell_type": "code",
   "execution_count": 78,
   "metadata": {},
   "outputs": [],
   "source": [
    "#dropping NA values in fdf\n",
    "fdf = fdf.dropna() \n",
    "#fdf"
   ]
  },
  {
   "cell_type": "markdown",
   "metadata": {},
   "source": [
    "The baseline model is trained on- age, gender, occupation, genres. Since gender and occupation are categorical features, they are one-hot encoded below."
   ]
  },
  {
   "cell_type": "code",
   "execution_count": 79,
   "metadata": {},
   "outputs": [],
   "source": [
    "#preparing base feature DF\n",
    "mrgr = um.merge(moviesG, left_on='movie_id', right_on='movie_id', how='inner')\n",
    "mergedd = mrgr.merge(users, left_on='user_id', right_on='user_id', how='inner')\n",
    "rqdc = ['user_id','movie_title','age','occupation','gender']+genres#+['rating']\n",
    "bline = mergedd[rqdc]\n",
    "#keeping non-empty values\n",
    "bline = bline[bline['gender'] != 'empty']\n",
    "bline = bline[bline['occupation'] != 'empty']\n",
    "#using one-hot encoding for categorical features like gender(M/F), occupation\n",
    "bline['occupation'] = bline['occupation'].astype('category')\n",
    "bline['gender'] = bline['gender'].astype('category')\n",
    "one_hot_occ = bline.occupation.str.get_dummies()\n",
    "bline = bline.drop('occupation',axis=1)\n",
    "bline = bline.join(one_hot_occ,how='inner')\n",
    "one_hot_g = bline.gender.str.get_dummies()\n",
    "bline = bline.drop('gender',axis=1)\n",
    "bline = bline.join(one_hot_g,how='inner')\n",
    "bbline = bline.merge(avgDictdf, left_on='movie_title', right_on='movie_title', how='inner')\n",
    "bbline = bbline.drop('user_id',axis=1)\n",
    "#bline"
   ]
  },
  {
   "cell_type": "markdown",
   "metadata": {},
   "source": [
    "The new features that are added are: \n",
    "1. timespan between movie release and review date\n",
    "2. pageranks of the top 5 users that have rated that movie"
   ]
  },
  {
   "cell_type": "code",
   "execution_count": 80,
   "metadata": {},
   "outputs": [],
   "source": [
    "#preparing feature DF including engineered features\n",
    "fdf = fdf.drop('rating',axis=1)\n",
    "fdff = fdf.merge(bbline, left_on='movie_title', right_on='movie_title', how='inner') "
   ]
  },
  {
   "cell_type": "code",
   "execution_count": 81,
   "metadata": {},
   "outputs": [],
   "source": [
    "#splitting into test and train data\n",
    "X = fdff.iloc[:,1:50]#:,1:50]#0:len(fdf),1:7]\n",
    "y = fdff.iloc[:,50:]#:,50:]#0:len(fdf),7:]\n",
    "X_train, X_test, y_train, y_test = train_test_split(X, y, \n",
    "test_size=0.20, random_state=0)"
   ]
  },
  {
   "cell_type": "code",
   "execution_count": 82,
   "metadata": {},
   "outputs": [
    {
     "name": "stdout",
     "output_type": "stream",
     "text": [
      "prediction for Little Buddha (1993)\n",
      "[ 3.99145299]\n",
      "prediction for Little Big League (1994)\n",
      "[ 3.5532394]\n",
      "prediction for Metro (1997)\n",
      "[ 3.74587459]\n"
     ]
    }
   ],
   "source": [
    "############################## Baseline Modelling (without engineered features) #################################\n",
    "xb_train = bbline.iloc[0:1000,1:44]\n",
    "yb_train = bbline.iloc[0:1000,44:]\n",
    "rcl = tree.DecisionTreeRegressor()\n",
    "rclf = rcl.fit(xb_train, yb_train)\n",
    "for i in range(1, len(bbline)):\n",
    "    movie = bbline.iloc[i, 0]\n",
    "    if(movie == 'Little Buddha (1993)'):\n",
    "        mov1_feature = bbline.iloc[i,1:44]\n",
    "    if(movie == 'Little Big League (1994)'):\n",
    "        mov2_feature = bbline.iloc[i,1:44]\n",
    "    if (movie == 'Metro (1997)'):\n",
    "        mov3_feature = bbline.iloc[i, 1:44]\n",
    "#predicting rating for some movies\n",
    "print(\"prediction for Little Buddha (1993)\")\n",
    "print(rclf.predict([mov1_feature]))\n",
    "print(\"prediction for Little Big League (1994)\")\n",
    "print(rclf.predict([mov2_feature]))\n",
    "print(\"prediction for Metro (1997)\")\n",
    "print(rclf.predict([mov3_feature]))"
   ]
  },
  {
   "cell_type": "code",
   "execution_count": 135,
   "metadata": {},
   "outputs": [
    {
     "name": "stdout",
     "output_type": "stream",
     "text": [
      "score:  0.346443585594\n",
      "\n",
      "\n"
     ]
    }
   ],
   "source": [
    "#getting accuracy scores\n",
    "print(\"score: \",(model.score(X_train, y_train)))\n",
    "print(\"\\n\")"
   ]
  },
  {
   "cell_type": "code",
   "execution_count": 102,
   "metadata": {},
   "outputs": [
    {
     "name": "stdout",
     "output_type": "stream",
     "text": [
      "prediction for Little Buddha (1993)\n",
      "[[ 3.43663628]]\n",
      "prediction for Little Big League (1994)\n",
      "[[ 2.5772907]]\n",
      "prediction for Metro (1997)\n",
      "[[ 3.16664091]]\n",
      "\n",
      "\n"
     ]
    }
   ],
   "source": [
    "############################## Linear Regression #################################\n",
    "regr = linear_model.LinearRegression()\n",
    "model = regr.fit(X_train, y_train)\n",
    "for i in range(1, len(fdff)):\n",
    "    movie = fdff.iloc[i, 0]\n",
    "    if(movie == 'Little Buddha (1993)'):\n",
    "        mov1_feature = fdff.iloc[i,1:50]\n",
    "    if(movie == 'Little Big League (1994)'):\n",
    "        mov2_feature = fdff.iloc[i,1:50]\n",
    "    if (movie == 'Metro (1997)'):\n",
    "        mov3_feature = fdff.iloc[i, 1:50]\n",
    "\n",
    "#predicting rating for same set of movies\n",
    "print(\"prediction for Little Buddha (1993)\")\n",
    "print(regr.predict([mov1_feature]))\n",
    "print(\"prediction for Little Big League (1994)\")\n",
    "print(regr.predict([mov2_feature]))\n",
    "print(\"prediction for Metro (1997)\")\n",
    "print(regr.predict([mov3_feature]))\n",
    "print(\"\\n\")"
   ]
  },
  {
   "cell_type": "code",
   "execution_count": 127,
   "metadata": {},
   "outputs": [
    {
     "data": {
      "text/plain": [
       "Text(0.5,1,'Linear Regression Model')"
      ]
     },
     "execution_count": 127,
     "metadata": {},
     "output_type": "execute_result"
    },
    {
     "data": {
      "image/png": "[encoded data removed]",
      "text/plain": [
       "<matplotlib.figure.Figure at 0x19ed5b656d8>"
      ]
     },
     "metadata": {},
     "output_type": "display_data"
    }
   ],
   "source": [
    "#plotting true values v/s predictions of linear regression (top 100 values)\n",
    "predictions = regr.predict(X_test)\n",
    "plt.scatter(y_test[0:100], predictions[0:100])\n",
    "plt.xlabel('True Values')\n",
    "plt.ylabel('Predictions')\n",
    "plt.title('Linear Regression Model')"
   ]
  },
  {
   "cell_type": "code",
   "execution_count": 121,
   "metadata": {},
   "outputs": [
    {
     "name": "stdout",
     "output_type": "stream",
     "text": [
      "cross validation scores: \n",
      " [ 0.34028047  0.37086327  0.31849793  0.32726282  0.34128561  0.33365316\n",
      "  0.36486928  0.34915655  0.3538425   0.35127401]\n",
      "score without cv: 0.3464435855937428\n",
      "\n",
      "\n"
     ]
    }
   ],
   "source": [
    "#performing 10-fold CV and getting accuracy scores\n",
    "lr_scores = cross_val_score(model, X_train, y_train, cv = 10)\n",
    "print(\"cross validation scores: \\n\",lr_scores)\n",
    "print(\"score without cv: {}\".format(model.score(X_train, y_train)))\n",
    "print(\"\\n\")"
   ]
  },
  {
   "cell_type": "code",
   "execution_count": 128,
   "metadata": {
    "scrolled": true
   },
   "outputs": [
    {
     "name": "stdout",
     "output_type": "stream",
     "text": [
      "prediction for Little Buddha (1993)\n",
      "[ 3.31818182]\n",
      "prediction for Little Big League (1994)\n",
      "[ 2.875]\n",
      "prediction for Metro (1997)\n",
      "[ 2.91666667]\n",
      "\n",
      "\n"
     ]
    }
   ],
   "source": [
    "############################## Decision Tree #################################\n",
    "dtr = tree.DecisionTreeRegressor()\n",
    "dtm = dtr.fit(X_train, y_train)\n",
    "for i in range(1, len(fdff)):\n",
    "    movie = fdff.iloc[i, 0]\n",
    "    if(movie == 'Little Buddha (1993)'):\n",
    "        mov1_feature = fdff.iloc[i,1:50]\n",
    "    if(movie == 'Little Big League (1994)'):\n",
    "        mov2_feature = fdff.iloc[i,1:50]\n",
    "    if (movie == 'Metro (1997)'):\n",
    "        mov3_feature = fdff.iloc[i, 1:50]\n",
    "\n",
    "#predicting rating for same set of movies\n",
    "print(\"prediction for Little Buddha (1993)\")\n",
    "print(dtr.predict([mov1_feature]))\n",
    "print(\"prediction for Little Big League (1994)\")\n",
    "print(dtr.predict([mov2_feature]))\n",
    "print(\"prediction for Metro (1997)\")\n",
    "print(dtr.predict([mov3_feature]))\n",
    "print(\"\\n\")"
   ]
  },
  {
   "cell_type": "code",
   "execution_count": 129,
   "metadata": {},
   "outputs": [
    {
     "name": "stdout",
     "output_type": "stream",
     "text": [
      "cross validation scores: \n",
      " [ 0.95904142  0.95993954  0.96006499  0.95271631  0.96080743  0.95839962\n",
      "  0.95652143  0.95568772  0.9603449   0.95416337]\n",
      "score without cv: 0.9886007071924332\n",
      "\n",
      "\n"
     ]
    }
   ],
   "source": [
    "#performing 10-fold CV and getting accuracy scores\n",
    "dt_scores = cross_val_score(dtm, X_train, y_train, cv = 10)\n",
    "print(\"cross validation scores: \\n\",dt_scores)\n",
    "print(\"score without cv: {}\".format(dtm.score(X_train, y_train)))\n",
    "print(\"\\n\")"
   ]
  },
  {
   "cell_type": "markdown",
   "metadata": {},
   "source": [
    "Above, we see that the Decision Tree model performs better than the Linear Regression model. It has higher cross validation scores and gives accurate prediction for the ratings of the three movies taken above (with their actual average ratings being very close to the predictions by the DT model). In comparison to the baseline model, both LR and DT have done a good job in predicting the movie ratings and that feature engineering has been useful in bumping up the accuracy from 36.4% to about 98% after cross-validation using the DT model."
   ]
  }
 ],
 "metadata": {
  "kernelspec": {
   "display_name": "Python [conda root]",
   "language": "python",
   "name": "conda-root-py"
  },
  "language_info": {
   "codemirror_mode": {
    "name": "ipython",
    "version": 3
   },
   "file_extension": ".py",
   "mimetype": "text/x-python",
   "name": "python",
   "nbconvert_exporter": "python",
   "pygments_lexer": "ipython3",
   "version": "3.6.3"
  }
 },
 "nbformat": 4,
 "nbformat_minor": 2
}
